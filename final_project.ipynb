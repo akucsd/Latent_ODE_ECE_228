{
 "cells": [
  {
   "cell_type": "code",
   "execution_count": 3,
   "metadata": {},
   "outputs": [],
   "source": [
    "import torch\n",
    "import os\n",
    "from mujoco_physics import HopperPhysics\n",
    "import cv2\n",
    "import glob"
   ]
  },
  {
   "cell_type": "markdown",
   "metadata": {},
   "source": [
    "# Rendering the Ground Truth\n",
    "\n",
    "Enter the path to the pt file here in the data_path variable"
   ]
  },
  {
   "cell_type": "code",
   "execution_count": 2,
   "metadata": {},
   "outputs": [],
   "source": [
    "data_path= r\"C:\\Users\\msi\\Desktop\\ECE-228\\Project\\latent_ode_ece_228\\data\\HopperPhysics\\training.pt\""
   ]
  },
  {
   "cell_type": "code",
   "execution_count": 3,
   "metadata": {},
   "outputs": [
    {
     "name": "stdout",
     "output_type": "stream",
     "text": [
      "Dataset loaded successfully!\n"
     ]
    }
   ],
   "source": [
    "dataset = torch.load(data_path)\n",
    "print(\"Dataset loaded successfully!\")"
   ]
  },
  {
   "cell_type": "code",
   "execution_count": 4,
   "metadata": {},
   "outputs": [],
   "source": [
    "output_dir_gt = 'ground_truth'\n",
    "os.makedirs(output_dir_gt, exist_ok=True)"
   ]
  },
  {
   "cell_type": "code",
   "execution_count": 5,
   "metadata": {},
   "outputs": [],
   "source": [
    "hopper = HopperPhysics(root='data', download=False, generate=False)"
   ]
  },
  {
   "cell_type": "markdown",
   "metadata": {},
   "source": [
    "Select a trajectory to render (variable: traj_index)"
   ]
  },
  {
   "cell_type": "code",
   "execution_count": 6,
   "metadata": {},
   "outputs": [
    {
     "name": "stdout",
     "output_type": "stream",
     "text": [
      "Selected trajectory index: 10\n"
     ]
    }
   ],
   "source": [
    "traj_index = 10\n",
    "trajectory =dataset[traj_index]\n",
    "if not isinstance(trajectory, torch.Tensor):\n",
    "    trajectory = torch.Tensor(trajectory)\n",
    "print(f\"Selected trajectory index: {traj_index}\")"
   ]
  },
  {
   "cell_type": "code",
   "execution_count": 7,
   "metadata": {},
   "outputs": [
    {
     "name": "stdout",
     "output_type": "stream",
     "text": [
      "Trajectory 10 rendered and saved in ground_truth\n"
     ]
    }
   ],
   "source": [
    "hopper.visualize(trajectory, plot_name=f'traj_{traj_index}_true', dirname=output_dir_gt)\n",
    "print(f\"Trajectory {traj_index} rendered and saved in {output_dir_gt}\")"
   ]
  },
  {
   "cell_type": "code",
   "execution_count": 31,
   "metadata": {},
   "outputs": [],
   "source": [
    "def frames_to_video(frames_dir, output_video_path, fps=30):\n",
    "    frames = sorted(glob.glob(os.path.join(frames_dir, \"*.jpg\")))\n",
    "\n",
    "    frame = cv2.imread(frames[0])\n",
    "    height, width, layers = frame.shape\n",
    "\n",
    "    fourcc = cv2.VideoWriter_fourcc(*'XVID')\n",
    "    video = cv2.VideoWriter(output_video_path, fourcc, fps, (width, height))\n",
    "\n",
    "    for frame_file in frames:\n",
    "        frame = cv2.imread(frame_file)\n",
    "        video.write(frame)\n",
    "\n",
    "    video.release()\n",
    "\n",
    "    print(f\"Video saved as {output_video_path}\")"
   ]
  },
  {
   "cell_type": "code",
   "execution_count": 10,
   "metadata": {},
   "outputs": [
    {
     "name": "stdout",
     "output_type": "stream",
     "text": [
      "Video saved as ground_truth/ground_truth.mp4\n"
     ]
    }
   ],
   "source": [
    "output_vid_gt=r\"ground_truth/ground_truth.mp4\"\n",
    "frames_to_video(output_dir_gt,output_vid_gt)"
   ]
  },
  {
   "cell_type": "markdown",
   "metadata": {},
   "source": [
    "# Training the Model"
   ]
  },
  {
   "cell_type": "code",
   "execution_count": 4,
   "metadata": {},
   "outputs": [],
   "source": [
    "import torch.optim as optim\n",
    "from torch.distributions.normal import Normal\n",
    "import numpy as np\n",
    "import time \n",
    "from random import SystemRandom\n",
    "\n",
    "import lib.utils as utils\n",
    "from lib.create_latent_ode_model import create_LatentODE_model\n",
    "from lib.parse_datasets import parse_datasets\n",
    "from lib.utils import compute_loss_all_batches, get_next_batch, makedirs, get_logger\n",
    "\n",
    "from lib.rnn_baselines import *\n",
    "from lib.ode_rnn import *\n",
    "from lib.create_latent_ode_model import create_LatentODE_model\n",
    "from lib.parse_datasets import parse_datasets\n",
    "from lib.ode_func import ODEFunc, ODEFunc_w_Poisson\n",
    "from lib.diffeq_solver import DiffeqSolver\n",
    "from mujoco_physics import HopperPhysics\n",
    "from lib.latent_ode import LatentODE\n"
   ]
  },
  {
   "cell_type": "code",
   "execution_count": 5,
   "metadata": {},
   "outputs": [
    {
     "data": {
      "text/plain": [
       "device(type='cuda', index=0)"
      ]
     },
     "execution_count": 5,
     "metadata": {},
     "output_type": "execute_result"
    }
   ],
   "source": [
    "device = torch.device(\"cuda:0\" if torch.cuda.is_available() else \"cpu\")\n",
    "device"
   ]
  },
  {
   "cell_type": "code",
   "execution_count": 6,
   "metadata": {},
   "outputs": [],
   "source": [
    "class Args:\n",
    "    def __init__(self, **kwargs):\n",
    "        self.__dict__.update(kwargs)"
   ]
  },
  {
   "cell_type": "markdown",
   "metadata": {},
   "source": [
    "Make changes to all the input args here"
   ]
  },
  {
   "cell_type": "code",
   "execution_count": 7,
   "metadata": {},
   "outputs": [],
   "source": [
    "args = Args(\n",
    "    n=10000,  # Size of the dataset\n",
    "    niters=100,\n",
    "    lr=1e-2,  # Starting learning rate\n",
    "    batch_size=50,\n",
    "    viz=False,  # Show plots while training\n",
    "    save='experiments/',  # Path to save checkpoints\n",
    "    load=None,  # ID of the experiment to load for evaluation. If None, run a new experiment\n",
    "    random_seed=1991,  # Random seed\n",
    "    dataset='hopper',  # Dataset to load\n",
    "    sample_tp=None,  # Number of time points to sub-sample\n",
    "    cut_tp=None,  # Cut out the section of the timeline\n",
    "    quantization=0.1,  # Quantization on the physionet dataset\n",
    "    latent_ode=True,  # Run Latent ODE seq2seq model\n",
    "    z0_encoder='odernn',  # Type of encoder for Latent ODE model\n",
    "    classic_rnn=False,  # Run RNN baseline\n",
    "    rnn_cell=\"gru\",  # RNN Cell type\n",
    "    input_decay=False,  # For RNN: use the input that is the weighted average of empirical mean and previous value\n",
    "    ode_rnn=False,  # Run ODE-RNN baseline\n",
    "    rnn_vae=False,  # Run RNN baseline: seq2seq model with sampling of the h0 and ELBO loss\n",
    "    latents=15,  # Size of the latent state\n",
    "    rec_dims=30,  # Dimensionality of the recognition model\n",
    "    rec_layers=3,  # Number of layers in ODE func in recognition ODE\n",
    "    gen_layers=3,  # Number of layers in ODE func in generative ODE\n",
    "    units=300,  # Number of units per layer in ODE func\n",
    "    gru_units=100,  # Number of units per layer in each of GRU update networks\n",
    "    poisson=False,  # Model poisson-process likelihood for the density of events in addition to reconstruction\n",
    "    classif=False,  # Include binary classification loss\n",
    "    linear_classif=False,  # Use a linear classifier instead of 1-layer NN\n",
    "    extrap=False,  # Set extrapolation mode\n",
    "    timepoints=100,  # Total number of time-points\n",
    "    max_t=5.0,  # Subsample points in the interval [0, args.max_t]\n",
    "    noise_weight=0.01  # Noise amplitude for generated trajectories\n",
    ")\n",
    "file_name = \"run_models\"\n",
    "makedirs(args.save)"
   ]
  },
  {
   "cell_type": "code",
   "execution_count": 8,
   "metadata": {},
   "outputs": [
    {
     "name": "stdout",
     "output_type": "stream",
     "text": [
      "Sampling dataset of 10000 training examples\n",
      "Checkpoint path: experiments/experiment_10006.ckpt\n",
      "Time taken for setup: 0.0009577274322509766 seconds\n",
      "Input command: run_models.py --n 10000 --niters 100 --lr 0.01 --batch_size 50 --viz False --save experiments/ --random_seed 1991 --dataset hopper --latent_ode True --z0_encoder odernn --latents 15 --rec_dims 30 --rec_layers 3 --gen_layers 3 --units 300 --gru_units 100 --timepoints 100 --max_t 5.0 --noise_weight 0.01 --extrap False\n"
     ]
    }
   ],
   "source": [
    "torch.manual_seed(args.random_seed)\n",
    "np.random.seed(args.random_seed)\n",
    "\n",
    "experimentID = args.load\n",
    "if experimentID is None:\n",
    "\t# Make a new experiment ID\n",
    "\texperimentID = int(SystemRandom().random()*100000)\n",
    "ckpt_path = os.path.join(args.save, \"experiment_\" + str(experimentID) + '.ckpt')\n",
    "\n",
    "start = time.time()\n",
    "print(\"Sampling dataset of {} training examples\".format(args.n))\n",
    "\n",
    "input_command = f\"run_models.py --n {args.n} --niters {args.niters} --lr {args.lr} --batch_size {args.batch_size} \" \\\n",
    "                f\"--viz {args.viz} --save {args.save} --random_seed {args.random_seed} --dataset {args.dataset} \" \\\n",
    "                f\"--latent_ode {args.latent_ode} --z0_encoder {args.z0_encoder} --latents {args.latents} \" \\\n",
    "                f\"--rec_dims {args.rec_dims} --rec_layers {args.rec_layers} --gen_layers {args.gen_layers} \" \\\n",
    "                f\"--units {args.units} --gru_units {args.gru_units} --timepoints {args.timepoints} --max_t {args.max_t} \" \\\n",
    "                f\"--noise_weight {args.noise_weight} --extrap {args.extrap}\"\n",
    "\n",
    "if args.load:\n",
    "\tinput_command += f\" --load {args.load}\"\n",
    "\n",
    "makedirs(\"results/\")\n",
    "    \n",
    "print(f\"Checkpoint path: {ckpt_path}\")\n",
    "print(f\"Time taken for setup: {time.time() - start} seconds\")\n",
    "print(f\"Input command: {input_command}\")"
   ]
  },
  {
   "cell_type": "code",
   "execution_count": 9,
   "metadata": {},
   "outputs": [
    {
     "name": "stdout",
     "output_type": "stream",
     "text": [
      "Input dimension: 14\n"
     ]
    }
   ],
   "source": [
    "data_obj = parse_datasets(args, device)\n",
    "input_dim = data_obj[\"input_dim\"]\n",
    "\t\n",
    "print(f\"Input dimension: {input_dim}\")\n",
    "\n",
    "classif_per_tp = False\n",
    "if (\"classif_per_tp\" in data_obj):\n",
    "\t\t# do classification per time point rather than on a time series as a whole\n",
    "\t\tclassif_per_tp = data_obj[\"classif_per_tp\"]\n",
    "\n",
    "if args.classif and (args.dataset == \"hopper\" or args.dataset == \"periodic\"):\n",
    "\t\traise Exception(\"Classification task is not available for MuJoCo and 1d datasets\")\n",
    "\n",
    "n_labels = 1\n",
    "if args.classif:\n",
    "\tif (\"n_labels\" in data_obj):\n",
    "\t\tn_labels = data_obj[\"n_labels\"]\n",
    "\telse:\n",
    "\t\traise Exception(\"Please provide number of labels for classification task\")"
   ]
  },
  {
   "cell_type": "code",
   "execution_count": 10,
   "metadata": {},
   "outputs": [],
   "source": [
    "obsrv_std = 1e-3 \n",
    "obsrv_std = torch.Tensor([obsrv_std]).to(device)\n",
    "z0_prior = Normal(torch.Tensor([0.0]).to(device), torch.Tensor([1.]).to(device))"
   ]
  },
  {
   "cell_type": "markdown",
   "metadata": {},
   "source": [
    "# Model Initialization"
   ]
  },
  {
   "cell_type": "code",
   "execution_count": 11,
   "metadata": {},
   "outputs": [],
   "source": [
    "if args.rnn_vae:\n",
    "\t\tif args.poisson:\n",
    "\t\t\tprint(\"Poisson process likelihood not implemented for RNN-VAE: ignoring --poisson\")\n",
    "\n",
    "\t\t# Create RNN-VAE model\n",
    "\t\tmodel = RNN_VAE(input_dim, args.latents, \n",
    "\t\t\tdevice = device, \n",
    "\t\t\trec_dims = args.rec_dims, \n",
    "\t\t\tconcat_mask = True, \n",
    "\t\t\tobsrv_std = obsrv_std,\n",
    "\t\t\tz0_prior = z0_prior,\n",
    "\t\t\tuse_binary_classif = args.classif,\n",
    "\t\t\tclassif_per_tp = classif_per_tp,\n",
    "\t\t\tlinear_classifier = args.linear_classif,\n",
    "\t\t\tn_units = args.units,\n",
    "\t\t\tinput_space_decay = args.input_decay,\n",
    "\t\t\tcell = args.rnn_cell,\n",
    "\t\t\tn_labels = n_labels,\n",
    "\t\t\ttrain_classif_w_reconstr = (args.dataset == \"physionet\")\n",
    "\t\t\t).to(device)\n",
    "elif args.classic_rnn:\n",
    "\t\tif args.poisson:\n",
    "\t\t\tprint(\"Poisson process likelihood not implemented for RNN: ignoring --poisson\")\n",
    "\n",
    "\t\tif args.extrap:\n",
    "\t\t\traise Exception(\"Extrapolation for standard RNN not implemented\")\n",
    "\t\t# Create RNN model\n",
    "\t\tmodel = Classic_RNN(input_dim, args.latents, device, \n",
    "\t\t\tconcat_mask = True, obsrv_std = obsrv_std,\n",
    "\t\t\tn_units = args.units,\n",
    "\t\t\tuse_binary_classif = args.classif,\n",
    "\t\t\tclassif_per_tp = classif_per_tp,\n",
    "\t\t\tlinear_classifier = args.linear_classif,\n",
    "\t\t\tinput_space_decay = args.input_decay,\n",
    "\t\t\tcell = args.rnn_cell,\n",
    "\t\t\tn_labels = n_labels,\n",
    "\t\t\ttrain_classif_w_reconstr = (args.dataset == \"physionet\")\n",
    "\t\t\t).to(device)\n",
    "elif args.ode_rnn:\n",
    "\t\t# Create ODE-GRU model\n",
    "\t\tn_ode_gru_dims = args.latents\n",
    "\t\t\t\t\n",
    "\t\tif args.poisson:\n",
    "\t\t\tprint(\"Poisson process likelihood not implemented for ODE-RNN: ignoring --poisson\")\n",
    "\n",
    "\t\tif args.extrap:\n",
    "\t\t\traise Exception(\"Extrapolation for ODE-RNN not implemented\")\n",
    "\n",
    "\t\tode_func_net = utils.create_net(n_ode_gru_dims, n_ode_gru_dims, \n",
    "\t\t\tn_layers = args.rec_layers, n_units = args.units, nonlinear = nn.Tanh)\n",
    "\n",
    "\t\trec_ode_func = ODEFunc(\n",
    "\t\t\tinput_dim = input_dim, \n",
    "\t\t\tlatent_dim = n_ode_gru_dims,\n",
    "\t\t\tode_func_net = ode_func_net,\n",
    "\t\t\tdevice = device).to(device)\n",
    "\n",
    "\t\tz0_diffeq_solver = DiffeqSolver(input_dim, rec_ode_func, \"euler\", args.latents, \n",
    "\t\t\todeint_rtol = 1e-3, odeint_atol = 1e-4, device = device)\n",
    "\t\n",
    "\t\tmodel = ODE_RNN(input_dim, n_ode_gru_dims, device = device, \n",
    "\t\t\tz0_diffeq_solver = z0_diffeq_solver, n_gru_units = args.gru_units,\n",
    "\t\t\tconcat_mask = True, obsrv_std = obsrv_std,\n",
    "\t\t\tuse_binary_classif = args.classif,\n",
    "\t\t\tclassif_per_tp = classif_per_tp,\n",
    "\t\t\tn_labels = n_labels,\n",
    "\t\t\ttrain_classif_w_reconstr = (args.dataset == \"physionet\")\n",
    "\t\t\t).to(device)\n",
    "elif args.latent_ode:\n",
    "\t\tmodel = create_LatentODE_model(args, input_dim, z0_prior, obsrv_std, device, \n",
    "\t\t\tclassif_per_tp = classif_per_tp,\n",
    "\t\t\tn_labels = n_labels)\n",
    "else:\n",
    "\traise Exception(\"Model not specified\")"
   ]
  },
  {
   "cell_type": "markdown",
   "metadata": {},
   "source": [
    "Change the path according to your environment (script_path variable) (Strictly run this only once)"
   ]
  },
  {
   "cell_type": "code",
   "execution_count": 12,
   "metadata": {},
   "outputs": [
    {
     "name": "stderr",
     "output_type": "stream",
     "text": [
      "C:\\Users\\msi\\Desktop\\ECE-228\\Project\\latent_ode_ece_228\n",
      "run_models.py --n 10000 --niters 100 --lr 0.01 --batch_size 50 --viz False --save experiments/ --random_seed 1991 --dataset hopper --latent_ode True --z0_encoder odernn --latents 15 --rec_dims 30 --rec_layers 3 --gen_layers 3 --units 300 --gru_units 100 --timepoints 100 --max_t 5.0 --noise_weight 0.01 --extrap False\n"
     ]
    }
   ],
   "source": [
    "log_path = \"logs/\" + file_name + \"_\" + str(experimentID) + \".log\"\n",
    "if not os.path.exists(\"logs/\"):\n",
    "\tutils.makedirs(\"logs/\")\n",
    "script_path = os.path.abspath(r\"C:\\Users\\msi\\Desktop\\ECE-228\\Project\\latent_ode_ece_228\") \n",
    "\n",
    "logger = get_logger(logpath=log_path, filepath=script_path)\n",
    "logger.info(input_command)"
   ]
  },
  {
   "cell_type": "code",
   "execution_count": 13,
   "metadata": {},
   "outputs": [],
   "source": [
    "optimizer = optim.Adamax(model.parameters(), lr=args.lr)\n",
    "num_batches = data_obj[\"n_train_batches\"]"
   ]
  },
  {
   "cell_type": "code",
   "execution_count": 14,
   "metadata": {},
   "outputs": [
    {
     "name": "stderr",
     "output_type": "stream",
     "text": [
      "c:\\Users\\msi\\anaconda3\\envs\\py310\\lib\\site-packages\\torchdiffeq\\_impl\\misc.py:296: UserWarning: t is not on the same device as y0. Coercing to y0.device.\n",
      "  warnings.warn(\"t is not on the same device as y0. Coercing to y0.device.\")\n"
     ]
    },
    {
     "name": "stdout",
     "output_type": "stream",
     "text": [
      "Computing loss... 0\n"
     ]
    },
    {
     "name": "stderr",
     "output_type": "stream",
     "text": [
      "Experiment 10006\n",
      "Epoch 0001 [Test seq (cond on sampled tp)] | Loss 18766.462891 | Likelihood -18771.664062 | KL fp 4.7836 | FP STD 0.0553|\n",
      "KL coef: 0.0\n",
      "Train loss (one batch): 19246.8828125\n",
      "Train CE loss (one batch): 0.0\n",
      "Test MSE: 0.0376\n",
      "Poisson likelihood: 0.0\n",
      "CE loss: 0.0\n"
     ]
    },
    {
     "name": "stdout",
     "output_type": "stream",
     "text": [
      "Computing loss... 0\n"
     ]
    },
    {
     "name": "stderr",
     "output_type": "stream",
     "text": [
      "Experiment 10006\n",
      "Epoch 0002 [Test seq (cond on sampled tp)] | Loss 12835.917969 | Likelihood -12843.476562 | KL fp 5.0061 | FP STD 0.0403|\n",
      "KL coef: 0.0\n",
      "Train loss (one batch): 13773.6220703125\n",
      "Train CE loss (one batch): 0.0\n",
      "Test MSE: 0.0257\n",
      "Poisson likelihood: 0.0\n",
      "CE loss: 0.0\n"
     ]
    },
    {
     "name": "stdout",
     "output_type": "stream",
     "text": [
      "Computing loss... 0\n"
     ]
    },
    {
     "name": "stderr",
     "output_type": "stream",
     "text": [
      "Experiment 10006\n",
      "Epoch 0003 [Test seq (cond on sampled tp)] | Loss 9745.113281 | Likelihood -9750.554688 | KL fp 4.8993 | FP STD 0.0456|\n",
      "KL coef: 0.0\n",
      "Train loss (one batch): 10069.5087890625\n",
      "Train CE loss (one batch): 0.0\n",
      "Test MSE: 0.0195\n",
      "Poisson likelihood: 0.0\n",
      "CE loss: 0.0\n"
     ]
    },
    {
     "name": "stdout",
     "output_type": "stream",
     "text": [
      "Computing loss... 0\n"
     ]
    },
    {
     "name": "stderr",
     "output_type": "stream",
     "text": [
      "Experiment 10006\n",
      "Epoch 0004 [Test seq (cond on sampled tp)] | Loss 8085.272461 | Likelihood -8088.378418 | KL fp 5.2369 | FP STD 0.0347|\n",
      "KL coef: 0.0\n",
      "Train loss (one batch): 7560.34765625\n",
      "Train CE loss (one batch): 0.0\n",
      "Test MSE: 0.0162\n",
      "Poisson likelihood: 0.0\n",
      "CE loss: 0.0\n"
     ]
    },
    {
     "name": "stdout",
     "output_type": "stream",
     "text": [
      "Computing loss... 0\n"
     ]
    },
    {
     "name": "stderr",
     "output_type": "stream",
     "text": [
      "Experiment 10006\n",
      "Epoch 0005 [Test seq (cond on sampled tp)] | Loss 7295.325684 | Likelihood -7296.505859 | KL fp 5.2681 | FP STD 0.0329|\n",
      "KL coef: 0.0\n",
      "Train loss (one batch): 6765.72314453125\n",
      "Train CE loss (one batch): 0.0\n",
      "Test MSE: 0.0146\n",
      "Poisson likelihood: 0.0\n",
      "CE loss: 0.0\n"
     ]
    },
    {
     "name": "stdout",
     "output_type": "stream",
     "text": [
      "Computing loss... 0\n"
     ]
    },
    {
     "name": "stderr",
     "output_type": "stream",
     "text": [
      "Experiment 10006\n",
      "Epoch 0006 [Test seq (cond on sampled tp)] | Loss 6673.706543 | Likelihood -6677.062500 | KL fp 5.4008 | FP STD 0.0276|\n",
      "KL coef: 0.0\n",
      "Train loss (one batch): 6093.48486328125\n",
      "Train CE loss (one batch): 0.0\n",
      "Test MSE: 0.0134\n",
      "Poisson likelihood: 0.0\n",
      "CE loss: 0.0\n"
     ]
    },
    {
     "name": "stdout",
     "output_type": "stream",
     "text": [
      "Computing loss... 0\n"
     ]
    },
    {
     "name": "stderr",
     "output_type": "stream",
     "text": [
      "Experiment 10006\n",
      "Epoch 0007 [Test seq (cond on sampled tp)] | Loss 5970.112793 | Likelihood -5972.109375 | KL fp 5.4813 | FP STD 0.0250|\n",
      "KL coef: 0.0\n",
      "Train loss (one batch): 5347.5234375\n",
      "Train CE loss (one batch): 0.0\n",
      "Test MSE: 0.0120\n",
      "Poisson likelihood: 0.0\n",
      "CE loss: 0.0\n"
     ]
    },
    {
     "name": "stdout",
     "output_type": "stream",
     "text": [
      "Computing loss... 0\n"
     ]
    },
    {
     "name": "stderr",
     "output_type": "stream",
     "text": [
      "Experiment 10006\n",
      "Epoch 0008 [Test seq (cond on sampled tp)] | Loss 5468.880859 | Likelihood -5470.448730 | KL fp 5.4478 | FP STD 0.0248|\n",
      "KL coef: 0.0\n",
      "Train loss (one batch): 5006.2080078125\n",
      "Train CE loss (one batch): 0.0\n",
      "Test MSE: 0.0110\n",
      "Poisson likelihood: 0.0\n",
      "CE loss: 0.0\n"
     ]
    },
    {
     "name": "stdout",
     "output_type": "stream",
     "text": [
      "Computing loss... 0\n"
     ]
    },
    {
     "name": "stderr",
     "output_type": "stream",
     "text": [
      "Experiment 10006\n",
      "Epoch 0009 [Test seq (cond on sampled tp)] | Loss 5103.240723 | Likelihood -5107.091797 | KL fp 5.6989 | FP STD 0.0198|\n",
      "KL coef: 0.0\n",
      "Train loss (one batch): 4508.34814453125\n",
      "Train CE loss (one batch): 0.0\n",
      "Test MSE: 0.0102\n",
      "Poisson likelihood: 0.0\n",
      "CE loss: 0.0\n"
     ]
    },
    {
     "name": "stdout",
     "output_type": "stream",
     "text": [
      "Computing loss... 0\n"
     ]
    },
    {
     "name": "stderr",
     "output_type": "stream",
     "text": [
      "Experiment 10006\n",
      "Epoch 0010 [Test seq (cond on sampled tp)] | Loss 4938.664062 | Likelihood -4940.975098 | KL fp 5.6255 | FP STD 0.0205|\n",
      "KL coef: 0.0\n",
      "Train loss (one batch): 4435.78173828125\n",
      "Train CE loss (one batch): 0.0\n",
      "Test MSE: 0.0099\n",
      "Poisson likelihood: 0.0\n",
      "CE loss: 0.0\n"
     ]
    },
    {
     "name": "stdout",
     "output_type": "stream",
     "text": [
      "Computing loss... 0\n"
     ]
    },
    {
     "name": "stderr",
     "output_type": "stream",
     "text": [
      "Experiment 10006\n",
      "Epoch 0011 [Test seq (cond on sampled tp)] | Loss 4791.104980 | Likelihood -4793.177734 | KL fp 5.5855 | FP STD 0.0212|\n",
      "KL coef: 0.010000000000000009\n",
      "Train loss (one batch): 4191.9814453125\n",
      "Train CE loss (one batch): 0.0\n",
      "Test MSE: 0.0096\n",
      "Poisson likelihood: 0.0\n",
      "CE loss: 0.0\n"
     ]
    },
    {
     "name": "stdout",
     "output_type": "stream",
     "text": [
      "Computing loss... 0\n"
     ]
    },
    {
     "name": "stderr",
     "output_type": "stream",
     "text": [
      "Experiment 10006\n",
      "Epoch 0012 [Test seq (cond on sampled tp)] | Loss 4729.004883 | Likelihood -4731.787109 | KL fp 5.6557 | FP STD 0.0194|\n",
      "KL coef: 0.01990000000000003\n",
      "Train loss (one batch): 4060.091796875\n",
      "Train CE loss (one batch): 0.0\n",
      "Test MSE: 0.0095\n",
      "Poisson likelihood: 0.0\n",
      "CE loss: 0.0\n"
     ]
    },
    {
     "name": "stdout",
     "output_type": "stream",
     "text": [
      "Computing loss... 0\n"
     ]
    },
    {
     "name": "stderr",
     "output_type": "stream",
     "text": [
      "Experiment 10006\n",
      "Epoch 0013 [Test seq (cond on sampled tp)] | Loss 4507.171387 | Likelihood -4508.345703 | KL fp 5.7378 | FP STD 0.0179|\n",
      "KL coef: 0.029700999999999977\n",
      "Train loss (one batch): 3931.16748046875\n",
      "Train CE loss (one batch): 0.0\n",
      "Test MSE: 0.0090\n",
      "Poisson likelihood: 0.0\n",
      "CE loss: 0.0\n"
     ]
    },
    {
     "name": "stdout",
     "output_type": "stream",
     "text": [
      "Computing loss... 0\n"
     ]
    },
    {
     "name": "stderr",
     "output_type": "stream",
     "text": [
      "Experiment 10006\n",
      "Epoch 0014 [Test seq (cond on sampled tp)] | Loss 4401.724121 | Likelihood -4402.932617 | KL fp 5.6854 | FP STD 0.0186|\n",
      "KL coef: 0.039403990000000055\n",
      "Train loss (one batch): 3884.75244140625\n",
      "Train CE loss (one batch): 0.0\n",
      "Test MSE: 0.0088\n",
      "Poisson likelihood: 0.0\n",
      "CE loss: 0.0\n"
     ]
    },
    {
     "name": "stdout",
     "output_type": "stream",
     "text": [
      "Computing loss... 0\n"
     ]
    },
    {
     "name": "stderr",
     "output_type": "stream",
     "text": [
      "Experiment 10006\n",
      "Epoch 0015 [Test seq (cond on sampled tp)] | Loss 4267.276855 | Likelihood -4268.803711 | KL fp 5.8248 | FP STD 0.0166|\n",
      "KL coef: 0.04900995010000009\n",
      "Train loss (one batch): 3734.355224609375\n",
      "Train CE loss (one batch): 0.0\n",
      "Test MSE: 0.0085\n",
      "Poisson likelihood: 0.0\n",
      "CE loss: 0.0\n"
     ]
    },
    {
     "name": "stdout",
     "output_type": "stream",
     "text": [
      "Computing loss... 0\n"
     ]
    },
    {
     "name": "stderr",
     "output_type": "stream",
     "text": [
      "Experiment 10006\n",
      "Epoch 0016 [Test seq (cond on sampled tp)] | Loss 4221.330566 | Likelihood -4222.236816 | KL fp 5.7546 | FP STD 0.0177|\n",
      "KL coef: 0.058519850599\n",
      "Train loss (one batch): 3651.930908203125\n",
      "Train CE loss (one batch): 0.0\n",
      "Test MSE: 0.0085\n",
      "Poisson likelihood: 0.0\n",
      "CE loss: 0.0\n"
     ]
    },
    {
     "name": "stdout",
     "output_type": "stream",
     "text": [
      "Computing loss... 0\n"
     ]
    },
    {
     "name": "stderr",
     "output_type": "stream",
     "text": [
      "Experiment 10006\n",
      "Epoch 0017 [Test seq (cond on sampled tp)] | Loss 4094.524902 | Likelihood -4095.686279 | KL fp 5.8985 | FP STD 0.0149|\n",
      "KL coef: 0.06793465209301008\n",
      "Train loss (one batch): 3574.107177734375\n",
      "Train CE loss (one batch): 0.0\n",
      "Test MSE: 0.0082\n",
      "Poisson likelihood: 0.0\n",
      "CE loss: 0.0\n"
     ]
    },
    {
     "name": "stdout",
     "output_type": "stream",
     "text": [
      "Computing loss... 0\n"
     ]
    },
    {
     "name": "stderr",
     "output_type": "stream",
     "text": [
      "Experiment 10006\n",
      "Epoch 0018 [Test seq (cond on sampled tp)] | Loss 4039.531494 | Likelihood -4040.659912 | KL fp 5.8844 | FP STD 0.0148|\n",
      "KL coef: 0.07725530557207994\n",
      "Train loss (one batch): 3504.970703125\n",
      "Train CE loss (one batch): 0.0\n",
      "Test MSE: 0.0081\n",
      "Poisson likelihood: 0.0\n",
      "CE loss: 0.0\n"
     ]
    },
    {
     "name": "stdout",
     "output_type": "stream",
     "text": [
      "Computing loss... 0\n"
     ]
    },
    {
     "name": "stderr",
     "output_type": "stream",
     "text": [
      "Experiment 10006\n",
      "Epoch 0019 [Test seq (cond on sampled tp)] | Loss 3973.312256 | Likelihood -3974.141113 | KL fp 5.8171 | FP STD 0.0162|\n",
      "KL coef: 0.08648275251635917\n",
      "Train loss (one batch): 3443.72265625\n",
      "Train CE loss (one batch): 0.0\n",
      "Test MSE: 0.0080\n",
      "Poisson likelihood: 0.0\n",
      "CE loss: 0.0\n"
     ]
    },
    {
     "name": "stdout",
     "output_type": "stream",
     "text": [
      "Computing loss... 0\n"
     ]
    },
    {
     "name": "stderr",
     "output_type": "stream",
     "text": [
      "Experiment 10006\n",
      "Epoch 0020 [Test seq (cond on sampled tp)] | Loss 3893.494873 | Likelihood -3894.080811 | KL fp 5.9077 | FP STD 0.0144|\n",
      "KL coef: 0.09561792499119559\n",
      "Train loss (one batch): 3395.329345703125\n",
      "Train CE loss (one batch): 0.0\n",
      "Test MSE: 0.0078\n",
      "Poisson likelihood: 0.0\n",
      "CE loss: 0.0\n"
     ]
    },
    {
     "name": "stdout",
     "output_type": "stream",
     "text": [
      "Computing loss... 0\n"
     ]
    },
    {
     "name": "stderr",
     "output_type": "stream",
     "text": [
      "Experiment 10006\n",
      "Epoch 0021 [Test seq (cond on sampled tp)] | Loss 3833.469482 | Likelihood -3835.009521 | KL fp 5.8745 | FP STD 0.0144|\n",
      "KL coef: 0.10466174574128362\n",
      "Train loss (one batch): 3317.48583984375\n",
      "Train CE loss (one batch): 0.0\n",
      "Test MSE: 0.0077\n",
      "Poisson likelihood: 0.0\n",
      "CE loss: 0.0\n"
     ]
    },
    {
     "name": "stdout",
     "output_type": "stream",
     "text": [
      "Computing loss... 0\n"
     ]
    },
    {
     "name": "stderr",
     "output_type": "stream",
     "text": [
      "Experiment 10006\n",
      "Epoch 0022 [Test seq (cond on sampled tp)] | Loss 3779.783447 | Likelihood -3780.645996 | KL fp 5.8516 | FP STD 0.0144|\n",
      "KL coef: 0.11361512828387077\n",
      "Train loss (one batch): 3253.70703125\n",
      "Train CE loss (one batch): 0.0\n",
      "Test MSE: 0.0076\n",
      "Poisson likelihood: 0.0\n",
      "CE loss: 0.0\n"
     ]
    },
    {
     "name": "stdout",
     "output_type": "stream",
     "text": [
      "Computing loss... 0\n"
     ]
    },
    {
     "name": "stderr",
     "output_type": "stream",
     "text": [
      "Experiment 10006\n",
      "Epoch 0023 [Test seq (cond on sampled tp)] | Loss 3752.314453 | Likelihood -3753.589844 | KL fp 5.7769 | FP STD 0.0154|\n",
      "KL coef: 0.12247897700103216\n",
      "Train loss (one batch): 3163.00244140625\n",
      "Train CE loss (one batch): 0.0\n",
      "Test MSE: 0.0075\n",
      "Poisson likelihood: 0.0\n",
      "CE loss: 0.0\n"
     ]
    },
    {
     "name": "stdout",
     "output_type": "stream",
     "text": [
      "Computing loss... 0\n"
     ]
    },
    {
     "name": "stderr",
     "output_type": "stream",
     "text": [
      "Experiment 10006\n",
      "Epoch 0024 [Test seq (cond on sampled tp)] | Loss 3648.134766 | Likelihood -3648.967529 | KL fp 5.8502 | FP STD 0.0140|\n",
      "KL coef: 0.13125418723102178\n",
      "Train loss (one batch): 3059.2919921875\n",
      "Train CE loss (one batch): 0.0\n",
      "Test MSE: 0.0073\n",
      "Poisson likelihood: 0.0\n",
      "CE loss: 0.0\n"
     ]
    },
    {
     "name": "stdout",
     "output_type": "stream",
     "text": [
      "Computing loss... 0\n"
     ]
    },
    {
     "name": "stderr",
     "output_type": "stream",
     "text": [
      "Experiment 10006\n",
      "Epoch 0025 [Test seq (cond on sampled tp)] | Loss 3278.574951 | Likelihood -3279.068115 | KL fp 5.8060 | FP STD 0.0142|\n",
      "KL coef: 0.13994164535871156\n",
      "Train loss (one batch): 2850.949462890625\n",
      "Train CE loss (one batch): 0.0\n",
      "Test MSE: 0.0066\n",
      "Poisson likelihood: 0.0\n",
      "CE loss: 0.0\n"
     ]
    },
    {
     "name": "stdout",
     "output_type": "stream",
     "text": [
      "Computing loss... 0\n"
     ]
    },
    {
     "name": "stderr",
     "output_type": "stream",
     "text": [
      "Experiment 10006\n",
      "Epoch 0026 [Test seq (cond on sampled tp)] | Loss 3135.454346 | Likelihood -3136.591309 | KL fp 5.5995 | FP STD 0.0171|\n",
      "KL coef: 0.14854222890512447\n",
      "Train loss (one batch): 2712.348388671875\n",
      "Train CE loss (one batch): 0.0\n",
      "Test MSE: 0.0063\n",
      "Poisson likelihood: 0.0\n",
      "CE loss: 0.0\n"
     ]
    },
    {
     "name": "stdout",
     "output_type": "stream",
     "text": [
      "Computing loss... 0\n"
     ]
    },
    {
     "name": "stderr",
     "output_type": "stream",
     "text": [
      "Experiment 10006\n",
      "Epoch 0027 [Test seq (cond on sampled tp)] | Loss 3092.008057 | Likelihood -3093.638428 | KL fp 5.8758 | FP STD 0.0128|\n",
      "KL coef: 0.15705680661607324\n",
      "Train loss (one batch): 2547.256103515625\n",
      "Train CE loss (one batch): 0.0\n",
      "Test MSE: 0.0062\n",
      "Poisson likelihood: 0.0\n",
      "CE loss: 0.0\n"
     ]
    },
    {
     "name": "stdout",
     "output_type": "stream",
     "text": [
      "Computing loss... 0\n"
     ]
    },
    {
     "name": "stderr",
     "output_type": "stream",
     "text": [
      "Experiment 10006\n",
      "Epoch 0028 [Test seq (cond on sampled tp)] | Loss 3020.501465 | Likelihood -3021.195312 | KL fp 5.6857 | FP STD 0.0146|\n",
      "KL coef: 0.1654862385499125\n",
      "Train loss (one batch): 2485.94189453125\n",
      "Train CE loss (one batch): 0.0\n",
      "Test MSE: 0.0061\n",
      "Poisson likelihood: 0.0\n",
      "CE loss: 0.0\n"
     ]
    },
    {
     "name": "stdout",
     "output_type": "stream",
     "text": [
      "Computing loss... 0\n"
     ]
    },
    {
     "name": "stderr",
     "output_type": "stream",
     "text": [
      "Experiment 10006\n",
      "Epoch 0029 [Test seq (cond on sampled tp)] | Loss 2895.599854 | Likelihood -2896.864746 | KL fp 5.7929 | FP STD 0.0131|\n",
      "KL coef: 0.17383137616441335\n",
      "Train loss (one batch): 2405.051513671875\n",
      "Train CE loss (one batch): 0.0\n",
      "Test MSE: 0.0058\n",
      "Poisson likelihood: 0.0\n",
      "CE loss: 0.0\n"
     ]
    },
    {
     "name": "stdout",
     "output_type": "stream",
     "text": [
      "Computing loss... 0\n"
     ]
    },
    {
     "name": "stderr",
     "output_type": "stream",
     "text": [
      "Experiment 10006\n",
      "Epoch 0030 [Test seq (cond on sampled tp)] | Loss 2696.377686 | Likelihood -2696.441406 | KL fp 5.8658 | FP STD 0.0119|\n",
      "KL coef: 0.18209306240276923\n",
      "Train loss (one batch): 2339.476806640625\n",
      "Train CE loss (one batch): 0.0\n",
      "Test MSE: 0.0054\n",
      "Poisson likelihood: 0.0\n",
      "CE loss: 0.0\n"
     ]
    },
    {
     "name": "stdout",
     "output_type": "stream",
     "text": [
      "Computing loss... 0\n"
     ]
    },
    {
     "name": "stderr",
     "output_type": "stream",
     "text": [
      "Experiment 10006\n",
      "Epoch 0031 [Test seq (cond on sampled tp)] | Loss 2681.871094 | Likelihood -2682.338379 | KL fp 5.9157 | FP STD 0.0114|\n",
      "KL coef: 0.19027213177874158\n",
      "Train loss (one batch): 2280.001708984375\n",
      "Train CE loss (one batch): 0.0\n",
      "Test MSE: 0.0054\n",
      "Poisson likelihood: 0.0\n",
      "CE loss: 0.0\n"
     ]
    },
    {
     "name": "stdout",
     "output_type": "stream",
     "text": [
      "Computing loss... 0\n"
     ]
    },
    {
     "name": "stderr",
     "output_type": "stream",
     "text": [
      "Experiment 10006\n",
      "Epoch 0032 [Test seq (cond on sampled tp)] | Loss 2682.537842 | Likelihood -2683.168701 | KL fp 5.8344 | FP STD 0.0119|\n",
      "KL coef: 0.19836941046095413\n",
      "Train loss (one batch): 2259.9638671875\n",
      "Train CE loss (one batch): 0.0\n",
      "Test MSE: 0.0054\n",
      "Poisson likelihood: 0.0\n",
      "CE loss: 0.0\n"
     ]
    },
    {
     "name": "stdout",
     "output_type": "stream",
     "text": [
      "Computing loss... 0\n"
     ]
    },
    {
     "name": "stderr",
     "output_type": "stream",
     "text": [
      "Experiment 10006\n",
      "Epoch 0033 [Test seq (cond on sampled tp)] | Loss 2451.838135 | Likelihood -2452.452637 | KL fp 5.8728 | FP STD 0.0115|\n",
      "KL coef: 0.20638571635634462\n",
      "Train loss (one batch): 2126.824951171875\n",
      "Train CE loss (one batch): 0.0\n",
      "Test MSE: 0.0049\n",
      "Poisson likelihood: 0.0\n",
      "CE loss: 0.0\n"
     ]
    },
    {
     "name": "stdout",
     "output_type": "stream",
     "text": [
      "Computing loss... 0\n"
     ]
    },
    {
     "name": "stderr",
     "output_type": "stream",
     "text": [
      "Experiment 10006\n",
      "Epoch 0034 [Test seq (cond on sampled tp)] | Loss 2369.435059 | Likelihood -2369.486084 | KL fp 5.9184 | FP STD 0.0109|\n",
      "KL coef: 0.21432185919278124\n",
      "Train loss (one batch): 2003.3170166015625\n",
      "Train CE loss (one batch): 0.0\n",
      "Test MSE: 0.0048\n",
      "Poisson likelihood: 0.0\n",
      "CE loss: 0.0\n"
     ]
    },
    {
     "name": "stdout",
     "output_type": "stream",
     "text": [
      "Computing loss... 0\n"
     ]
    },
    {
     "name": "stderr",
     "output_type": "stream",
     "text": [
      "Experiment 10006\n",
      "Epoch 0035 [Test seq (cond on sampled tp)] | Loss 2246.085693 | Likelihood -2245.902100 | KL fp 5.8405 | FP STD 0.0114|\n",
      "KL coef: 0.22217864060085335\n",
      "Train loss (one batch): 1970.888427734375\n",
      "Train CE loss (one batch): 0.0\n",
      "Test MSE: 0.0045\n",
      "Poisson likelihood: 0.0\n",
      "CE loss: 0.0\n"
     ]
    },
    {
     "name": "stdout",
     "output_type": "stream",
     "text": [
      "Computing loss... 0\n"
     ]
    },
    {
     "name": "stderr",
     "output_type": "stream",
     "text": [
      "Experiment 10006\n",
      "Epoch 0036 [Test seq (cond on sampled tp)] | Loss 2191.845947 | Likelihood -2192.229492 | KL fp 5.9307 | FP STD 0.0105|\n",
      "KL coef: 0.2299568541948449\n",
      "Train loss (one batch): 1865.2088623046875\n",
      "Train CE loss (one batch): 0.0\n",
      "Test MSE: 0.0044\n",
      "Poisson likelihood: 0.0\n",
      "CE loss: 0.0\n"
     ]
    },
    {
     "name": "stdout",
     "output_type": "stream",
     "text": [
      "Computing loss... 0\n"
     ]
    },
    {
     "name": "stderr",
     "output_type": "stream",
     "text": [
      "Experiment 10006\n",
      "Epoch 0037 [Test seq (cond on sampled tp)] | Loss 2108.294678 | Likelihood -2108.180176 | KL fp 5.8976 | FP STD 0.0106|\n",
      "KL coef: 0.23765728565289646\n",
      "Train loss (one batch): 1819.6646728515625\n",
      "Train CE loss (one batch): 0.0\n",
      "Test MSE: 0.0042\n",
      "Poisson likelihood: 0.0\n",
      "CE loss: 0.0\n"
     ]
    },
    {
     "name": "stdout",
     "output_type": "stream",
     "text": [
      "Computing loss... 0\n"
     ]
    },
    {
     "name": "stderr",
     "output_type": "stream",
     "text": [
      "Experiment 10006\n",
      "Epoch 0038 [Test seq (cond on sampled tp)] | Loss 2002.855347 | Likelihood -2003.014648 | KL fp 6.0544 | FP STD 0.0092|\n",
      "KL coef: 0.24528071279636743\n",
      "Train loss (one batch): 1777.93408203125\n",
      "Train CE loss (one batch): 0.0\n",
      "Test MSE: 0.0040\n",
      "Poisson likelihood: 0.0\n",
      "CE loss: 0.0\n"
     ]
    },
    {
     "name": "stdout",
     "output_type": "stream",
     "text": [
      "Computing loss... 0\n"
     ]
    },
    {
     "name": "stderr",
     "output_type": "stream",
     "text": [
      "Experiment 10006\n",
      "Epoch 0039 [Test seq (cond on sampled tp)] | Loss 1992.253052 | Likelihood -1992.373413 | KL fp 5.9487 | FP STD 0.0101|\n",
      "KL coef: 0.25282790566840385\n",
      "Train loss (one batch): 1768.15771484375\n",
      "Train CE loss (one batch): 0.0\n",
      "Test MSE: 0.0040\n",
      "Poisson likelihood: 0.0\n",
      "CE loss: 0.0\n"
     ]
    },
    {
     "name": "stdout",
     "output_type": "stream",
     "text": [
      "Computing loss... 0\n"
     ]
    },
    {
     "name": "stderr",
     "output_type": "stream",
     "text": [
      "Experiment 10006\n",
      "Epoch 0040 [Test seq (cond on sampled tp)] | Loss 1868.250244 | Likelihood -1868.709473 | KL fp 5.9863 | FP STD 0.0097|\n",
      "KL coef: 0.2602996266117198\n",
      "Train loss (one batch): 1749.19580078125\n",
      "Train CE loss (one batch): 0.0\n",
      "Test MSE: 0.0037\n",
      "Poisson likelihood: 0.0\n",
      "CE loss: 0.0\n"
     ]
    },
    {
     "name": "stdout",
     "output_type": "stream",
     "text": [
      "Computing loss... 0\n"
     ]
    },
    {
     "name": "stderr",
     "output_type": "stream",
     "text": [
      "Experiment 10006\n",
      "Epoch 0041 [Test seq (cond on sampled tp)] | Loss 1845.732056 | Likelihood -1845.304688 | KL fp 5.8697 | FP STD 0.0106|\n",
      "KL coef: 0.26769663034560254\n",
      "Train loss (one batch): 1633.3892822265625\n",
      "Train CE loss (one batch): 0.0\n",
      "Test MSE: 0.0037\n",
      "Poisson likelihood: 0.0\n",
      "CE loss: 0.0\n"
     ]
    },
    {
     "name": "stdout",
     "output_type": "stream",
     "text": [
      "Computing loss... 0\n"
     ]
    },
    {
     "name": "stderr",
     "output_type": "stream",
     "text": [
      "Experiment 10006\n",
      "Epoch 0042 [Test seq (cond on sampled tp)] | Loss 1841.723267 | Likelihood -1841.398438 | KL fp 5.8815 | FP STD 0.0103|\n",
      "KL coef: 0.2750196640421466\n",
      "Train loss (one batch): 1637.80322265625\n",
      "Train CE loss (one batch): 0.0\n",
      "Test MSE: 0.0037\n",
      "Poisson likelihood: 0.0\n",
      "CE loss: 0.0\n"
     ]
    },
    {
     "name": "stdout",
     "output_type": "stream",
     "text": [
      "Computing loss... 0\n"
     ]
    },
    {
     "name": "stderr",
     "output_type": "stream",
     "text": [
      "Experiment 10006\n",
      "Epoch 0043 [Test seq (cond on sampled tp)] | Loss 1827.146606 | Likelihood -1827.567749 | KL fp 5.9910 | FP STD 0.0093|\n",
      "KL coef: 0.2822694674017251\n",
      "Train loss (one batch): 1533.5008544921875\n",
      "Train CE loss (one batch): 0.0\n",
      "Test MSE: 0.0037\n",
      "Poisson likelihood: 0.0\n",
      "CE loss: 0.0\n"
     ]
    },
    {
     "name": "stdout",
     "output_type": "stream",
     "text": [
      "Computing loss... 0\n"
     ]
    },
    {
     "name": "stderr",
     "output_type": "stream",
     "text": [
      "Experiment 10006\n",
      "Epoch 0044 [Test seq (cond on sampled tp)] | Loss 1815.633911 | Likelihood -1815.650146 | KL fp 6.0055 | FP STD 0.0091|\n",
      "KL coef: 0.2894467727277079\n",
      "Train loss (one batch): 1519.3358154296875\n",
      "Train CE loss (one batch): 0.0\n",
      "Test MSE: 0.0036\n",
      "Poisson likelihood: 0.0\n",
      "CE loss: 0.0\n"
     ]
    },
    {
     "name": "stdout",
     "output_type": "stream",
     "text": [
      "Computing loss... 0\n"
     ]
    },
    {
     "name": "stderr",
     "output_type": "stream",
     "text": [
      "Experiment 10006\n",
      "Epoch 0045 [Test seq (cond on sampled tp)] | Loss 1796.573853 | Likelihood -1796.009277 | KL fp 6.0291 | FP STD 0.0088|\n",
      "KL coef: 0.29655230500043084\n",
      "Train loss (one batch): 1505.0750732421875\n",
      "Train CE loss (one batch): 0.0\n",
      "Test MSE: 0.0036\n",
      "Poisson likelihood: 0.0\n",
      "CE loss: 0.0\n"
     ]
    },
    {
     "name": "stdout",
     "output_type": "stream",
     "text": [
      "Computing loss... 0\n"
     ]
    },
    {
     "name": "stderr",
     "output_type": "stream",
     "text": [
      "Experiment 10006\n",
      "Epoch 0046 [Test seq (cond on sampled tp)] | Loss 1878.270752 | Likelihood -1878.074097 | KL fp 6.0571 | FP STD 0.0085|\n",
      "KL coef: 0.30358678195042654\n",
      "Train loss (one batch): 1456.6824951171875\n",
      "Train CE loss (one batch): 0.0\n",
      "Test MSE: 0.0038\n",
      "Poisson likelihood: 0.0\n",
      "CE loss: 0.0\n"
     ]
    },
    {
     "name": "stdout",
     "output_type": "stream",
     "text": [
      "Computing loss... 0\n"
     ]
    },
    {
     "name": "stderr",
     "output_type": "stream",
     "text": [
      "Experiment 10006\n",
      "Epoch 0047 [Test seq (cond on sampled tp)] | Loss 1709.022827 | Likelihood -1708.615723 | KL fp 5.7595 | FP STD 0.0123|\n",
      "KL coef: 0.3105509141309223\n",
      "Train loss (one batch): 1469.37158203125\n",
      "Train CE loss (one batch): 0.0\n",
      "Test MSE: 0.0034\n",
      "Poisson likelihood: 0.0\n",
      "CE loss: 0.0\n"
     ]
    },
    {
     "name": "stdout",
     "output_type": "stream",
     "text": [
      "Computing loss... 0\n"
     ]
    },
    {
     "name": "stderr",
     "output_type": "stream",
     "text": [
      "Experiment 10006\n",
      "Epoch 0048 [Test seq (cond on sampled tp)] | Loss 1695.128784 | Likelihood -1695.091309 | KL fp 5.9530 | FP STD 0.0095|\n",
      "KL coef: 0.31744540498961304\n",
      "Train loss (one batch): 1450.1239013671875\n",
      "Train CE loss (one batch): 0.0\n",
      "Test MSE: 0.0034\n",
      "Poisson likelihood: 0.0\n",
      "CE loss: 0.0\n"
     ]
    },
    {
     "name": "stdout",
     "output_type": "stream",
     "text": [
      "Computing loss... 0\n"
     ]
    },
    {
     "name": "stderr",
     "output_type": "stream",
     "text": [
      "Experiment 10006\n",
      "Epoch 0049 [Test seq (cond on sampled tp)] | Loss 1691.314331 | Likelihood -1690.743042 | KL fp 5.9615 | FP STD 0.0092|\n",
      "KL coef: 0.3242709509397169\n",
      "Train loss (one batch): 1420.73486328125\n",
      "Train CE loss (one batch): 0.0\n",
      "Test MSE: 0.0034\n",
      "Poisson likelihood: 0.0\n",
      "CE loss: 0.0\n"
     ]
    },
    {
     "name": "stdout",
     "output_type": "stream",
     "text": [
      "Computing loss... 0\n"
     ]
    },
    {
     "name": "stderr",
     "output_type": "stream",
     "text": [
      "Experiment 10006\n",
      "Epoch 0050 [Test seq (cond on sampled tp)] | Loss 1739.958862 | Likelihood -1739.213867 | KL fp 5.9353 | FP STD 0.0095|\n",
      "KL coef: 0.3310282414303197\n",
      "Train loss (one batch): 1490.74462890625\n",
      "Train CE loss (one batch): 0.0\n",
      "Test MSE: 0.0035\n",
      "Poisson likelihood: 0.0\n",
      "CE loss: 0.0\n"
     ]
    },
    {
     "name": "stdout",
     "output_type": "stream",
     "text": [
      "Computing loss... 0\n"
     ]
    },
    {
     "name": "stderr",
     "output_type": "stream",
     "text": [
      "Experiment 10006\n",
      "Epoch 0051 [Test seq (cond on sampled tp)] | Loss 1733.960693 | Likelihood -1733.686279 | KL fp 5.8638 | FP STD 0.0099|\n",
      "KL coef: 0.33771795901601653\n",
      "Train loss (one batch): 1452.445556640625\n",
      "Train CE loss (one batch): 0.0\n",
      "Test MSE: 0.0035\n",
      "Poisson likelihood: 0.0\n",
      "CE loss: 0.0\n"
     ]
    },
    {
     "name": "stdout",
     "output_type": "stream",
     "text": [
      "Computing loss... 0\n"
     ]
    },
    {
     "name": "stderr",
     "output_type": "stream",
     "text": [
      "Experiment 10006\n",
      "Epoch 0052 [Test seq (cond on sampled tp)] | Loss 1667.908569 | Likelihood -1667.132324 | KL fp 6.0146 | FP STD 0.0085|\n",
      "KL coef: 0.3443407794258564\n",
      "Train loss (one batch): 1426.0020751953125\n",
      "Train CE loss (one batch): 0.0\n",
      "Test MSE: 0.0033\n",
      "Poisson likelihood: 0.0\n",
      "CE loss: 0.0\n"
     ]
    },
    {
     "name": "stdout",
     "output_type": "stream",
     "text": [
      "Computing loss... 0\n"
     ]
    },
    {
     "name": "stderr",
     "output_type": "stream",
     "text": [
      "Experiment 10006\n",
      "Epoch 0053 [Test seq (cond on sampled tp)] | Loss 1686.276245 | Likelihood -1685.338745 | KL fp 5.8475 | FP STD 0.0103|\n",
      "KL coef: 0.35089737163159784\n",
      "Train loss (one batch): 1390.179931640625\n",
      "Train CE loss (one batch): 0.0\n",
      "Test MSE: 0.0034\n",
      "Poisson likelihood: 0.0\n",
      "CE loss: 0.0\n"
     ]
    },
    {
     "name": "stdout",
     "output_type": "stream",
     "text": [
      "Computing loss... 0\n"
     ]
    },
    {
     "name": "stderr",
     "output_type": "stream",
     "text": [
      "Experiment 10006\n",
      "Epoch 0054 [Test seq (cond on sampled tp)] | Loss 1733.589600 | Likelihood -1732.953979 | KL fp 6.1396 | FP STD 0.0074|\n",
      "KL coef: 0.3573883979152819\n",
      "Train loss (one batch): 1405.15771484375\n",
      "Train CE loss (one batch): 0.0\n",
      "Test MSE: 0.0035\n",
      "Poisson likelihood: 0.0\n",
      "CE loss: 0.0\n"
     ]
    },
    {
     "name": "stdout",
     "output_type": "stream",
     "text": [
      "Computing loss... 0\n"
     ]
    },
    {
     "name": "stderr",
     "output_type": "stream",
     "text": [
      "Experiment 10006\n",
      "Epoch 0055 [Test seq (cond on sampled tp)] | Loss 1624.016235 | Likelihood -1623.314209 | KL fp 6.0957 | FP STD 0.0079|\n",
      "KL coef: 0.36381451393612907\n",
      "Train loss (one batch): 1384.489990234375\n",
      "Train CE loss (one batch): 0.0\n",
      "Test MSE: 0.0033\n",
      "Poisson likelihood: 0.0\n",
      "CE loss: 0.0\n"
     ]
    },
    {
     "name": "stdout",
     "output_type": "stream",
     "text": [
      "Computing loss... 0\n"
     ]
    },
    {
     "name": "stderr",
     "output_type": "stream",
     "text": [
      "Experiment 10006\n",
      "Epoch 0056 [Test seq (cond on sampled tp)] | Loss 1622.129517 | Likelihood -1621.056519 | KL fp 5.9863 | FP STD 0.0090|\n",
      "KL coef: 0.37017636879676774\n",
      "Train loss (one batch): 1357.842529296875\n",
      "Train CE loss (one batch): 0.0\n",
      "Test MSE: 0.0033\n",
      "Poisson likelihood: 0.0\n",
      "CE loss: 0.0\n"
     ]
    },
    {
     "name": "stdout",
     "output_type": "stream",
     "text": [
      "Computing loss... 0\n"
     ]
    },
    {
     "name": "stderr",
     "output_type": "stream",
     "text": [
      "Experiment 10006\n",
      "Epoch 0057 [Test seq (cond on sampled tp)] | Loss 1554.856934 | Likelihood -1553.858398 | KL fp 5.9417 | FP STD 0.0088|\n",
      "KL coef: 0.37647460510880004\n",
      "Train loss (one batch): 1381.0262451171875\n",
      "Train CE loss (one batch): 0.0\n",
      "Test MSE: 0.0031\n",
      "Poisson likelihood: 0.0\n",
      "CE loss: 0.0\n"
     ]
    },
    {
     "name": "stdout",
     "output_type": "stream",
     "text": [
      "Computing loss... 0\n"
     ]
    },
    {
     "name": "stderr",
     "output_type": "stream",
     "text": [
      "Experiment 10006\n",
      "Epoch 0058 [Test seq (cond on sampled tp)] | Loss 1547.159302 | Likelihood -1546.014526 | KL fp 5.8865 | FP STD 0.0094|\n",
      "KL coef: 0.38270985905771204\n",
      "Train loss (one batch): 1396.3941650390625\n",
      "Train CE loss (one batch): 0.0\n",
      "Test MSE: 0.0031\n",
      "Poisson likelihood: 0.0\n",
      "CE loss: 0.0\n"
     ]
    },
    {
     "name": "stdout",
     "output_type": "stream",
     "text": [
      "Computing loss... 0\n"
     ]
    },
    {
     "name": "stderr",
     "output_type": "stream",
     "text": [
      "Experiment 10006\n",
      "Epoch 0059 [Test seq (cond on sampled tp)] | Loss 1538.735474 | Likelihood -1537.460938 | KL fp 6.1760 | FP STD 0.0071|\n",
      "KL coef: 0.388882760467135\n",
      "Train loss (one batch): 1348.8682861328125\n",
      "Train CE loss (one batch): 0.0\n",
      "Test MSE: 0.0031\n",
      "Poisson likelihood: 0.0\n",
      "CE loss: 0.0\n"
     ]
    },
    {
     "name": "stdout",
     "output_type": "stream",
     "text": [
      "Computing loss... 0\n"
     ]
    },
    {
     "name": "stderr",
     "output_type": "stream",
     "text": [
      "Experiment 10006\n",
      "Epoch 0060 [Test seq (cond on sampled tp)] | Loss 1577.198364 | Likelihood -1576.226929 | KL fp 5.9953 | FP STD 0.0085|\n",
      "KL coef: 0.39499393286246365\n",
      "Train loss (one batch): 1345.3128662109375\n",
      "Train CE loss (one batch): 0.0\n",
      "Test MSE: 0.0032\n",
      "Poisson likelihood: 0.0\n",
      "CE loss: 0.0\n"
     ]
    },
    {
     "name": "stdout",
     "output_type": "stream",
     "text": [
      "Computing loss... 0\n"
     ]
    },
    {
     "name": "stderr",
     "output_type": "stream",
     "text": [
      "Experiment 10006\n",
      "Epoch 0061 [Test seq (cond on sampled tp)] | Loss 1620.976440 | Likelihood -1619.903198 | KL fp 6.0567 | FP STD 0.0079|\n",
      "KL coef: 0.401043993533839\n",
      "Train loss (one batch): 1387.64892578125\n",
      "Train CE loss (one batch): 0.0\n",
      "Test MSE: 0.0033\n",
      "Poisson likelihood: 0.0\n",
      "CE loss: 0.0\n"
     ]
    },
    {
     "name": "stdout",
     "output_type": "stream",
     "text": [
      "Computing loss... 0\n"
     ]
    },
    {
     "name": "stderr",
     "output_type": "stream",
     "text": [
      "Experiment 10006\n",
      "Epoch 0062 [Test seq (cond on sampled tp)] | Loss 1539.907104 | Likelihood -1538.713745 | KL fp 5.9353 | FP STD 0.0089|\n",
      "KL coef: 0.4070335535985006\n",
      "Train loss (one batch): 1313.1466064453125\n",
      "Train CE loss (one batch): 0.0\n",
      "Test MSE: 0.0031\n",
      "Poisson likelihood: 0.0\n",
      "CE loss: 0.0\n"
     ]
    },
    {
     "name": "stdout",
     "output_type": "stream",
     "text": [
      "Computing loss... 0\n"
     ]
    },
    {
     "name": "stderr",
     "output_type": "stream",
     "text": [
      "Experiment 10006\n",
      "Epoch 0063 [Test seq (cond on sampled tp)] | Loss 1548.892578 | Likelihood -1548.270874 | KL fp 5.8040 | FP STD 0.0113|\n",
      "KL coef: 0.41296321806251557\n",
      "Train loss (one batch): 1361.906005859375\n",
      "Train CE loss (one batch): 0.0\n",
      "Test MSE: 0.0031\n",
      "Poisson likelihood: 0.0\n",
      "CE loss: 0.0\n"
     ]
    },
    {
     "name": "stdout",
     "output_type": "stream",
     "text": [
      "Computing loss... 0\n"
     ]
    },
    {
     "name": "stderr",
     "output_type": "stream",
     "text": [
      "Experiment 10006\n",
      "Epoch 0064 [Test seq (cond on sampled tp)] | Loss 1544.404785 | Likelihood -1543.004150 | KL fp 6.0804 | FP STD 0.0075|\n",
      "KL coef: 0.41883358588189046\n",
      "Train loss (one batch): 1405.068603515625\n",
      "Train CE loss (one batch): 0.0\n",
      "Test MSE: 0.0031\n",
      "Poisson likelihood: 0.0\n",
      "CE loss: 0.0\n"
     ]
    },
    {
     "name": "stdout",
     "output_type": "stream",
     "text": [
      "Computing loss... 0\n"
     ]
    },
    {
     "name": "stderr",
     "output_type": "stream",
     "text": [
      "Experiment 10006\n",
      "Epoch 0065 [Test seq (cond on sampled tp)] | Loss 1540.969849 | Likelihood -1539.739258 | KL fp 5.7459 | FP STD 0.0113|\n",
      "KL coef: 0.4246452500230715\n",
      "Train loss (one batch): 1298.065673828125\n",
      "Train CE loss (one batch): 0.0\n",
      "Test MSE: 0.0031\n",
      "Poisson likelihood: 0.0\n",
      "CE loss: 0.0\n"
     ]
    },
    {
     "name": "stdout",
     "output_type": "stream",
     "text": [
      "Computing loss... 0\n"
     ]
    },
    {
     "name": "stderr",
     "output_type": "stream",
     "text": [
      "Experiment 10006\n",
      "Epoch 0066 [Test seq (cond on sampled tp)] | Loss 1480.636108 | Likelihood -1479.874023 | KL fp 5.9923 | FP STD 0.0089|\n",
      "KL coef: 0.4303987975228408\n",
      "Train loss (one batch): 1258.600830078125\n",
      "Train CE loss (one batch): 0.0\n",
      "Test MSE: 0.0030\n",
      "Poisson likelihood: 0.0\n",
      "CE loss: 0.0\n"
     ]
    },
    {
     "name": "stdout",
     "output_type": "stream",
     "text": [
      "Computing loss... 0\n"
     ]
    },
    {
     "name": "stderr",
     "output_type": "stream",
     "text": [
      "Experiment 10006\n",
      "Epoch 0067 [Test seq (cond on sampled tp)] | Loss 1481.475586 | Likelihood -1480.069702 | KL fp 5.9578 | FP STD 0.0088|\n",
      "KL coef: 0.4360948095476125\n",
      "Train loss (one batch): 1304.6549072265625\n",
      "Train CE loss (one batch): 0.0\n",
      "Test MSE: 0.0030\n",
      "Poisson likelihood: 0.0\n",
      "CE loss: 0.0\n"
     ]
    },
    {
     "name": "stdout",
     "output_type": "stream",
     "text": [
      "Computing loss... 0\n"
     ]
    },
    {
     "name": "stderr",
     "output_type": "stream",
     "text": [
      "Experiment 10006\n",
      "Epoch 0068 [Test seq (cond on sampled tp)] | Loss 1468.202026 | Likelihood -1466.716187 | KL fp 6.0285 | FP STD 0.0081|\n",
      "KL coef: 0.44173386145213633\n",
      "Train loss (one batch): 1279.732421875\n",
      "Train CE loss (one batch): 0.0\n",
      "Test MSE: 0.0029\n",
      "Poisson likelihood: 0.0\n",
      "CE loss: 0.0\n"
     ]
    },
    {
     "name": "stdout",
     "output_type": "stream",
     "text": [
      "Computing loss... 0\n"
     ]
    },
    {
     "name": "stderr",
     "output_type": "stream",
     "text": [
      "Experiment 10006\n",
      "Epoch 0069 [Test seq (cond on sampled tp)] | Loss 2197.241211 | Likelihood -2206.975098 | KL fp 5.0926 | FP STD 0.0446|\n",
      "KL coef: 0.4473165228376149\n",
      "Train loss (one batch): 1864.493408203125\n",
      "Train CE loss (one batch): 0.0\n",
      "Test MSE: 0.0044\n",
      "Poisson likelihood: 0.0\n",
      "CE loss: 0.0\n"
     ]
    },
    {
     "name": "stdout",
     "output_type": "stream",
     "text": [
      "Computing loss... 0\n"
     ]
    },
    {
     "name": "stderr",
     "output_type": "stream",
     "text": [
      "Experiment 10006\n",
      "Epoch 0070 [Test seq (cond on sampled tp)] | Loss 1501.184326 | Likelihood -1500.044189 | KL fp 5.7597 | FP STD 0.0149|\n",
      "KL coef: 0.4528433576092388\n",
      "Train loss (one batch): 1274.8580322265625\n",
      "Train CE loss (one batch): 0.0\n",
      "Test MSE: 0.0030\n",
      "Poisson likelihood: 0.0\n",
      "CE loss: 0.0\n"
     ]
    },
    {
     "name": "stdout",
     "output_type": "stream",
     "text": [
      "Computing loss... 0\n"
     ]
    },
    {
     "name": "stderr",
     "output_type": "stream",
     "text": [
      "Experiment 10006\n",
      "Epoch 0071 [Test seq (cond on sampled tp)] | Loss 1435.918945 | Likelihood -1434.532104 | KL fp 6.0038 | FP STD 0.0093|\n",
      "KL coef: 0.45831492403314644\n",
      "Train loss (one batch): 1227.0875244140625\n",
      "Train CE loss (one batch): 0.0\n",
      "Test MSE: 0.0029\n",
      "Poisson likelihood: 0.0\n",
      "CE loss: 0.0\n"
     ]
    },
    {
     "name": "stdout",
     "output_type": "stream",
     "text": [
      "Computing loss... 0\n"
     ]
    },
    {
     "name": "stderr",
     "output_type": "stream",
     "text": [
      "Experiment 10006\n",
      "Epoch 0072 [Test seq (cond on sampled tp)] | Loss 1439.757690 | Likelihood -1438.302979 | KL fp 5.7692 | FP STD 0.0110|\n",
      "KL coef: 0.463731774792815\n",
      "Train loss (one batch): 1228.3680419921875\n",
      "Train CE loss (one batch): 0.0\n",
      "Test MSE: 0.0029\n",
      "Poisson likelihood: 0.0\n",
      "CE loss: 0.0\n"
     ]
    },
    {
     "name": "stdout",
     "output_type": "stream",
     "text": [
      "Computing loss... 0\n"
     ]
    },
    {
     "name": "stderr",
     "output_type": "stream",
     "text": [
      "Experiment 10006\n",
      "Epoch 0073 [Test seq (cond on sampled tp)] | Loss 1438.225830 | Likelihood -1436.488281 | KL fp 6.0980 | FP STD 0.0079|\n",
      "KL coef: 0.46909445704488684\n",
      "Train loss (one batch): 1233.55908203125\n",
      "Train CE loss (one batch): 0.0\n",
      "Test MSE: 0.0029\n",
      "Poisson likelihood: 0.0\n",
      "CE loss: 0.0\n"
     ]
    },
    {
     "name": "stdout",
     "output_type": "stream",
     "text": [
      "Computing loss... 0\n"
     ]
    },
    {
     "name": "stderr",
     "output_type": "stream",
     "text": [
      "Experiment 10006\n",
      "Epoch 0074 [Test seq (cond on sampled tp)] | Loss 1458.404419 | Likelihood -1456.789062 | KL fp 6.0934 | FP STD 0.0079|\n",
      "KL coef: 0.474403512474438\n",
      "Train loss (one batch): 1222.5596923828125\n",
      "Train CE loss (one batch): 0.0\n",
      "Test MSE: 0.0029\n",
      "Poisson likelihood: 0.0\n",
      "CE loss: 0.0\n"
     ]
    },
    {
     "name": "stdout",
     "output_type": "stream",
     "text": [
      "Computing loss... 0\n"
     ]
    },
    {
     "name": "stderr",
     "output_type": "stream",
     "text": [
      "Experiment 10006\n",
      "Epoch 0075 [Test seq (cond on sampled tp)] | Loss 1434.434814 | Likelihood -1432.644897 | KL fp 6.0435 | FP STD 0.0080|\n",
      "KL coef: 0.4796594773496936\n",
      "Train loss (one batch): 1207.00390625\n",
      "Train CE loss (one batch): 0.0\n",
      "Test MSE: 0.0029\n",
      "Poisson likelihood: 0.0\n",
      "CE loss: 0.0\n"
     ]
    },
    {
     "name": "stdout",
     "output_type": "stream",
     "text": [
      "Computing loss... 0\n"
     ]
    },
    {
     "name": "stderr",
     "output_type": "stream",
     "text": [
      "Experiment 10006\n",
      "Epoch 0076 [Test seq (cond on sampled tp)] | Loss 1447.208862 | Likelihood -1445.947021 | KL fp 5.8732 | FP STD 0.0109|\n",
      "KL coef: 0.4848628825761967\n",
      "Train loss (one batch): 1243.4398193359375\n",
      "Train CE loss (one batch): 0.0\n",
      "Test MSE: 0.0029\n",
      "Poisson likelihood: 0.0\n",
      "CE loss: 0.0\n"
     ]
    },
    {
     "name": "stdout",
     "output_type": "stream",
     "text": [
      "Computing loss... 0\n"
     ]
    },
    {
     "name": "stderr",
     "output_type": "stream",
     "text": [
      "Experiment 10006\n",
      "Epoch 0077 [Test seq (cond on sampled tp)] | Loss 1398.367798 | Likelihood -1396.547607 | KL fp 6.0707 | FP STD 0.0079|\n",
      "KL coef: 0.4900142537504347\n",
      "Train loss (one batch): 1210.550048828125\n",
      "Train CE loss (one batch): 0.0\n",
      "Test MSE: 0.0028\n",
      "Poisson likelihood: 0.0\n",
      "CE loss: 0.0\n"
     ]
    },
    {
     "name": "stdout",
     "output_type": "stream",
     "text": [
      "Computing loss... 0\n"
     ]
    },
    {
     "name": "stderr",
     "output_type": "stream",
     "text": [
      "Experiment 10006\n",
      "Epoch 0078 [Test seq (cond on sampled tp)] | Loss 1411.663940 | Likelihood -1409.868896 | KL fp 6.0087 | FP STD 0.0081|\n",
      "KL coef: 0.49511411121293036\n",
      "Train loss (one batch): 1212.467529296875\n",
      "Train CE loss (one batch): 0.0\n",
      "Test MSE: 0.0028\n",
      "Poisson likelihood: 0.0\n",
      "CE loss: 0.0\n"
     ]
    },
    {
     "name": "stdout",
     "output_type": "stream",
     "text": [
      "Computing loss... 0\n"
     ]
    },
    {
     "name": "stderr",
     "output_type": "stream",
     "text": [
      "Experiment 10006\n",
      "Epoch 0079 [Test seq (cond on sampled tp)] | Loss 1456.241333 | Likelihood -1454.602539 | KL fp 6.1051 | FP STD 0.0073|\n",
      "KL coef: 0.500162970100801\n",
      "Train loss (one batch): 1266.879638671875\n",
      "Train CE loss (one batch): 0.0\n",
      "Test MSE: 0.0029\n",
      "Poisson likelihood: 0.0\n",
      "CE loss: 0.0\n"
     ]
    },
    {
     "name": "stdout",
     "output_type": "stream",
     "text": [
      "Computing loss... 0\n"
     ]
    },
    {
     "name": "stderr",
     "output_type": "stream",
     "text": [
      "Experiment 10006\n",
      "Epoch 0080 [Test seq (cond on sampled tp)] | Loss 1434.480347 | Likelihood -1433.232300 | KL fp 5.7277 | FP STD 0.0113|\n",
      "KL coef: 0.505161340399793\n",
      "Train loss (one batch): 1263.5621337890625\n",
      "Train CE loss (one batch): 0.0\n",
      "Test MSE: 0.0029\n",
      "Poisson likelihood: 0.0\n",
      "CE loss: 0.0\n"
     ]
    },
    {
     "name": "stdout",
     "output_type": "stream",
     "text": [
      "Computing loss... 0\n"
     ]
    },
    {
     "name": "stderr",
     "output_type": "stream",
     "text": [
      "Experiment 10006\n",
      "Epoch 0081 [Test seq (cond on sampled tp)] | Loss 1532.493530 | Likelihood -1531.078491 | KL fp 5.5289 | FP STD 0.0166|\n",
      "KL coef: 0.510109726995795\n",
      "Train loss (one batch): 1370.467041015625\n",
      "Train CE loss (one batch): 0.0\n",
      "Test MSE: 0.0031\n",
      "Poisson likelihood: 0.0\n",
      "CE loss: 0.0\n"
     ]
    },
    {
     "name": "stdout",
     "output_type": "stream",
     "text": [
      "Computing loss... 0\n"
     ]
    },
    {
     "name": "stderr",
     "output_type": "stream",
     "text": [
      "Experiment 10006\n",
      "Epoch 0082 [Test seq (cond on sampled tp)] | Loss 1449.150513 | Likelihood -1448.524414 | KL fp 5.3746 | FP STD 0.0165|\n",
      "KL coef: 0.5150086297258372\n",
      "Train loss (one batch): 1261.867431640625\n",
      "Train CE loss (one batch): 0.0\n",
      "Test MSE: 0.0029\n",
      "Poisson likelihood: 0.0\n",
      "CE loss: 0.0\n"
     ]
    },
    {
     "name": "stdout",
     "output_type": "stream",
     "text": [
      "Computing loss... 0\n"
     ]
    },
    {
     "name": "stderr",
     "output_type": "stream",
     "text": [
      "Experiment 10006\n",
      "Epoch 0083 [Test seq (cond on sampled tp)] | Loss 1437.534546 | Likelihood -1435.750000 | KL fp 5.9283 | FP STD 0.0086|\n",
      "KL coef: 0.5198585434285787\n",
      "Train loss (one batch): 1227.0711669921875\n",
      "Train CE loss (one batch): 0.0\n",
      "Test MSE: 0.0029\n",
      "Poisson likelihood: 0.0\n",
      "CE loss: 0.0\n"
     ]
    },
    {
     "name": "stdout",
     "output_type": "stream",
     "text": [
      "Computing loss... 0\n"
     ]
    },
    {
     "name": "stderr",
     "output_type": "stream",
     "text": [
      "Experiment 10006\n",
      "Epoch 0084 [Test seq (cond on sampled tp)] | Loss 1398.926392 | Likelihood -1397.048828 | KL fp 5.9839 | FP STD 0.0080|\n",
      "KL coef: 0.524659957994293\n",
      "Train loss (one batch): 1197.3931884765625\n",
      "Train CE loss (one batch): 0.0\n",
      "Test MSE: 0.0028\n",
      "Poisson likelihood: 0.0\n",
      "CE loss: 0.0\n"
     ]
    },
    {
     "name": "stdout",
     "output_type": "stream",
     "text": [
      "Computing loss... 0\n"
     ]
    },
    {
     "name": "stderr",
     "output_type": "stream",
     "text": [
      "Experiment 10006\n",
      "Epoch 0085 [Test seq (cond on sampled tp)] | Loss 1486.424438 | Likelihood -1486.002441 | KL fp 5.5401 | FP STD 0.0150|\n",
      "KL coef: 0.5294133584143501\n",
      "Train loss (one batch): 1348.3287353515625\n",
      "Train CE loss (one batch): 0.0\n",
      "Test MSE: 0.0030\n",
      "Poisson likelihood: 0.0\n",
      "CE loss: 0.0\n"
     ]
    },
    {
     "name": "stdout",
     "output_type": "stream",
     "text": [
      "Computing loss... 0\n"
     ]
    },
    {
     "name": "stderr",
     "output_type": "stream",
     "text": [
      "Experiment 10006\n",
      "Epoch 0086 [Test seq (cond on sampled tp)] | Loss 1415.403687 | Likelihood -1413.292969 | KL fp 6.0394 | FP STD 0.0077|\n",
      "KL coef: 0.5341192248302067\n",
      "Train loss (one batch): 1168.7220458984375\n",
      "Train CE loss (one batch): 0.0\n",
      "Test MSE: 0.0028\n",
      "Poisson likelihood: 0.0\n",
      "CE loss: 0.0\n"
     ]
    },
    {
     "name": "stdout",
     "output_type": "stream",
     "text": [
      "Computing loss... 0\n"
     ]
    },
    {
     "name": "stderr",
     "output_type": "stream",
     "text": [
      "Experiment 10006\n",
      "Epoch 0087 [Test seq (cond on sampled tp)] | Loss 1467.621094 | Likelihood -1467.738525 | KL fp 5.6513 | FP STD 0.0152|\n",
      "KL coef: 0.5387780325819045\n",
      "Train loss (one batch): 1275.1805419921875\n",
      "Train CE loss (one batch): 0.0\n",
      "Test MSE: 0.0029\n",
      "Poisson likelihood: 0.0\n",
      "CE loss: 0.0\n"
     ]
    },
    {
     "name": "stdout",
     "output_type": "stream",
     "text": [
      "Computing loss... 0\n"
     ]
    },
    {
     "name": "stderr",
     "output_type": "stream",
     "text": [
      "Experiment 10006\n",
      "Epoch 0088 [Test seq (cond on sampled tp)] | Loss 1364.158447 | Likelihood -1362.037720 | KL fp 5.9401 | FP STD 0.0082|\n",
      "KL coef: 0.5433902522560855\n",
      "Train loss (one batch): 1188.6875\n",
      "Train CE loss (one batch): 0.0\n",
      "Test MSE: 0.0027\n",
      "Poisson likelihood: 0.0\n",
      "CE loss: 0.0\n"
     ]
    },
    {
     "name": "stdout",
     "output_type": "stream",
     "text": [
      "Computing loss... 0\n"
     ]
    },
    {
     "name": "stderr",
     "output_type": "stream",
     "text": [
      "Experiment 10006\n",
      "Epoch 0089 [Test seq (cond on sampled tp)] | Loss 1363.835327 | Likelihood -1361.762451 | KL fp 5.9851 | FP STD 0.0087|\n",
      "KL coef: 0.5479563497335247\n",
      "Train loss (one batch): 1193.2952880859375\n",
      "Train CE loss (one batch): 0.0\n",
      "Test MSE: 0.0027\n",
      "Poisson likelihood: 0.0\n",
      "CE loss: 0.0\n"
     ]
    },
    {
     "name": "stdout",
     "output_type": "stream",
     "text": [
      "Computing loss... 0\n"
     ]
    },
    {
     "name": "stderr",
     "output_type": "stream",
     "text": [
      "Experiment 10006\n",
      "Epoch 0090 [Test seq (cond on sampled tp)] | Loss 1423.135376 | Likelihood -1421.909546 | KL fp 5.9196 | FP STD 0.0087|\n",
      "KL coef: 0.5524767862361895\n",
      "Train loss (one batch): 1245.2830810546875\n",
      "Train CE loss (one batch): 0.0\n",
      "Test MSE: 0.0029\n",
      "Poisson likelihood: 0.0\n",
      "CE loss: 0.0\n"
     ]
    },
    {
     "name": "stdout",
     "output_type": "stream",
     "text": [
      "Computing loss... 0\n"
     ]
    },
    {
     "name": "stderr",
     "output_type": "stream",
     "text": [
      "Experiment 10006\n",
      "Epoch 0091 [Test seq (cond on sampled tp)] | Loss 1367.007812 | Likelihood -1365.272827 | KL fp 5.9080 | FP STD 0.0097|\n",
      "KL coef: 0.5569520183738275\n",
      "Train loss (one batch): 1160.4949951171875\n",
      "Train CE loss (one batch): 0.0\n",
      "Test MSE: 0.0027\n",
      "Poisson likelihood: 0.0\n",
      "CE loss: 0.0\n"
     ]
    },
    {
     "name": "stdout",
     "output_type": "stream",
     "text": [
      "Computing loss... 0\n"
     ]
    },
    {
     "name": "stderr",
     "output_type": "stream",
     "text": [
      "Experiment 10006\n",
      "Epoch 0092 [Test seq (cond on sampled tp)] | Loss 1351.564087 | Likelihood -1349.380371 | KL fp 6.0912 | FP STD 0.0073|\n",
      "KL coef: 0.5613824981900892\n",
      "Train loss (one batch): 1185.7603759765625\n",
      "Train CE loss (one batch): 0.0\n",
      "Test MSE: 0.0027\n",
      "Poisson likelihood: 0.0\n",
      "CE loss: 0.0\n"
     ]
    },
    {
     "name": "stdout",
     "output_type": "stream",
     "text": [
      "Computing loss... 0\n"
     ]
    },
    {
     "name": "stderr",
     "output_type": "stream",
     "text": [
      "Experiment 10006\n",
      "Epoch 0093 [Test seq (cond on sampled tp)] | Loss 1376.224365 | Likelihood -1374.072266 | KL fp 6.0256 | FP STD 0.0078|\n",
      "KL coef: 0.5657686732081884\n",
      "Train loss (one batch): 1178.442138671875\n",
      "Train CE loss (one batch): 0.0\n",
      "Test MSE: 0.0028\n",
      "Poisson likelihood: 0.0\n",
      "CE loss: 0.0\n"
     ]
    },
    {
     "name": "stdout",
     "output_type": "stream",
     "text": [
      "Computing loss... 0\n"
     ]
    },
    {
     "name": "stderr",
     "output_type": "stream",
     "text": [
      "Experiment 10006\n",
      "Epoch 0094 [Test seq (cond on sampled tp)] | Loss 1337.981689 | Likelihood -1335.746338 | KL fp 6.1013 | FP STD 0.0071|\n",
      "KL coef: 0.5701109864761065\n",
      "Train loss (one batch): 1148.4061279296875\n",
      "Train CE loss (one batch): 0.0\n",
      "Test MSE: 0.0027\n",
      "Poisson likelihood: 0.0\n",
      "CE loss: 0.0\n"
     ]
    },
    {
     "name": "stdout",
     "output_type": "stream",
     "text": [
      "Computing loss... 0\n"
     ]
    },
    {
     "name": "stderr",
     "output_type": "stream",
     "text": [
      "Experiment 10006\n",
      "Epoch 0095 [Test seq (cond on sampled tp)] | Loss 1356.256714 | Likelihood -1354.083008 | KL fp 6.0369 | FP STD 0.0076|\n",
      "KL coef: 0.5744098766113455\n",
      "Train loss (one batch): 1178.297607421875\n",
      "Train CE loss (one batch): 0.0\n",
      "Test MSE: 0.0027\n",
      "Poisson likelihood: 0.0\n",
      "CE loss: 0.0\n"
     ]
    },
    {
     "name": "stdout",
     "output_type": "stream",
     "text": [
      "Computing loss... 0\n"
     ]
    },
    {
     "name": "stderr",
     "output_type": "stream",
     "text": [
      "Experiment 10006\n",
      "Epoch 0096 [Test seq (cond on sampled tp)] | Loss 1431.530518 | Likelihood -1429.450562 | KL fp 5.7760 | FP STD 0.0100|\n",
      "KL coef: 0.578665777845232\n",
      "Train loss (one batch): 1179.05517578125\n",
      "Train CE loss (one batch): 0.0\n",
      "Test MSE: 0.0029\n",
      "Poisson likelihood: 0.0\n",
      "CE loss: 0.0\n"
     ]
    },
    {
     "name": "stdout",
     "output_type": "stream",
     "text": [
      "Computing loss... 0\n"
     ]
    },
    {
     "name": "stderr",
     "output_type": "stream",
     "text": [
      "Experiment 10006\n",
      "Epoch 0097 [Test seq (cond on sampled tp)] | Loss 1344.983276 | Likelihood -1342.816162 | KL fp 5.8696 | FP STD 0.0093|\n",
      "KL coef: 0.5828791200667797\n",
      "Train loss (one batch): 1140.0194091796875\n",
      "Train CE loss (one batch): 0.0\n",
      "Test MSE: 0.0027\n",
      "Poisson likelihood: 0.0\n",
      "CE loss: 0.0\n"
     ]
    },
    {
     "name": "stdout",
     "output_type": "stream",
     "text": [
      "Computing loss... 0\n"
     ]
    },
    {
     "name": "stderr",
     "output_type": "stream",
     "text": [
      "Experiment 10006\n",
      "Epoch 0098 [Test seq (cond on sampled tp)] | Loss 1358.897217 | Likelihood -1356.981934 | KL fp 5.9586 | FP STD 0.0084|\n",
      "KL coef: 0.5870503288661119\n",
      "Train loss (one batch): 1181.64599609375\n",
      "Train CE loss (one batch): 0.0\n",
      "Test MSE: 0.0027\n",
      "Poisson likelihood: 0.0\n",
      "CE loss: 0.0\n"
     ]
    },
    {
     "name": "stdout",
     "output_type": "stream",
     "text": [
      "Computing loss... 0\n"
     ]
    },
    {
     "name": "stderr",
     "output_type": "stream",
     "text": [
      "Experiment 10006\n",
      "Epoch 0099 [Test seq (cond on sampled tp)] | Loss 1321.352539 | Likelihood -1319.711060 | KL fp 5.9663 | FP STD 0.0082|\n",
      "KL coef: 0.5911798255774507\n",
      "Train loss (one batch): 1160.2042236328125\n",
      "Train CE loss (one batch): 0.0\n",
      "Test MSE: 0.0027\n",
      "Poisson likelihood: 0.0\n",
      "CE loss: 0.0\n"
     ]
    },
    {
     "name": "stdout",
     "output_type": "stream",
     "text": [
      "Computing loss... 0\n"
     ]
    },
    {
     "name": "stderr",
     "output_type": "stream",
     "text": [
      "Experiment 10006\n",
      "Epoch 0100 [Test seq (cond on sampled tp)] | Loss 1337.373779 | Likelihood -1334.884766 | KL fp 6.0406 | FP STD 0.0075|\n",
      "KL coef: 0.5952680273216762\n",
      "Train loss (one batch): 1138.5489501953125\n",
      "Train CE loss (one batch): 0.0\n",
      "Test MSE: 0.0027\n",
      "Poisson likelihood: 0.0\n",
      "CE loss: 0.0\n"
     ]
    },
    {
     "name": "stdout",
     "output_type": "stream",
     "text": [
      "Training complete. Model saved.\n"
     ]
    }
   ],
   "source": [
    "for itr in range(1, num_batches * (args.niters + 1)):\n",
    "\t\toptimizer.zero_grad()\n",
    "\t\tutils.update_learning_rate(optimizer, decay_rate = 0.999, lowest = args.lr / 10)\n",
    "\n",
    "\t\twait_until_kl_inc = 10\n",
    "\t\tif itr // num_batches < wait_until_kl_inc:\n",
    "\t\t\tkl_coef = 0.\n",
    "\t\telse:\n",
    "\t\t\tkl_coef = (1-0.99** (itr // num_batches - wait_until_kl_inc))\n",
    "\n",
    "\t\tbatch_dict = utils.get_next_batch(data_obj[\"train_dataloader\"])\n",
    "\n",
    "\t\ttrain_res = model.compute_all_losses(batch_dict, n_traj_samples = 3, kl_coef = kl_coef)\n",
    "\t\ttrain_res[\"loss\"].backward()\n",
    "\t\toptimizer.step()\n",
    "\n",
    "\t\tn_iters_to_viz = 1\n",
    "\t\tif itr % (n_iters_to_viz * num_batches) == 0:\n",
    "\t\t\twith torch.no_grad():\n",
    "\n",
    "\t\t\t\ttest_res = compute_loss_all_batches(model, \n",
    "\t\t\t\t\tdata_obj[\"test_dataloader\"], args,\n",
    "\t\t\t\t\tn_batches = data_obj[\"n_test_batches\"],\n",
    "\t\t\t\t\texperimentID = experimentID,\n",
    "\t\t\t\t\tdevice = device,\n",
    "\t\t\t\t\tn_traj_samples = 3, kl_coef = kl_coef)\n",
    "\n",
    "\t\t\t\tmessage = 'Epoch {:04d} [Test seq (cond on sampled tp)] | Loss {:.6f} | Likelihood {:.6f} | KL fp {:.4f} | FP STD {:.4f}|'.format(\n",
    "\t\t\t\t\titr//num_batches, \n",
    "\t\t\t\t\ttest_res[\"loss\"].detach(), test_res[\"likelihood\"].detach(), \n",
    "\t\t\t\t\ttest_res[\"kl_first_p\"], test_res[\"std_first_p\"])\n",
    "\t\t \t\n",
    "\t\t\t\tlogger.info(\"Experiment \" + str(experimentID))\n",
    "\t\t\t\tlogger.info(message)\n",
    "\t\t\t\tlogger.info(\"KL coef: {}\".format(kl_coef))\n",
    "\t\t\t\tlogger.info(\"Train loss (one batch): {}\".format(train_res[\"loss\"].detach()))\n",
    "\t\t\t\tlogger.info(\"Train CE loss (one batch): {}\".format(train_res[\"ce_loss\"].detach()))\n",
    "\t\t\t\t\n",
    "\t\t\t\tif \"auc\" in test_res:\n",
    "\t\t\t\t\tlogger.info(\"Classification AUC (TEST): {:.4f}\".format(test_res[\"auc\"]))\n",
    "\n",
    "\t\t\t\tif \"mse\" in test_res:\n",
    "\t\t\t\t\tlogger.info(\"Test MSE: {:.4f}\".format(test_res[\"mse\"]))\n",
    "\n",
    "\t\t\t\tif \"accuracy\" in train_res:\n",
    "\t\t\t\t\tlogger.info(\"Classification accuracy (TRAIN): {:.4f}\".format(train_res[\"accuracy\"]))\n",
    "\n",
    "\t\t\t\tif \"accuracy\" in test_res:\n",
    "\t\t\t\t\tlogger.info(\"Classification accuracy (TEST): {:.4f}\".format(test_res[\"accuracy\"]))\n",
    "\n",
    "\t\t\t\tif \"pois_likelihood\" in test_res:\n",
    "\t\t\t\t\tlogger.info(\"Poisson likelihood: {}\".format(test_res[\"pois_likelihood\"]))\n",
    "\n",
    "\t\t\t\tif \"ce_loss\" in test_res:\n",
    "\t\t\t\t\tlogger.info(\"CE loss: {}\".format(test_res[\"ce_loss\"]))\n",
    "\n",
    "\t\t\ttorch.save({\n",
    "\t\t\t\t'args': args,\n",
    "\t\t\t\t'state_dict': model.state_dict(),\n",
    "\t\t\t}, ckpt_path)\n",
    "torch.save({\n",
    "    'args': args,\n",
    "    'state_dict': model.state_dict(),\n",
    "}, ckpt_path)\n",
    "\n",
    "print(\"Training complete. Model saved.\")\n"
   ]
  },
  {
   "cell_type": "markdown",
   "metadata": {},
   "source": [
    "# Loading the trained model for testing"
   ]
  },
  {
   "cell_type": "code",
   "execution_count": 17,
   "metadata": {},
   "outputs": [],
   "source": [
    "# ckpt_path = r\"C:\\Users\\msi\\Desktop\\ECE-228\\Project\\latent_ode_ece_228\\experiments\\experiment_64004.ckpt\" # with 100 datapoints (takes 3 mins for 100 iters)\n",
    "# ckpt_path = r\"C:\\Users\\msi\\Desktop\\ECE-228\\Project\\latent_ode_ece_228\\experiments\\experiment_27160.ckpt\" #with 100 datapoints (hopper)\n",
    "#34851 - 10000 datapoints -less epochs\n",
    "# ckpt_path =r\"C:\\Users\\msi\\Desktop\\ECE-228\\Project\\latent_ode_ece_228\\experiments\\experiment_34851.ckpt\"\n",
    "# 10006 - 100 epochs\n",
    "ckpt_path = r\"C:\\Users\\msi\\Desktop\\ECE-228\\Project\\latent_ode_ece_228\\experiments\\experiment_10006.ckpt\""
   ]
  },
  {
   "cell_type": "code",
   "execution_count": 18,
   "metadata": {},
   "outputs": [],
   "source": [
    "utils.get_ckpt_model(ckpt_path, model, device)"
   ]
  },
  {
   "cell_type": "code",
   "execution_count": 19,
   "metadata": {},
   "outputs": [],
   "source": [
    "test_dict = utils.get_next_batch(data_obj[\"test_dataloader\"])"
   ]
  },
  {
   "cell_type": "code",
   "execution_count": 20,
   "metadata": {},
   "outputs": [
    {
     "name": "stderr",
     "output_type": "stream",
     "text": [
      "c:\\Users\\msi\\anaconda3\\envs\\py310\\lib\\site-packages\\torchdiffeq\\_impl\\misc.py:296: UserWarning: t is not on the same device as y0. Coercing to y0.device.\n",
      "  warnings.warn(\"t is not on the same device as y0. Coercing to y0.device.\")\n"
     ]
    }
   ],
   "source": [
    "data =  test_dict[\"data_to_predict\"]\n",
    "time_steps = test_dict[\"tp_to_predict\"]\n",
    "mask = test_dict[\"mask_predicted_data\"]\n",
    "\t\t\n",
    "observed_data =  test_dict[\"observed_data\"]\n",
    "observed_time_steps = test_dict[\"observed_tp\"]\n",
    "observed_mask = test_dict[\"observed_mask\"]\n",
    "\n",
    "device = utils.get_device(time_steps)\n",
    "\n",
    "time_steps_to_predict = time_steps\n",
    "if isinstance(model, LatentODE):\n",
    "\t# sample at the original time points\n",
    "\ttime_steps_to_predict = utils.linspace_vector(time_steps[0], time_steps[-1], 100).to(device)\n",
    "\n",
    "\treconstructions, info = model.get_reconstruction(time_steps_to_predict, \n",
    "\t\t\tobserved_data, observed_time_steps, mask = observed_mask, n_traj_samples = 1)"
   ]
  },
  {
   "cell_type": "code",
   "execution_count": 25,
   "metadata": {},
   "outputs": [
    {
     "data": {
      "text/plain": [
       "torch.Size([2000, 100, 14])"
      ]
     },
     "execution_count": 25,
     "metadata": {},
     "output_type": "execute_result"
    }
   ],
   "source": [
    "observed_data.shape"
   ]
  },
  {
   "cell_type": "code",
   "execution_count": 23,
   "metadata": {},
   "outputs": [
    {
     "data": {
      "text/plain": [
       "torch.Size([1, 2000, 100, 14])"
      ]
     },
     "execution_count": 23,
     "metadata": {},
     "output_type": "execute_result"
    }
   ],
   "source": [
    "reconstructions.shape\n"
   ]
  },
  {
   "cell_type": "code",
   "execution_count": 52,
   "metadata": {},
   "outputs": [
    {
     "data": {
      "text/plain": [
       "torch.Size([2000, 100, 14])"
      ]
     },
     "execution_count": 52,
     "metadata": {},
     "output_type": "execute_result"
    }
   ],
   "source": [
    "reconstructions.mean(dim=0).detach().shape"
   ]
  },
  {
   "cell_type": "markdown",
   "metadata": {},
   "source": [
    "Enter your trajectory index"
   ]
  },
  {
   "cell_type": "code",
   "execution_count": 48,
   "metadata": {},
   "outputs": [],
   "source": [
    "traj_index=7"
   ]
  },
  {
   "cell_type": "code",
   "execution_count": 53,
   "metadata": {},
   "outputs": [
    {
     "name": "stdout",
     "output_type": "stream",
     "text": [
      "Video saved as gt_render_7/ground_truth_all_points_latent_ode.mp4\n"
     ]
    }
   ],
   "source": [
    "output_dir= f\"gt_render_{traj_index}\"\n",
    "hopper = HopperPhysics(root='data', download=False, generate=False)\n",
    "hopper.visualize(observed_data[traj_index], plot_name=f'traj_{traj_index}', dirname=output_dir)\n",
    "output_vid_gt=f\"{output_dir}/ground_truth_all_points_latent_ode.mp4\"\n",
    "frames_to_video(output_dir,output_vid_gt)"
   ]
  },
  {
   "cell_type": "code",
   "execution_count": 49,
   "metadata": {},
   "outputs": [
    {
     "name": "stdout",
     "output_type": "stream",
     "text": [
      "Video saved as pred_render_7/ground_truth_all_points_latent_ode.mp4\n"
     ]
    }
   ],
   "source": [
    "output_dir= f\"pred_render_{traj_index}\"\n",
    "hopper.visualize(reconstructions.mean(dim=0)[traj_index].detach(), plot_name=f'traj_{traj_index}', dirname=output_dir)\n",
    "output_vid_gt=f\"{output_dir}/ground_truth_all_points_latent_ode.mp4\"\n",
    "frames_to_video(output_dir,output_vid_gt)"
   ]
  }
 ],
 "metadata": {
  "kernelspec": {
   "display_name": "py310",
   "language": "python",
   "name": "python3"
  },
  "language_info": {
   "codemirror_mode": {
    "name": "ipython",
    "version": 3
   },
   "file_extension": ".py",
   "mimetype": "text/x-python",
   "name": "python",
   "nbconvert_exporter": "python",
   "pygments_lexer": "ipython3",
   "version": "3.10.14"
  }
 },
 "nbformat": 4,
 "nbformat_minor": 2
}
