{
 "cells": [
  {
   "cell_type": "markdown",
   "metadata": {},
   "source": [
    "# Training the Model"
   ]
  },
  {
   "cell_type": "code",
   "execution_count": 15,
   "metadata": {},
   "outputs": [
    {
     "name": "stdout",
     "output_type": "stream",
     "text": [
      "Requirement already satisfied: dm-control in c:\\users\\msi\\anaconda3\\envs\\py310\\lib\\site-packages (1.0.19)\n",
      "Requirement already satisfied: absl-py>=0.7.0 in c:\\users\\msi\\anaconda3\\envs\\py310\\lib\\site-packages (from dm-control) (1.4.0)\n",
      "Requirement already satisfied: dm-env in c:\\users\\msi\\anaconda3\\envs\\py310\\lib\\site-packages (from dm-control) (1.6)\n",
      "Requirement already satisfied: dm-tree!=0.1.2 in c:\\users\\msi\\anaconda3\\envs\\py310\\lib\\site-packages (from dm-control) (0.1.8)\n",
      "Requirement already satisfied: glfw in c:\\users\\msi\\anaconda3\\envs\\py310\\lib\\site-packages (from dm-control) (2.7.0)\n",
      "Requirement already satisfied: labmaze in c:\\users\\msi\\anaconda3\\envs\\py310\\lib\\site-packages (from dm-control) (1.0.6)\n",
      "Requirement already satisfied: lxml in c:\\users\\msi\\anaconda3\\envs\\py310\\lib\\site-packages (from dm-control) (5.1.1)\n",
      "Requirement already satisfied: mujoco>=3.1.5 in c:\\users\\msi\\anaconda3\\envs\\py310\\lib\\site-packages (from dm-control) (3.1.5)\n",
      "Requirement already satisfied: numpy>=1.9.0 in c:\\users\\msi\\anaconda3\\envs\\py310\\lib\\site-packages (from dm-control) (1.23.5)\n",
      "Requirement already satisfied: protobuf>=3.19.4 in c:\\users\\msi\\anaconda3\\envs\\py310\\lib\\site-packages (from dm-control) (3.19.6)\n",
      "Requirement already satisfied: pyopengl>=3.1.4 in c:\\users\\msi\\anaconda3\\envs\\py310\\lib\\site-packages (from dm-control) (3.1.7)\n",
      "Requirement already satisfied: pyparsing>=3.0.0 in c:\\users\\msi\\anaconda3\\envs\\py310\\lib\\site-packages (from dm-control) (3.0.9)\n",
      "Requirement already satisfied: requests in c:\\users\\msi\\anaconda3\\envs\\py310\\lib\\site-packages (from dm-control) (2.31.0)\n",
      "Requirement already satisfied: setuptools!=50.0.0 in c:\\users\\msi\\anaconda3\\envs\\py310\\lib\\site-packages (from dm-control) (68.2.2)\n",
      "Requirement already satisfied: scipy in c:\\users\\msi\\anaconda3\\envs\\py310\\lib\\site-packages (from dm-control) (1.12.0)\n",
      "Requirement already satisfied: tqdm in c:\\users\\msi\\anaconda3\\envs\\py310\\lib\\site-packages (from dm-control) (4.65.0)\n",
      "Requirement already satisfied: etils[epath] in c:\\users\\msi\\anaconda3\\envs\\py310\\lib\\site-packages (from mujoco>=3.1.5->dm-control) (1.7.0)\n",
      "Requirement already satisfied: charset-normalizer<4,>=2 in c:\\users\\msi\\appdata\\roaming\\python\\python310\\site-packages (from requests->dm-control) (3.3.2)\n",
      "Requirement already satisfied: idna<4,>=2.5 in c:\\users\\msi\\anaconda3\\envs\\py310\\lib\\site-packages (from requests->dm-control) (3.4)\n",
      "Requirement already satisfied: urllib3<3,>=1.21.1 in c:\\users\\msi\\anaconda3\\envs\\py310\\lib\\site-packages (from requests->dm-control) (2.1.0)\n",
      "Requirement already satisfied: certifi>=2017.4.17 in c:\\users\\msi\\anaconda3\\envs\\py310\\lib\\site-packages (from requests->dm-control) (2024.2.2)\n",
      "Requirement already satisfied: colorama in c:\\users\\msi\\appdata\\roaming\\python\\python310\\site-packages (from tqdm->dm-control) (0.4.6)\n",
      "Requirement already satisfied: fsspec in c:\\users\\msi\\anaconda3\\envs\\py310\\lib\\site-packages (from etils[epath]->mujoco>=3.1.5->dm-control) (2024.3.1)\n",
      "Requirement already satisfied: importlib_resources in c:\\users\\msi\\anaconda3\\envs\\py310\\lib\\site-packages (from etils[epath]->mujoco>=3.1.5->dm-control) (6.4.0)\n",
      "Requirement already satisfied: typing_extensions in c:\\users\\msi\\anaconda3\\envs\\py310\\lib\\site-packages (from etils[epath]->mujoco>=3.1.5->dm-control) (4.10.0)\n",
      "Requirement already satisfied: zipp in c:\\users\\msi\\anaconda3\\envs\\py310\\lib\\site-packages (from etils[epath]->mujoco>=3.1.5->dm-control) (3.18.1)\n"
     ]
    }
   ],
   "source": [
    "! pip install dm-control"
   ]
  },
  {
   "cell_type": "code",
   "execution_count": 16,
   "metadata": {},
   "outputs": [
    {
     "name": "stdout",
     "output_type": "stream",
     "text": [
      "Requirement already satisfied: torchdiffeq in c:\\users\\msi\\anaconda3\\envs\\py310\\lib\\site-packages (0.2.3)\n",
      "Requirement already satisfied: torch>=1.3.0 in c:\\users\\msi\\anaconda3\\envs\\py310\\lib\\site-packages (from torchdiffeq) (2.2.2)\n",
      "Requirement already satisfied: scipy>=1.4.0 in c:\\users\\msi\\anaconda3\\envs\\py310\\lib\\site-packages (from torchdiffeq) (1.12.0)\n",
      "Requirement already satisfied: numpy<1.29.0,>=1.22.4 in c:\\users\\msi\\anaconda3\\envs\\py310\\lib\\site-packages (from scipy>=1.4.0->torchdiffeq) (1.23.5)\n",
      "Requirement already satisfied: filelock in c:\\users\\msi\\anaconda3\\envs\\py310\\lib\\site-packages (from torch>=1.3.0->torchdiffeq) (3.13.1)\n",
      "Requirement already satisfied: typing-extensions>=4.8.0 in c:\\users\\msi\\anaconda3\\envs\\py310\\lib\\site-packages (from torch>=1.3.0->torchdiffeq) (4.10.0)\n",
      "Requirement already satisfied: sympy in c:\\users\\msi\\anaconda3\\envs\\py310\\lib\\site-packages (from torch>=1.3.0->torchdiffeq) (1.12)\n",
      "Requirement already satisfied: networkx in c:\\users\\msi\\anaconda3\\envs\\py310\\lib\\site-packages (from torch>=1.3.0->torchdiffeq) (3.1)\n",
      "Requirement already satisfied: jinja2 in c:\\users\\msi\\anaconda3\\envs\\py310\\lib\\site-packages (from torch>=1.3.0->torchdiffeq) (3.1.3)\n",
      "Requirement already satisfied: fsspec in c:\\users\\msi\\anaconda3\\envs\\py310\\lib\\site-packages (from torch>=1.3.0->torchdiffeq) (2024.3.1)\n",
      "Requirement already satisfied: MarkupSafe>=2.0 in c:\\users\\msi\\anaconda3\\envs\\py310\\lib\\site-packages (from jinja2->torch>=1.3.0->torchdiffeq) (2.1.3)\n",
      "Requirement already satisfied: mpmath>=0.19 in c:\\users\\msi\\anaconda3\\envs\\py310\\lib\\site-packages (from sympy->torch>=1.3.0->torchdiffeq) (1.3.0)\n"
     ]
    }
   ],
   "source": [
    "! pip install torchdiffeq"
   ]
  },
  {
   "cell_type": "code",
   "execution_count": 21,
   "metadata": {},
   "outputs": [],
   "source": [
    "import torch.optim as optim\n",
    "from torch.distributions.normal import Normal\n",
    "import numpy as np\n",
    "import time \n",
    "from random import SystemRandom\n",
    "import os\n",
    "from mujoco_physics import HopperPhysics\n",
    "\n",
    "import lib.utils as utils\n",
    "from lib.create_latent_ode_model import create_LatentODE_model\n",
    "from lib.parse_datasets import parse_datasets\n",
    "from lib.utils import compute_loss_all_batches, get_next_batch, makedirs, get_logger\n",
    "\n",
    "from lib.rnn_baselines import *\n",
    "from lib.ode_rnn import *\n",
    "from lib.create_latent_ode_model import create_LatentODE_model\n",
    "from lib.parse_datasets import parse_datasets\n",
    "from lib.ode_func import ODEFunc, ODEFunc_w_Poisson\n",
    "from lib.diffeq_solver import DiffeqSolver\n",
    "from mujoco_physics import HopperPhysics\n",
    "from lib.latent_ode import LatentODE\n"
   ]
  },
  {
   "cell_type": "code",
   "execution_count": 22,
   "metadata": {},
   "outputs": [
    {
     "data": {
      "text/plain": [
       "device(type='cuda', index=0)"
      ]
     },
     "execution_count": 22,
     "metadata": {},
     "output_type": "execute_result"
    }
   ],
   "source": [
    "device = torch.device(\"cuda:0\" if torch.cuda.is_available() else \"cpu\")\n",
    "device"
   ]
  },
  {
   "cell_type": "code",
   "execution_count": 23,
   "metadata": {},
   "outputs": [],
   "source": [
    "class Args:\n",
    "    def __init__(self, **kwargs):\n",
    "        self.__dict__.update(kwargs)"
   ]
  },
  {
   "cell_type": "markdown",
   "metadata": {},
   "source": [
    "Make changes to all the input args here"
   ]
  },
  {
   "cell_type": "code",
   "execution_count": 39,
   "metadata": {},
   "outputs": [],
   "source": [
    "args = Args(\n",
    "    n=10000,  # Size of the dataset\n",
    "    niters=100,\n",
    "    lr=1e-2,  # Starting learning rate\n",
    "    batch_size=50,\n",
    "    viz=False,  # Show plots while training\n",
    "    save='experiments/',  # Path to save checkpoints\n",
    "    load=None,  # ID of the experiment to load for evaluation. If None, run a new experiment\n",
    "    random_seed=1991,  # Random seed\n",
    "    dataset='hopper',  # Dataset to load\n",
    "    sample_tp=0.5,  # Number of time points to sub-sample\n",
    "    cut_tp=None,  # Cut out the section of the timeline\n",
    "    quantization=0.1,  # Quantization on the physionet dataset\n",
    "    latent_ode=False,  # Run Latent ODE seq2seq model\n",
    "    z0_encoder='odernn',  # Type of encoder for Latent ODE model\n",
    "    classic_rnn=False,  # Run RNN baseline\n",
    "    rnn_cell=\"expdecay\",  # RNN Cell type #gru, expdecay- gru-d\n",
    "    input_decay=True,  # For RNN: use the input that is the weighted average of empirical mean and previous value\n",
    "    ode_rnn=True,  # Run ODE-RNN baseline\n",
    "    rnn_vae=False,  # Run RNN baseline: seq2seq model with sampling of the h0 and ELBO loss\n",
    "    latents=18,  # Size of the latent state\n",
    "    rec_dims=30,  # Dimensionality of the recognition model\n",
    "    rec_layers=3,  # Number of layers in ODE func in recognition ODE\n",
    "    gen_layers=3,  # Number of layers in ODE func in generative ODE\n",
    "    units=300,  # Number of units per layer in ODE func\n",
    "    gru_units=100,  # Number of units per layer in each of GRU update networks\n",
    "    poisson=False,  # Model poisson-process likelihood for the density of events in addition to reconstruction\n",
    "    classif=False,  # Include binary classification loss\n",
    "    linear_classif=False,  # Use a linear classifier instead of 1-layer NN\n",
    "    extrap=False,  # Set extrapolation mode\n",
    "    timepoints=100,  # Total number of time-points\n",
    "    max_t=5.0,  # Subsample points in the interval [0, args.max_t]\n",
    "    noise_weight=0.01  # Noise amplitude for generated trajectories\n",
    ")\n"
   ]
  },
  {
   "cell_type": "code",
   "execution_count": 40,
   "metadata": {},
   "outputs": [],
   "source": [
    "file_name = \"run_models\"\n",
    "makedirs(args.save)"
   ]
  },
  {
   "cell_type": "code",
   "execution_count": 41,
   "metadata": {},
   "outputs": [
    {
     "name": "stdout",
     "output_type": "stream",
     "text": [
      "Sampling dataset of 10000 training examples\n",
      "Time taken for setup: 0.0009765625 seconds\n",
      "Input command: run_models.py --n 10000 --niters 100 --lr 0.01 --batch_size 50 --viz False --save experiments/ --random_seed 1991 --dataset hopper --latent_ode False --classic_rnn False --ode_rnn True--z0_encoder odernn --latents 18 --rec_dims 30 --rec_layers 3 --gen_layers 3 --units 300 --gru_units 100 --timepoints 100 --max_t 5.0 --noise_weight 0.01 --extrap False \n"
     ]
    }
   ],
   "source": [
    "torch.manual_seed(args.random_seed)\n",
    "np.random.seed(args.random_seed)\n",
    "\n",
    "experimentID = args.load\n",
    "if experimentID is None:\n",
    "\t# Make a new experiment ID\n",
    "\texperimentID = int(SystemRandom().random()*100000)\n",
    "\n",
    "start = time.time()\n",
    "print(\"Sampling dataset of {} training examples\".format(args.n))\n",
    "\n",
    "input_command = f\"run_models.py --n {args.n} --niters {args.niters} --lr {args.lr} --batch_size {args.batch_size} \" \\\n",
    "                f\"--viz {args.viz} --save {args.save} --random_seed {args.random_seed} --dataset {args.dataset} \" \\\n",
    "                f\"--latent_ode {args.latent_ode} --classic_rnn {args.classic_rnn} --ode_rnn {args.ode_rnn}--z0_encoder {args.z0_encoder} --latents {args.latents} \" \\\n",
    "                f\"--rec_dims {args.rec_dims} --rec_layers {args.rec_layers} --gen_layers {args.gen_layers} \" \\\n",
    "                f\"--units {args.units} --gru_units {args.gru_units} --timepoints {args.timepoints} --max_t {args.max_t} \" \\\n",
    "                f\"--noise_weight {args.noise_weight} --extrap {args.extrap} \"\n",
    "\n",
    "if args.load:\n",
    "\tinput_command += f\" --load {args.load}\"\n",
    "\n",
    "makedirs(\"results/\")\n",
    "    \n",
    "print(f\"Time taken for setup: {time.time() - start} seconds\")\n",
    "print(f\"Input command: {input_command}\")"
   ]
  },
  {
   "cell_type": "code",
   "execution_count": 42,
   "metadata": {},
   "outputs": [
    {
     "name": "stdout",
     "output_type": "stream",
     "text": [
      "Input dimension: 17\n"
     ]
    }
   ],
   "source": [
    "data_obj = parse_datasets(args, device)\n",
    "input_dim = data_obj[\"input_dim\"]\n",
    "\t\n",
    "print(f\"Input dimension: {input_dim}\")\n",
    "\n",
    "classif_per_tp = False\n",
    "if (\"classif_per_tp\" in data_obj):\n",
    "\t\t# do classification per time point rather than on a time series as a whole\n",
    "\t\tclassif_per_tp = data_obj[\"classif_per_tp\"]\n",
    "\n",
    "if args.classif and (args.dataset == \"hopper\" or args.dataset == \"periodic\"):\n",
    "\t\traise Exception(\"Classification task is not available for MuJoCo and 1d datasets\")\n",
    "\n",
    "n_labels = 1\n",
    "if args.classif:\n",
    "\tif (\"n_labels\" in data_obj):\n",
    "\t\tn_labels = data_obj[\"n_labels\"]\n",
    "\telse:\n",
    "\t\traise Exception(\"Please provide number of labels for classification task\")"
   ]
  },
  {
   "cell_type": "code",
   "execution_count": 43,
   "metadata": {},
   "outputs": [],
   "source": [
    "obsrv_std = 1e-3 \n",
    "obsrv_std = torch.Tensor([obsrv_std]).to(device)\n",
    "z0_prior = Normal(torch.Tensor([0.0]).to(device), torch.Tensor([1.]).to(device))"
   ]
  },
  {
   "cell_type": "markdown",
   "metadata": {},
   "source": [
    "# Model Initialization"
   ]
  },
  {
   "cell_type": "code",
   "execution_count": 44,
   "metadata": {},
   "outputs": [],
   "source": [
    "if args.rnn_vae:\n",
    "\t\tif args.poisson:\n",
    "\t\t\tprint(\"Poisson process likelihood not implemented for RNN-VAE: ignoring --poisson\")\n",
    "\n",
    "\t\t# Create RNN-VAE model\n",
    "\t\tmodel = RNN_VAE(input_dim, args.latents, \n",
    "\t\t\tdevice = device, \n",
    "\t\t\trec_dims = args.rec_dims, \n",
    "\t\t\tconcat_mask = True, \n",
    "\t\t\tobsrv_std = obsrv_std,\n",
    "\t\t\tz0_prior = z0_prior,\n",
    "\t\t\tuse_binary_classif = args.classif,\n",
    "\t\t\tclassif_per_tp = classif_per_tp,\n",
    "\t\t\tlinear_classifier = args.linear_classif,\n",
    "\t\t\tn_units = args.units,\n",
    "\t\t\tinput_space_decay = args.input_decay,\n",
    "\t\t\tcell = args.rnn_cell,\n",
    "\t\t\tn_labels = n_labels,\n",
    "\t\t\ttrain_classif_w_reconstr = (args.dataset == \"physionet\")\n",
    "\t\t\t).to(device)\n",
    "elif args.classic_rnn:\n",
    "\t\tif args.poisson:\n",
    "\t\t\tprint(\"Poisson process likelihood not implemented for RNN: ignoring --poisson\")\n",
    "\n",
    "\t\tif args.extrap:\n",
    "\t\t\traise Exception(\"Extrapolation for standard RNN not implemented\")\n",
    "\t\t# Create RNN model\n",
    "\t\tmodel = Classic_RNN(input_dim, args.latents, device, \n",
    "\t\t\tconcat_mask = True, obsrv_std = obsrv_std,\n",
    "\t\t\tn_units = args.units,\n",
    "\t\t\tuse_binary_classif = args.classif,\n",
    "\t\t\tclassif_per_tp = classif_per_tp,\n",
    "\t\t\tlinear_classifier = args.linear_classif,\n",
    "\t\t\tinput_space_decay = args.input_decay,\n",
    "\t\t\tcell = args.rnn_cell,\n",
    "\t\t\tn_labels = n_labels,\n",
    "\t\t\ttrain_classif_w_reconstr = (args.dataset == \"physionet\")\n",
    "\t\t\t).to(device)\n",
    "elif args.ode_rnn:\n",
    "\t\t# Create ODE-GRU model\n",
    "\t\tn_ode_gru_dims = args.latents\n",
    "\t\t\t\t\n",
    "\t\tif args.poisson:\n",
    "\t\t\tprint(\"Poisson process likelihood not implemented for ODE-RNN: ignoring --poisson\")\n",
    "\n",
    "\t\tif args.extrap:\n",
    "\t\t\traise Exception(\"Extrapolation for ODE-RNN not implemented\")\n",
    "\n",
    "\t\tode_func_net = utils.create_net(n_ode_gru_dims, n_ode_gru_dims, \n",
    "\t\t\tn_layers = args.rec_layers, n_units = args.units, nonlinear = nn.Tanh)\n",
    "\n",
    "\t\trec_ode_func = ODEFunc(\n",
    "\t\t\tinput_dim = input_dim, \n",
    "\t\t\tlatent_dim = n_ode_gru_dims,\n",
    "\t\t\tode_func_net = ode_func_net,\n",
    "\t\t\tdevice = device).to(device)\n",
    "\n",
    "\t\tz0_diffeq_solver = DiffeqSolver(input_dim, rec_ode_func, \"euler\", args.latents, \n",
    "\t\t\todeint_rtol = 1e-3, odeint_atol = 1e-4, device = device)\n",
    "\t\n",
    "\t\tmodel = ODE_RNN(input_dim, n_ode_gru_dims, device = device, \n",
    "\t\t\tz0_diffeq_solver = z0_diffeq_solver, n_gru_units = args.gru_units,\n",
    "\t\t\tconcat_mask = True, obsrv_std = obsrv_std,\n",
    "\t\t\tuse_binary_classif = args.classif,\n",
    "\t\t\tclassif_per_tp = classif_per_tp,\n",
    "\t\t\tn_labels = n_labels,\n",
    "\t\t\ttrain_classif_w_reconstr = (args.dataset == \"physionet\")\n",
    "\t\t\t).to(device)\n",
    "elif args.latent_ode:\n",
    "\t\tmodel = create_LatentODE_model(args, input_dim, z0_prior, obsrv_std, device, \n",
    "\t\t\tclassif_per_tp = classif_per_tp,\n",
    "\t\t\tn_labels = n_labels)\n",
    "else:\n",
    "\traise Exception(\"Model not specified\")"
   ]
  },
  {
   "cell_type": "code",
   "execution_count": 45,
   "metadata": {},
   "outputs": [
    {
     "name": "stdout",
     "output_type": "stream",
     "text": [
      "experiments/experiment_ODE_RNN_0.5.ckpt\n"
     ]
    }
   ],
   "source": [
    "ckpt_path = os.path.join(args.save, \"experiment_\" + model.__class__.__name__+\"_\"+ str(args.sample_tp)+ '.ckpt')\n",
    "print(ckpt_path)"
   ]
  },
  {
   "cell_type": "markdown",
   "metadata": {},
   "source": [
    "Change the path according to your environment (script_path variable) (Strictly run this only once)"
   ]
  },
  {
   "cell_type": "code",
   "execution_count": 13,
   "metadata": {},
   "outputs": [
    {
     "name": "stderr",
     "output_type": "stream",
     "text": [
      "C:\\Users\\msi\\Desktop\\ECE-228\\Project\\latent_ode_ece_228\n",
      "run_models.py --n 10000 --niters 100 --lr 0.01 --batch_size 50 --viz False --save experiments/ --random_seed 1991 --dataset hopper --latent_ode False --classic_rnn False --ode_rnn True--z0_encoder odernn --latents 18 --rec_dims 30 --rec_layers 3 --gen_layers 3 --units 300 --gru_units 100 --timepoints 100 --max_t 5.0 --noise_weight 0.01 --extrap False \n"
     ]
    },
    {
     "name": "stdout",
     "output_type": "stream",
     "text": [
      "logs/run_models_ODE_RNN_0.3.log\n"
     ]
    }
   ],
   "source": [
    "log_path = \"logs/\" + file_name + \"_\" + model.__class__.__name__+\"_\" +str(args.sample_tp)+ \".log\"\n",
    "print(log_path)\n",
    "if not os.path.exists(\"logs/\"):\n",
    "\tutils.makedirs(\"logs/\")\n",
    "script_path = os.path.abspath(r\"C:\\Users\\msi\\Desktop\\ECE-228\\Project\\latent_ode_ece_228\") \n",
    "\n",
    "logger = get_logger(logpath=log_path, filepath=script_path)\n",
    "logger.info(input_command)"
   ]
  },
  {
   "cell_type": "code",
   "execution_count": 14,
   "metadata": {},
   "outputs": [],
   "source": [
    "optimizer = optim.Adamax(model.parameters(), lr=args.lr)\n",
    "num_batches = data_obj[\"n_train_batches\"]"
   ]
  },
  {
   "cell_type": "code",
   "execution_count": 15,
   "metadata": {},
   "outputs": [
    {
     "name": "stderr",
     "output_type": "stream",
     "text": [
      "c:\\Users\\msi\\anaconda3\\envs\\py310\\lib\\site-packages\\torchdiffeq\\_impl\\misc.py:296: UserWarning: t is not on the same device as y0. Coercing to y0.device.\n",
      "  warnings.warn(\"t is not on the same device as y0. Coercing to y0.device.\")\n"
     ]
    },
    {
     "name": "stdout",
     "output_type": "stream",
     "text": [
      "Computing loss... 0\n"
     ]
    },
    {
     "name": "stderr",
     "output_type": "stream",
     "text": [
      "Experiment 51614\n",
      "Epoch 0001 [Test seq (cond on sampled tp)] | Loss 139995.078125 | Likelihood -139995.078125 | KL fp 0.0000 | FP STD 0.0000|\n",
      "KL coef: 0.0\n",
      "Train loss (one batch): 131206.59375\n",
      "Train CE loss (one batch): 0.0\n",
      "Test MSE: 0.2800\n",
      "Poisson likelihood: 0.0\n",
      "CE loss: 0.0\n"
     ]
    },
    {
     "name": "stdout",
     "output_type": "stream",
     "text": [
      "Computing loss... 0\n"
     ]
    },
    {
     "name": "stderr",
     "output_type": "stream",
     "text": [
      "Experiment 51614\n",
      "Epoch 0002 [Test seq (cond on sampled tp)] | Loss 111982.929688 | Likelihood -111982.929688 | KL fp 0.0000 | FP STD 0.0000|\n",
      "KL coef: 0.0\n",
      "Train loss (one batch): 101267.65625\n",
      "Train CE loss (one batch): 0.0\n",
      "Test MSE: 0.2240\n",
      "Poisson likelihood: 0.0\n",
      "CE loss: 0.0\n"
     ]
    },
    {
     "name": "stdout",
     "output_type": "stream",
     "text": [
      "Computing loss... 0\n"
     ]
    },
    {
     "name": "stderr",
     "output_type": "stream",
     "text": [
      "Experiment 51614\n",
      "Epoch 0003 [Test seq (cond on sampled tp)] | Loss 78475.210938 | Likelihood -78475.210938 | KL fp 0.0000 | FP STD 0.0000|\n",
      "KL coef: 0.0\n",
      "Train loss (one batch): 76367.0625\n",
      "Train CE loss (one batch): 0.0\n",
      "Test MSE: 0.1570\n",
      "Poisson likelihood: 0.0\n",
      "CE loss: 0.0\n"
     ]
    },
    {
     "name": "stdout",
     "output_type": "stream",
     "text": [
      "Computing loss... 0\n"
     ]
    },
    {
     "name": "stderr",
     "output_type": "stream",
     "text": [
      "Experiment 51614\n",
      "Epoch 0004 [Test seq (cond on sampled tp)] | Loss 68556.687500 | Likelihood -68556.687500 | KL fp 0.0000 | FP STD 0.0000|\n",
      "KL coef: 0.0\n",
      "Train loss (one batch): 67925.5078125\n",
      "Train CE loss (one batch): 0.0\n",
      "Test MSE: 0.1371\n",
      "Poisson likelihood: 0.0\n",
      "CE loss: 0.0\n"
     ]
    },
    {
     "name": "stdout",
     "output_type": "stream",
     "text": [
      "Computing loss... 0\n"
     ]
    },
    {
     "name": "stderr",
     "output_type": "stream",
     "text": [
      "Experiment 51614\n",
      "Epoch 0005 [Test seq (cond on sampled tp)] | Loss 62579.500000 | Likelihood -62579.500000 | KL fp 0.0000 | FP STD 0.0000|\n",
      "KL coef: 0.0\n",
      "Train loss (one batch): 62220.546875\n",
      "Train CE loss (one batch): 0.0\n",
      "Test MSE: 0.1252\n",
      "Poisson likelihood: 0.0\n",
      "CE loss: 0.0\n"
     ]
    },
    {
     "name": "stdout",
     "output_type": "stream",
     "text": [
      "Computing loss... 0\n"
     ]
    },
    {
     "name": "stderr",
     "output_type": "stream",
     "text": [
      "Experiment 51614\n",
      "Epoch 0006 [Test seq (cond on sampled tp)] | Loss 58642.355469 | Likelihood -58642.355469 | KL fp 0.0000 | FP STD 0.0000|\n",
      "KL coef: 0.0\n",
      "Train loss (one batch): 58187.52734375\n",
      "Train CE loss (one batch): 0.0\n",
      "Test MSE: 0.1173\n",
      "Poisson likelihood: 0.0\n",
      "CE loss: 0.0\n"
     ]
    },
    {
     "name": "stdout",
     "output_type": "stream",
     "text": [
      "Computing loss... 0\n"
     ]
    },
    {
     "name": "stderr",
     "output_type": "stream",
     "text": [
      "Experiment 51614\n",
      "Epoch 0007 [Test seq (cond on sampled tp)] | Loss 55711.078125 | Likelihood -55711.078125 | KL fp 0.0000 | FP STD 0.0000|\n",
      "KL coef: 0.0\n",
      "Train loss (one batch): 47411.51953125\n",
      "Train CE loss (one batch): 0.0\n",
      "Test MSE: 0.1114\n",
      "Poisson likelihood: 0.0\n",
      "CE loss: 0.0\n"
     ]
    },
    {
     "name": "stdout",
     "output_type": "stream",
     "text": [
      "Computing loss... 0\n"
     ]
    },
    {
     "name": "stderr",
     "output_type": "stream",
     "text": [
      "Experiment 51614\n",
      "Epoch 0008 [Test seq (cond on sampled tp)] | Loss 52996.050781 | Likelihood -52996.050781 | KL fp 0.0000 | FP STD 0.0000|\n",
      "KL coef: 0.0\n",
      "Train loss (one batch): 51809.60546875\n",
      "Train CE loss (one batch): 0.0\n",
      "Test MSE: 0.1060\n",
      "Poisson likelihood: 0.0\n",
      "CE loss: 0.0\n"
     ]
    },
    {
     "name": "stdout",
     "output_type": "stream",
     "text": [
      "Computing loss... 0\n"
     ]
    },
    {
     "name": "stderr",
     "output_type": "stream",
     "text": [
      "Experiment 51614\n",
      "Epoch 0009 [Test seq (cond on sampled tp)] | Loss 51611.437500 | Likelihood -51611.437500 | KL fp 0.0000 | FP STD 0.0000|\n",
      "KL coef: 0.0\n",
      "Train loss (one batch): 50683.16015625\n",
      "Train CE loss (one batch): 0.0\n",
      "Test MSE: 0.1032\n",
      "Poisson likelihood: 0.0\n",
      "CE loss: 0.0\n"
     ]
    },
    {
     "name": "stdout",
     "output_type": "stream",
     "text": [
      "Computing loss... 0\n"
     ]
    },
    {
     "name": "stderr",
     "output_type": "stream",
     "text": [
      "Experiment 51614\n",
      "Epoch 0010 [Test seq (cond on sampled tp)] | Loss 50287.781250 | Likelihood -50287.781250 | KL fp 0.0000 | FP STD 0.0000|\n",
      "KL coef: 0.0\n",
      "Train loss (one batch): 46240.265625\n",
      "Train CE loss (one batch): 0.0\n",
      "Test MSE: 0.1006\n",
      "Poisson likelihood: 0.0\n",
      "CE loss: 0.0\n"
     ]
    },
    {
     "name": "stdout",
     "output_type": "stream",
     "text": [
      "Computing loss... 0\n"
     ]
    },
    {
     "name": "stderr",
     "output_type": "stream",
     "text": [
      "Experiment 51614\n",
      "Epoch 0011 [Test seq (cond on sampled tp)] | Loss 48742.945312 | Likelihood -48742.945312 | KL fp 0.0000 | FP STD 0.0000|\n",
      "KL coef: 0.010000000000000009\n",
      "Train loss (one batch): 44968.984375\n",
      "Train CE loss (one batch): 0.0\n",
      "Test MSE: 0.0975\n",
      "Poisson likelihood: 0.0\n",
      "CE loss: 0.0\n"
     ]
    },
    {
     "name": "stdout",
     "output_type": "stream",
     "text": [
      "Computing loss... 0\n"
     ]
    },
    {
     "name": "stderr",
     "output_type": "stream",
     "text": [
      "Experiment 51614\n",
      "Epoch 0012 [Test seq (cond on sampled tp)] | Loss 48585.984375 | Likelihood -48585.984375 | KL fp 0.0000 | FP STD 0.0000|\n",
      "KL coef: 0.01990000000000003\n",
      "Train loss (one batch): 45409.09375\n",
      "Train CE loss (one batch): 0.0\n",
      "Test MSE: 0.0972\n",
      "Poisson likelihood: 0.0\n",
      "CE loss: 0.0\n"
     ]
    },
    {
     "name": "stdout",
     "output_type": "stream",
     "text": [
      "Computing loss... 0\n"
     ]
    },
    {
     "name": "stderr",
     "output_type": "stream",
     "text": [
      "Experiment 51614\n",
      "Epoch 0013 [Test seq (cond on sampled tp)] | Loss 47526.578125 | Likelihood -47526.578125 | KL fp 0.0000 | FP STD 0.0000|\n",
      "KL coef: 0.029700999999999977\n",
      "Train loss (one batch): 42129.3828125\n",
      "Train CE loss (one batch): 0.0\n",
      "Test MSE: 0.0951\n",
      "Poisson likelihood: 0.0\n",
      "CE loss: 0.0\n"
     ]
    },
    {
     "name": "stdout",
     "output_type": "stream",
     "text": [
      "Computing loss... 0\n"
     ]
    },
    {
     "name": "stderr",
     "output_type": "stream",
     "text": [
      "Experiment 51614\n",
      "Epoch 0014 [Test seq (cond on sampled tp)] | Loss 46791.660156 | Likelihood -46791.660156 | KL fp 0.0000 | FP STD 0.0000|\n",
      "KL coef: 0.039403990000000055\n",
      "Train loss (one batch): 43065.7421875\n",
      "Train CE loss (one batch): 0.0\n",
      "Test MSE: 0.0936\n",
      "Poisson likelihood: 0.0\n",
      "CE loss: 0.0\n"
     ]
    },
    {
     "name": "stdout",
     "output_type": "stream",
     "text": [
      "Computing loss... 0\n"
     ]
    },
    {
     "name": "stderr",
     "output_type": "stream",
     "text": [
      "Experiment 51614\n",
      "Epoch 0015 [Test seq (cond on sampled tp)] | Loss 46833.601562 | Likelihood -46833.601562 | KL fp 0.0000 | FP STD 0.0000|\n",
      "KL coef: 0.04900995010000009\n",
      "Train loss (one batch): 46034.71875\n",
      "Train CE loss (one batch): 0.0\n",
      "Test MSE: 0.0937\n",
      "Poisson likelihood: 0.0\n",
      "CE loss: 0.0\n"
     ]
    },
    {
     "name": "stdout",
     "output_type": "stream",
     "text": [
      "Computing loss... 0\n"
     ]
    },
    {
     "name": "stderr",
     "output_type": "stream",
     "text": [
      "Experiment 51614\n",
      "Epoch 0016 [Test seq (cond on sampled tp)] | Loss 46703.546875 | Likelihood -46703.546875 | KL fp 0.0000 | FP STD 0.0000|\n",
      "KL coef: 0.058519850599\n",
      "Train loss (one batch): 46899.71484375\n",
      "Train CE loss (one batch): 0.0\n",
      "Test MSE: 0.0934\n",
      "Poisson likelihood: 0.0\n",
      "CE loss: 0.0\n"
     ]
    },
    {
     "name": "stdout",
     "output_type": "stream",
     "text": [
      "Computing loss... 0\n"
     ]
    },
    {
     "name": "stderr",
     "output_type": "stream",
     "text": [
      "Experiment 51614\n",
      "Epoch 0017 [Test seq (cond on sampled tp)] | Loss 45820.683594 | Likelihood -45820.683594 | KL fp 0.0000 | FP STD 0.0000|\n",
      "KL coef: 0.06793465209301008\n",
      "Train loss (one batch): 44083.47265625\n",
      "Train CE loss (one batch): 0.0\n",
      "Test MSE: 0.0917\n",
      "Poisson likelihood: 0.0\n",
      "CE loss: 0.0\n"
     ]
    },
    {
     "name": "stdout",
     "output_type": "stream",
     "text": [
      "Computing loss... 0\n"
     ]
    },
    {
     "name": "stderr",
     "output_type": "stream",
     "text": [
      "Experiment 51614\n",
      "Epoch 0018 [Test seq (cond on sampled tp)] | Loss 44582.753906 | Likelihood -44582.753906 | KL fp 0.0000 | FP STD 0.0000|\n",
      "KL coef: 0.07725530557207994\n",
      "Train loss (one batch): 44603.23046875\n",
      "Train CE loss (one batch): 0.0\n",
      "Test MSE: 0.0892\n",
      "Poisson likelihood: 0.0\n",
      "CE loss: 0.0\n"
     ]
    },
    {
     "name": "stdout",
     "output_type": "stream",
     "text": [
      "Computing loss... 0\n"
     ]
    },
    {
     "name": "stderr",
     "output_type": "stream",
     "text": [
      "Experiment 51614\n",
      "Epoch 0019 [Test seq (cond on sampled tp)] | Loss 44002.359375 | Likelihood -44002.359375 | KL fp 0.0000 | FP STD 0.0000|\n",
      "KL coef: 0.08648275251635917\n",
      "Train loss (one batch): 44464.83984375\n",
      "Train CE loss (one batch): 0.0\n",
      "Test MSE: 0.0880\n",
      "Poisson likelihood: 0.0\n",
      "CE loss: 0.0\n"
     ]
    },
    {
     "name": "stdout",
     "output_type": "stream",
     "text": [
      "Computing loss... 0\n"
     ]
    },
    {
     "name": "stderr",
     "output_type": "stream",
     "text": [
      "Experiment 51614\n",
      "Epoch 0020 [Test seq (cond on sampled tp)] | Loss 44806.250000 | Likelihood -44806.250000 | KL fp 0.0000 | FP STD 0.0000|\n",
      "KL coef: 0.09561792499119559\n",
      "Train loss (one batch): 42075.0703125\n",
      "Train CE loss (one batch): 0.0\n",
      "Test MSE: 0.0896\n",
      "Poisson likelihood: 0.0\n",
      "CE loss: 0.0\n"
     ]
    },
    {
     "name": "stdout",
     "output_type": "stream",
     "text": [
      "Computing loss... 0\n"
     ]
    },
    {
     "name": "stderr",
     "output_type": "stream",
     "text": [
      "Experiment 51614\n",
      "Epoch 0021 [Test seq (cond on sampled tp)] | Loss 43401.519531 | Likelihood -43401.519531 | KL fp 0.0000 | FP STD 0.0000|\n",
      "KL coef: 0.10466174574128362\n",
      "Train loss (one batch): 43048.71875\n",
      "Train CE loss (one batch): 0.0\n",
      "Test MSE: 0.0868\n",
      "Poisson likelihood: 0.0\n",
      "CE loss: 0.0\n"
     ]
    },
    {
     "name": "stdout",
     "output_type": "stream",
     "text": [
      "Computing loss... 0\n"
     ]
    },
    {
     "name": "stderr",
     "output_type": "stream",
     "text": [
      "Experiment 51614\n",
      "Epoch 0022 [Test seq (cond on sampled tp)] | Loss 43314.550781 | Likelihood -43314.550781 | KL fp 0.0000 | FP STD 0.0000|\n",
      "KL coef: 0.11361512828387077\n",
      "Train loss (one batch): 41531.5703125\n",
      "Train CE loss (one batch): 0.0\n",
      "Test MSE: 0.0866\n",
      "Poisson likelihood: 0.0\n",
      "CE loss: 0.0\n"
     ]
    },
    {
     "name": "stdout",
     "output_type": "stream",
     "text": [
      "Computing loss... 0\n"
     ]
    },
    {
     "name": "stderr",
     "output_type": "stream",
     "text": [
      "Experiment 51614\n",
      "Epoch 0023 [Test seq (cond on sampled tp)] | Loss 42552.503906 | Likelihood -42552.503906 | KL fp 0.0000 | FP STD 0.0000|\n",
      "KL coef: 0.12247897700103216\n",
      "Train loss (one batch): 39367.30078125\n",
      "Train CE loss (one batch): 0.0\n",
      "Test MSE: 0.0851\n",
      "Poisson likelihood: 0.0\n",
      "CE loss: 0.0\n"
     ]
    },
    {
     "name": "stdout",
     "output_type": "stream",
     "text": [
      "Computing loss... 0\n"
     ]
    },
    {
     "name": "stderr",
     "output_type": "stream",
     "text": [
      "Experiment 51614\n",
      "Epoch 0024 [Test seq (cond on sampled tp)] | Loss 42437.308594 | Likelihood -42437.308594 | KL fp 0.0000 | FP STD 0.0000|\n",
      "KL coef: 0.13125418723102178\n",
      "Train loss (one batch): 40476.140625\n",
      "Train CE loss (one batch): 0.0\n",
      "Test MSE: 0.0849\n",
      "Poisson likelihood: 0.0\n",
      "CE loss: 0.0\n"
     ]
    },
    {
     "name": "stdout",
     "output_type": "stream",
     "text": [
      "Computing loss... 0\n"
     ]
    },
    {
     "name": "stderr",
     "output_type": "stream",
     "text": [
      "Experiment 51614\n",
      "Epoch 0025 [Test seq (cond on sampled tp)] | Loss 41192.769531 | Likelihood -41192.769531 | KL fp 0.0000 | FP STD 0.0000|\n",
      "KL coef: 0.13994164535871156\n",
      "Train loss (one batch): 43269.9296875\n",
      "Train CE loss (one batch): 0.0\n",
      "Test MSE: 0.0824\n",
      "Poisson likelihood: 0.0\n",
      "CE loss: 0.0\n"
     ]
    },
    {
     "name": "stdout",
     "output_type": "stream",
     "text": [
      "Computing loss... 0\n"
     ]
    },
    {
     "name": "stderr",
     "output_type": "stream",
     "text": [
      "Experiment 51614\n",
      "Epoch 0026 [Test seq (cond on sampled tp)] | Loss 41317.531250 | Likelihood -41317.531250 | KL fp 0.0000 | FP STD 0.0000|\n",
      "KL coef: 0.14854222890512447\n",
      "Train loss (one batch): 37177.84375\n",
      "Train CE loss (one batch): 0.0\n",
      "Test MSE: 0.0826\n",
      "Poisson likelihood: 0.0\n",
      "CE loss: 0.0\n"
     ]
    },
    {
     "name": "stdout",
     "output_type": "stream",
     "text": [
      "Computing loss... 0\n"
     ]
    },
    {
     "name": "stderr",
     "output_type": "stream",
     "text": [
      "Experiment 51614\n",
      "Epoch 0027 [Test seq (cond on sampled tp)] | Loss 40543.546875 | Likelihood -40543.546875 | KL fp 0.0000 | FP STD 0.0000|\n",
      "KL coef: 0.15705680661607324\n",
      "Train loss (one batch): 39413.94921875\n",
      "Train CE loss (one batch): 0.0\n",
      "Test MSE: 0.0811\n",
      "Poisson likelihood: 0.0\n",
      "CE loss: 0.0\n"
     ]
    },
    {
     "name": "stdout",
     "output_type": "stream",
     "text": [
      "Computing loss... 0\n"
     ]
    },
    {
     "name": "stderr",
     "output_type": "stream",
     "text": [
      "Experiment 51614\n",
      "Epoch 0028 [Test seq (cond on sampled tp)] | Loss 40360.183594 | Likelihood -40360.183594 | KL fp 0.0000 | FP STD 0.0000|\n",
      "KL coef: 0.1654862385499125\n",
      "Train loss (one batch): 39794.4375\n",
      "Train CE loss (one batch): 0.0\n",
      "Test MSE: 0.0807\n",
      "Poisson likelihood: 0.0\n",
      "CE loss: 0.0\n"
     ]
    },
    {
     "name": "stdout",
     "output_type": "stream",
     "text": [
      "Computing loss... 0\n"
     ]
    },
    {
     "name": "stderr",
     "output_type": "stream",
     "text": [
      "Experiment 51614\n",
      "Epoch 0029 [Test seq (cond on sampled tp)] | Loss 39851.609375 | Likelihood -39851.609375 | KL fp 0.0000 | FP STD 0.0000|\n",
      "KL coef: 0.17383137616441335\n",
      "Train loss (one batch): 39086.52734375\n",
      "Train CE loss (one batch): 0.0\n",
      "Test MSE: 0.0797\n",
      "Poisson likelihood: 0.0\n",
      "CE loss: 0.0\n"
     ]
    },
    {
     "name": "stdout",
     "output_type": "stream",
     "text": [
      "Computing loss... 0\n"
     ]
    },
    {
     "name": "stderr",
     "output_type": "stream",
     "text": [
      "Experiment 51614\n",
      "Epoch 0030 [Test seq (cond on sampled tp)] | Loss 39904.792969 | Likelihood -39904.792969 | KL fp 0.0000 | FP STD 0.0000|\n",
      "KL coef: 0.18209306240276923\n",
      "Train loss (one batch): 38493.734375\n",
      "Train CE loss (one batch): 0.0\n",
      "Test MSE: 0.0798\n",
      "Poisson likelihood: 0.0\n",
      "CE loss: 0.0\n"
     ]
    },
    {
     "name": "stdout",
     "output_type": "stream",
     "text": [
      "Computing loss... 0\n"
     ]
    },
    {
     "name": "stderr",
     "output_type": "stream",
     "text": [
      "Experiment 51614\n",
      "Epoch 0031 [Test seq (cond on sampled tp)] | Loss 39182.816406 | Likelihood -39182.816406 | KL fp 0.0000 | FP STD 0.0000|\n",
      "KL coef: 0.19027213177874158\n",
      "Train loss (one batch): 34735.23828125\n",
      "Train CE loss (one batch): 0.0\n",
      "Test MSE: 0.0784\n",
      "Poisson likelihood: 0.0\n",
      "CE loss: 0.0\n"
     ]
    },
    {
     "name": "stdout",
     "output_type": "stream",
     "text": [
      "Computing loss... 0\n"
     ]
    },
    {
     "name": "stderr",
     "output_type": "stream",
     "text": [
      "Experiment 51614\n",
      "Epoch 0032 [Test seq (cond on sampled tp)] | Loss 38994.410156 | Likelihood -38994.410156 | KL fp 0.0000 | FP STD 0.0000|\n",
      "KL coef: 0.19836941046095413\n",
      "Train loss (one batch): 38852.02734375\n",
      "Train CE loss (one batch): 0.0\n",
      "Test MSE: 0.0780\n",
      "Poisson likelihood: 0.0\n",
      "CE loss: 0.0\n"
     ]
    },
    {
     "name": "stdout",
     "output_type": "stream",
     "text": [
      "Computing loss... 0\n"
     ]
    },
    {
     "name": "stderr",
     "output_type": "stream",
     "text": [
      "Experiment 51614\n",
      "Epoch 0033 [Test seq (cond on sampled tp)] | Loss 39294.761719 | Likelihood -39294.761719 | KL fp 0.0000 | FP STD 0.0000|\n",
      "KL coef: 0.20638571635634462\n",
      "Train loss (one batch): 37594.52734375\n",
      "Train CE loss (one batch): 0.0\n",
      "Test MSE: 0.0786\n",
      "Poisson likelihood: 0.0\n",
      "CE loss: 0.0\n"
     ]
    },
    {
     "name": "stdout",
     "output_type": "stream",
     "text": [
      "Computing loss... 0\n"
     ]
    },
    {
     "name": "stderr",
     "output_type": "stream",
     "text": [
      "Experiment 51614\n",
      "Epoch 0034 [Test seq (cond on sampled tp)] | Loss 39144.363281 | Likelihood -39144.363281 | KL fp 0.0000 | FP STD 0.0000|\n",
      "KL coef: 0.21432185919278124\n",
      "Train loss (one batch): 37470.98046875\n",
      "Train CE loss (one batch): 0.0\n",
      "Test MSE: 0.0783\n",
      "Poisson likelihood: 0.0\n",
      "CE loss: 0.0\n"
     ]
    },
    {
     "name": "stdout",
     "output_type": "stream",
     "text": [
      "Computing loss... 0\n"
     ]
    },
    {
     "name": "stderr",
     "output_type": "stream",
     "text": [
      "Experiment 51614\n",
      "Epoch 0035 [Test seq (cond on sampled tp)] | Loss 38179.082031 | Likelihood -38179.082031 | KL fp 0.0000 | FP STD 0.0000|\n",
      "KL coef: 0.22217864060085335\n",
      "Train loss (one batch): 38919.953125\n",
      "Train CE loss (one batch): 0.0\n",
      "Test MSE: 0.0764\n",
      "Poisson likelihood: 0.0\n",
      "CE loss: 0.0\n"
     ]
    },
    {
     "name": "stdout",
     "output_type": "stream",
     "text": [
      "Computing loss... 0\n"
     ]
    },
    {
     "name": "stderr",
     "output_type": "stream",
     "text": [
      "Experiment 51614\n",
      "Epoch 0036 [Test seq (cond on sampled tp)] | Loss 38200.105469 | Likelihood -38200.105469 | KL fp 0.0000 | FP STD 0.0000|\n",
      "KL coef: 0.2299568541948449\n",
      "Train loss (one batch): 36065.6328125\n",
      "Train CE loss (one batch): 0.0\n",
      "Test MSE: 0.0764\n",
      "Poisson likelihood: 0.0\n",
      "CE loss: 0.0\n"
     ]
    },
    {
     "name": "stdout",
     "output_type": "stream",
     "text": [
      "Computing loss... 0\n"
     ]
    },
    {
     "name": "stderr",
     "output_type": "stream",
     "text": [
      "Experiment 51614\n",
      "Epoch 0037 [Test seq (cond on sampled tp)] | Loss 37979.964844 | Likelihood -37979.964844 | KL fp 0.0000 | FP STD 0.0000|\n",
      "KL coef: 0.23765728565289646\n",
      "Train loss (one batch): 41138.16015625\n",
      "Train CE loss (one batch): 0.0\n",
      "Test MSE: 0.0760\n",
      "Poisson likelihood: 0.0\n",
      "CE loss: 0.0\n"
     ]
    },
    {
     "name": "stdout",
     "output_type": "stream",
     "text": [
      "Computing loss... 0\n"
     ]
    },
    {
     "name": "stderr",
     "output_type": "stream",
     "text": [
      "Experiment 51614\n",
      "Epoch 0038 [Test seq (cond on sampled tp)] | Loss 37264.855469 | Likelihood -37264.855469 | KL fp 0.0000 | FP STD 0.0000|\n",
      "KL coef: 0.24528071279636743\n",
      "Train loss (one batch): 41381.4296875\n",
      "Train CE loss (one batch): 0.0\n",
      "Test MSE: 0.0745\n",
      "Poisson likelihood: 0.0\n",
      "CE loss: 0.0\n"
     ]
    },
    {
     "name": "stdout",
     "output_type": "stream",
     "text": [
      "Computing loss... 0\n"
     ]
    },
    {
     "name": "stderr",
     "output_type": "stream",
     "text": [
      "Experiment 51614\n",
      "Epoch 0039 [Test seq (cond on sampled tp)] | Loss 37345.089844 | Likelihood -37345.089844 | KL fp 0.0000 | FP STD 0.0000|\n",
      "KL coef: 0.25282790566840385\n",
      "Train loss (one batch): 34697.14453125\n",
      "Train CE loss (one batch): 0.0\n",
      "Test MSE: 0.0747\n",
      "Poisson likelihood: 0.0\n",
      "CE loss: 0.0\n"
     ]
    },
    {
     "name": "stdout",
     "output_type": "stream",
     "text": [
      "Computing loss... 0\n"
     ]
    },
    {
     "name": "stderr",
     "output_type": "stream",
     "text": [
      "Experiment 51614\n",
      "Epoch 0040 [Test seq (cond on sampled tp)] | Loss 36925.152344 | Likelihood -36925.152344 | KL fp 0.0000 | FP STD 0.0000|\n",
      "KL coef: 0.2602996266117198\n",
      "Train loss (one batch): 36352.28515625\n",
      "Train CE loss (one batch): 0.0\n",
      "Test MSE: 0.0739\n",
      "Poisson likelihood: 0.0\n",
      "CE loss: 0.0\n"
     ]
    },
    {
     "name": "stdout",
     "output_type": "stream",
     "text": [
      "Computing loss... 0\n"
     ]
    },
    {
     "name": "stderr",
     "output_type": "stream",
     "text": [
      "Experiment 51614\n",
      "Epoch 0041 [Test seq (cond on sampled tp)] | Loss 37150.328125 | Likelihood -37150.328125 | KL fp 0.0000 | FP STD 0.0000|\n",
      "KL coef: 0.26769663034560254\n",
      "Train loss (one batch): 33176.3828125\n",
      "Train CE loss (one batch): 0.0\n",
      "Test MSE: 0.0743\n",
      "Poisson likelihood: 0.0\n",
      "CE loss: 0.0\n"
     ]
    },
    {
     "name": "stdout",
     "output_type": "stream",
     "text": [
      "Computing loss... 0\n"
     ]
    },
    {
     "name": "stderr",
     "output_type": "stream",
     "text": [
      "Experiment 51614\n",
      "Epoch 0042 [Test seq (cond on sampled tp)] | Loss 36965.417969 | Likelihood -36965.417969 | KL fp 0.0000 | FP STD 0.0000|\n",
      "KL coef: 0.2750196640421466\n",
      "Train loss (one batch): 35537.8125\n",
      "Train CE loss (one batch): 0.0\n",
      "Test MSE: 0.0739\n",
      "Poisson likelihood: 0.0\n",
      "CE loss: 0.0\n"
     ]
    },
    {
     "name": "stdout",
     "output_type": "stream",
     "text": [
      "Computing loss... 0\n"
     ]
    },
    {
     "name": "stderr",
     "output_type": "stream",
     "text": [
      "Experiment 51614\n",
      "Epoch 0043 [Test seq (cond on sampled tp)] | Loss 36440.609375 | Likelihood -36440.609375 | KL fp 0.0000 | FP STD 0.0000|\n",
      "KL coef: 0.2822694674017251\n",
      "Train loss (one batch): 31622.501953125\n",
      "Train CE loss (one batch): 0.0\n",
      "Test MSE: 0.0729\n",
      "Poisson likelihood: 0.0\n",
      "CE loss: 0.0\n"
     ]
    },
    {
     "name": "stdout",
     "output_type": "stream",
     "text": [
      "Computing loss... 0\n"
     ]
    },
    {
     "name": "stderr",
     "output_type": "stream",
     "text": [
      "Experiment 51614\n",
      "Epoch 0044 [Test seq (cond on sampled tp)] | Loss 36595.617188 | Likelihood -36595.617188 | KL fp 0.0000 | FP STD 0.0000|\n",
      "KL coef: 0.2894467727277079\n",
      "Train loss (one batch): 36250.46875\n",
      "Train CE loss (one batch): 0.0\n",
      "Test MSE: 0.0732\n",
      "Poisson likelihood: 0.0\n",
      "CE loss: 0.0\n"
     ]
    },
    {
     "name": "stdout",
     "output_type": "stream",
     "text": [
      "Computing loss... 0\n"
     ]
    },
    {
     "name": "stderr",
     "output_type": "stream",
     "text": [
      "Experiment 51614\n",
      "Epoch 0045 [Test seq (cond on sampled tp)] | Loss 36098.457031 | Likelihood -36098.457031 | KL fp 0.0000 | FP STD 0.0000|\n",
      "KL coef: 0.29655230500043084\n",
      "Train loss (one batch): 39510.19140625\n",
      "Train CE loss (one batch): 0.0\n",
      "Test MSE: 0.0722\n",
      "Poisson likelihood: 0.0\n",
      "CE loss: 0.0\n"
     ]
    },
    {
     "name": "stdout",
     "output_type": "stream",
     "text": [
      "Computing loss... 0\n"
     ]
    },
    {
     "name": "stderr",
     "output_type": "stream",
     "text": [
      "Experiment 51614\n",
      "Epoch 0046 [Test seq (cond on sampled tp)] | Loss 35985.000000 | Likelihood -35985.000000 | KL fp 0.0000 | FP STD 0.0000|\n",
      "KL coef: 0.30358678195042654\n",
      "Train loss (one batch): 38929.08984375\n",
      "Train CE loss (one batch): 0.0\n",
      "Test MSE: 0.0720\n",
      "Poisson likelihood: 0.0\n",
      "CE loss: 0.0\n"
     ]
    },
    {
     "name": "stdout",
     "output_type": "stream",
     "text": [
      "Computing loss... 0\n"
     ]
    },
    {
     "name": "stderr",
     "output_type": "stream",
     "text": [
      "Experiment 51614\n",
      "Epoch 0047 [Test seq (cond on sampled tp)] | Loss 36079.027344 | Likelihood -36079.027344 | KL fp 0.0000 | FP STD 0.0000|\n",
      "KL coef: 0.3105509141309223\n",
      "Train loss (one batch): 36568.96875\n",
      "Train CE loss (one batch): 0.0\n",
      "Test MSE: 0.0722\n",
      "Poisson likelihood: 0.0\n",
      "CE loss: 0.0\n"
     ]
    },
    {
     "name": "stdout",
     "output_type": "stream",
     "text": [
      "Computing loss... 0\n"
     ]
    },
    {
     "name": "stderr",
     "output_type": "stream",
     "text": [
      "Experiment 51614\n",
      "Epoch 0048 [Test seq (cond on sampled tp)] | Loss 35761.992188 | Likelihood -35761.992188 | KL fp 0.0000 | FP STD 0.0000|\n",
      "KL coef: 0.31744540498961304\n",
      "Train loss (one batch): 31331.529296875\n",
      "Train CE loss (one batch): 0.0\n",
      "Test MSE: 0.0715\n",
      "Poisson likelihood: 0.0\n",
      "CE loss: 0.0\n"
     ]
    },
    {
     "name": "stdout",
     "output_type": "stream",
     "text": [
      "Computing loss... 0\n"
     ]
    },
    {
     "name": "stderr",
     "output_type": "stream",
     "text": [
      "Experiment 51614\n",
      "Epoch 0049 [Test seq (cond on sampled tp)] | Loss 35801.070312 | Likelihood -35801.070312 | KL fp 0.0000 | FP STD 0.0000|\n",
      "KL coef: 0.3242709509397169\n",
      "Train loss (one batch): 33567.4140625\n",
      "Train CE loss (one batch): 0.0\n",
      "Test MSE: 0.0716\n",
      "Poisson likelihood: 0.0\n",
      "CE loss: 0.0\n"
     ]
    },
    {
     "name": "stdout",
     "output_type": "stream",
     "text": [
      "Computing loss... 0\n"
     ]
    },
    {
     "name": "stderr",
     "output_type": "stream",
     "text": [
      "Experiment 51614\n",
      "Epoch 0050 [Test seq (cond on sampled tp)] | Loss 35496.570312 | Likelihood -35496.570312 | KL fp 0.0000 | FP STD 0.0000|\n",
      "KL coef: 0.3310282414303197\n",
      "Train loss (one batch): 33719.1953125\n",
      "Train CE loss (one batch): 0.0\n",
      "Test MSE: 0.0710\n",
      "Poisson likelihood: 0.0\n",
      "CE loss: 0.0\n"
     ]
    },
    {
     "name": "stdout",
     "output_type": "stream",
     "text": [
      "Computing loss... 0\n"
     ]
    },
    {
     "name": "stderr",
     "output_type": "stream",
     "text": [
      "Experiment 51614\n",
      "Epoch 0051 [Test seq (cond on sampled tp)] | Loss 35686.027344 | Likelihood -35686.027344 | KL fp 0.0000 | FP STD 0.0000|\n",
      "KL coef: 0.33771795901601653\n",
      "Train loss (one batch): 32672.490234375\n",
      "Train CE loss (one batch): 0.0\n",
      "Test MSE: 0.0714\n",
      "Poisson likelihood: 0.0\n",
      "CE loss: 0.0\n"
     ]
    },
    {
     "name": "stdout",
     "output_type": "stream",
     "text": [
      "Computing loss... 0\n"
     ]
    },
    {
     "name": "stderr",
     "output_type": "stream",
     "text": [
      "Experiment 51614\n",
      "Epoch 0052 [Test seq (cond on sampled tp)] | Loss 35790.210938 | Likelihood -35790.210938 | KL fp 0.0000 | FP STD 0.0000|\n",
      "KL coef: 0.3443407794258564\n",
      "Train loss (one batch): 33714.2265625\n",
      "Train CE loss (one batch): 0.0\n",
      "Test MSE: 0.0716\n",
      "Poisson likelihood: 0.0\n",
      "CE loss: 0.0\n"
     ]
    },
    {
     "name": "stdout",
     "output_type": "stream",
     "text": [
      "Computing loss... 0\n"
     ]
    },
    {
     "name": "stderr",
     "output_type": "stream",
     "text": [
      "Experiment 51614\n",
      "Epoch 0053 [Test seq (cond on sampled tp)] | Loss 34916.511719 | Likelihood -34916.511719 | KL fp 0.0000 | FP STD 0.0000|\n",
      "KL coef: 0.35089737163159784\n",
      "Train loss (one batch): 28748.486328125\n",
      "Train CE loss (one batch): 0.0\n",
      "Test MSE: 0.0698\n",
      "Poisson likelihood: 0.0\n",
      "CE loss: 0.0\n"
     ]
    },
    {
     "name": "stdout",
     "output_type": "stream",
     "text": [
      "Computing loss... 0\n"
     ]
    },
    {
     "name": "stderr",
     "output_type": "stream",
     "text": [
      "Experiment 51614\n",
      "Epoch 0054 [Test seq (cond on sampled tp)] | Loss 35151.238281 | Likelihood -35151.238281 | KL fp 0.0000 | FP STD 0.0000|\n",
      "KL coef: 0.3573883979152819\n",
      "Train loss (one batch): 35468.7890625\n",
      "Train CE loss (one batch): 0.0\n",
      "Test MSE: 0.0703\n",
      "Poisson likelihood: 0.0\n",
      "CE loss: 0.0\n"
     ]
    },
    {
     "name": "stdout",
     "output_type": "stream",
     "text": [
      "Computing loss... 0\n"
     ]
    },
    {
     "name": "stderr",
     "output_type": "stream",
     "text": [
      "Experiment 51614\n",
      "Epoch 0055 [Test seq (cond on sampled tp)] | Loss 35353.707031 | Likelihood -35353.707031 | KL fp 0.0000 | FP STD 0.0000|\n",
      "KL coef: 0.36381451393612907\n",
      "Train loss (one batch): 30358.45703125\n",
      "Train CE loss (one batch): 0.0\n",
      "Test MSE: 0.0707\n",
      "Poisson likelihood: 0.0\n",
      "CE loss: 0.0\n"
     ]
    },
    {
     "name": "stdout",
     "output_type": "stream",
     "text": [
      "Computing loss... 0\n"
     ]
    },
    {
     "name": "stderr",
     "output_type": "stream",
     "text": [
      "Experiment 51614\n",
      "Epoch 0056 [Test seq (cond on sampled tp)] | Loss 35036.480469 | Likelihood -35036.480469 | KL fp 0.0000 | FP STD 0.0000|\n",
      "KL coef: 0.37017636879676774\n",
      "Train loss (one batch): 38100.62890625\n",
      "Train CE loss (one batch): 0.0\n",
      "Test MSE: 0.0701\n",
      "Poisson likelihood: 0.0\n",
      "CE loss: 0.0\n"
     ]
    },
    {
     "name": "stdout",
     "output_type": "stream",
     "text": [
      "Computing loss... 0\n"
     ]
    },
    {
     "name": "stderr",
     "output_type": "stream",
     "text": [
      "Experiment 51614\n",
      "Epoch 0057 [Test seq (cond on sampled tp)] | Loss 35842.136719 | Likelihood -35842.136719 | KL fp 0.0000 | FP STD 0.0000|\n",
      "KL coef: 0.37647460510880004\n",
      "Train loss (one batch): 34578.0625\n",
      "Train CE loss (one batch): 0.0\n",
      "Test MSE: 0.0717\n",
      "Poisson likelihood: 0.0\n",
      "CE loss: 0.0\n"
     ]
    },
    {
     "name": "stdout",
     "output_type": "stream",
     "text": [
      "Computing loss... 0\n"
     ]
    },
    {
     "name": "stderr",
     "output_type": "stream",
     "text": [
      "Experiment 51614\n",
      "Epoch 0058 [Test seq (cond on sampled tp)] | Loss 34676.070312 | Likelihood -34676.070312 | KL fp 0.0000 | FP STD 0.0000|\n",
      "KL coef: 0.38270985905771204\n",
      "Train loss (one batch): 33240.99609375\n",
      "Train CE loss (one batch): 0.0\n",
      "Test MSE: 0.0694\n",
      "Poisson likelihood: 0.0\n",
      "CE loss: 0.0\n"
     ]
    },
    {
     "name": "stdout",
     "output_type": "stream",
     "text": [
      "Computing loss... 0\n"
     ]
    },
    {
     "name": "stderr",
     "output_type": "stream",
     "text": [
      "Experiment 51614\n",
      "Epoch 0059 [Test seq (cond on sampled tp)] | Loss 34171.199219 | Likelihood -34171.199219 | KL fp 0.0000 | FP STD 0.0000|\n",
      "KL coef: 0.388882760467135\n",
      "Train loss (one batch): 36658.26171875\n",
      "Train CE loss (one batch): 0.0\n",
      "Test MSE: 0.0684\n",
      "Poisson likelihood: 0.0\n",
      "CE loss: 0.0\n"
     ]
    },
    {
     "name": "stdout",
     "output_type": "stream",
     "text": [
      "Computing loss... 0\n"
     ]
    },
    {
     "name": "stderr",
     "output_type": "stream",
     "text": [
      "Experiment 51614\n",
      "Epoch 0060 [Test seq (cond on sampled tp)] | Loss 34194.605469 | Likelihood -34194.605469 | KL fp 0.0000 | FP STD 0.0000|\n",
      "KL coef: 0.39499393286246365\n",
      "Train loss (one batch): 33414.2734375\n",
      "Train CE loss (one batch): 0.0\n",
      "Test MSE: 0.0684\n",
      "Poisson likelihood: 0.0\n",
      "CE loss: 0.0\n"
     ]
    },
    {
     "name": "stdout",
     "output_type": "stream",
     "text": [
      "Computing loss... 0\n"
     ]
    },
    {
     "name": "stderr",
     "output_type": "stream",
     "text": [
      "Experiment 51614\n",
      "Epoch 0061 [Test seq (cond on sampled tp)] | Loss 34267.667969 | Likelihood -34267.667969 | KL fp 0.0000 | FP STD 0.0000|\n",
      "KL coef: 0.401043993533839\n",
      "Train loss (one batch): 32840.21875\n",
      "Train CE loss (one batch): 0.0\n",
      "Test MSE: 0.0685\n",
      "Poisson likelihood: 0.0\n",
      "CE loss: 0.0\n"
     ]
    },
    {
     "name": "stdout",
     "output_type": "stream",
     "text": [
      "Computing loss... 0\n"
     ]
    },
    {
     "name": "stderr",
     "output_type": "stream",
     "text": [
      "Experiment 51614\n",
      "Epoch 0062 [Test seq (cond on sampled tp)] | Loss 34674.480469 | Likelihood -34674.480469 | KL fp 0.0000 | FP STD 0.0000|\n",
      "KL coef: 0.4070335535985006\n",
      "Train loss (one batch): 33274.16796875\n",
      "Train CE loss (one batch): 0.0\n",
      "Test MSE: 0.0694\n",
      "Poisson likelihood: 0.0\n",
      "CE loss: 0.0\n"
     ]
    },
    {
     "name": "stdout",
     "output_type": "stream",
     "text": [
      "Computing loss... 0\n"
     ]
    },
    {
     "name": "stderr",
     "output_type": "stream",
     "text": [
      "Experiment 51614\n",
      "Epoch 0063 [Test seq (cond on sampled tp)] | Loss 33932.902344 | Likelihood -33932.902344 | KL fp 0.0000 | FP STD 0.0000|\n",
      "KL coef: 0.41296321806251557\n",
      "Train loss (one batch): 36487.11328125\n",
      "Train CE loss (one batch): 0.0\n",
      "Test MSE: 0.0679\n",
      "Poisson likelihood: 0.0\n",
      "CE loss: 0.0\n"
     ]
    },
    {
     "name": "stdout",
     "output_type": "stream",
     "text": [
      "Computing loss... 0\n"
     ]
    },
    {
     "name": "stderr",
     "output_type": "stream",
     "text": [
      "Experiment 51614\n",
      "Epoch 0064 [Test seq (cond on sampled tp)] | Loss 34573.746094 | Likelihood -34573.746094 | KL fp 0.0000 | FP STD 0.0000|\n",
      "KL coef: 0.41883358588189046\n",
      "Train loss (one batch): 34422.5078125\n",
      "Train CE loss (one batch): 0.0\n",
      "Test MSE: 0.0692\n",
      "Poisson likelihood: 0.0\n",
      "CE loss: 0.0\n"
     ]
    },
    {
     "name": "stdout",
     "output_type": "stream",
     "text": [
      "Computing loss... 0\n"
     ]
    },
    {
     "name": "stderr",
     "output_type": "stream",
     "text": [
      "Experiment 51614\n",
      "Epoch 0065 [Test seq (cond on sampled tp)] | Loss 33820.824219 | Likelihood -33820.824219 | KL fp 0.0000 | FP STD 0.0000|\n",
      "KL coef: 0.4246452500230715\n",
      "Train loss (one batch): 29759.759765625\n",
      "Train CE loss (one batch): 0.0\n",
      "Test MSE: 0.0677\n",
      "Poisson likelihood: 0.0\n",
      "CE loss: 0.0\n"
     ]
    },
    {
     "name": "stdout",
     "output_type": "stream",
     "text": [
      "Computing loss... 0\n"
     ]
    },
    {
     "name": "stderr",
     "output_type": "stream",
     "text": [
      "Experiment 51614\n",
      "Epoch 0066 [Test seq (cond on sampled tp)] | Loss 33726.859375 | Likelihood -33726.859375 | KL fp 0.0000 | FP STD 0.0000|\n",
      "KL coef: 0.4303987975228408\n",
      "Train loss (one batch): 32840.9375\n",
      "Train CE loss (one batch): 0.0\n",
      "Test MSE: 0.0675\n",
      "Poisson likelihood: 0.0\n",
      "CE loss: 0.0\n"
     ]
    },
    {
     "name": "stdout",
     "output_type": "stream",
     "text": [
      "Computing loss... 0\n"
     ]
    },
    {
     "name": "stderr",
     "output_type": "stream",
     "text": [
      "Experiment 51614\n",
      "Epoch 0067 [Test seq (cond on sampled tp)] | Loss 34778.371094 | Likelihood -34778.371094 | KL fp 0.0000 | FP STD 0.0000|\n",
      "KL coef: 0.4360948095476125\n",
      "Train loss (one batch): 37109.125\n",
      "Train CE loss (one batch): 0.0\n",
      "Test MSE: 0.0696\n",
      "Poisson likelihood: 0.0\n",
      "CE loss: 0.0\n"
     ]
    },
    {
     "name": "stdout",
     "output_type": "stream",
     "text": [
      "Computing loss... 0\n"
     ]
    },
    {
     "name": "stderr",
     "output_type": "stream",
     "text": [
      "Experiment 51614\n",
      "Epoch 0068 [Test seq (cond on sampled tp)] | Loss 33284.437500 | Likelihood -33284.437500 | KL fp 0.0000 | FP STD 0.0000|\n",
      "KL coef: 0.44173386145213633\n",
      "Train loss (one batch): 34017.2578125\n",
      "Train CE loss (one batch): 0.0\n",
      "Test MSE: 0.0666\n",
      "Poisson likelihood: 0.0\n",
      "CE loss: 0.0\n"
     ]
    },
    {
     "name": "stdout",
     "output_type": "stream",
     "text": [
      "Computing loss... 0\n"
     ]
    },
    {
     "name": "stderr",
     "output_type": "stream",
     "text": [
      "Experiment 51614\n",
      "Epoch 0069 [Test seq (cond on sampled tp)] | Loss 33697.089844 | Likelihood -33697.089844 | KL fp 0.0000 | FP STD 0.0000|\n",
      "KL coef: 0.4473165228376149\n",
      "Train loss (one batch): 34655.41796875\n",
      "Train CE loss (one batch): 0.0\n",
      "Test MSE: 0.0674\n",
      "Poisson likelihood: 0.0\n",
      "CE loss: 0.0\n"
     ]
    },
    {
     "name": "stdout",
     "output_type": "stream",
     "text": [
      "Computing loss... 0\n"
     ]
    },
    {
     "name": "stderr",
     "output_type": "stream",
     "text": [
      "Experiment 51614\n",
      "Epoch 0070 [Test seq (cond on sampled tp)] | Loss 33115.539062 | Likelihood -33115.539062 | KL fp 0.0000 | FP STD 0.0000|\n",
      "KL coef: 0.4528433576092388\n",
      "Train loss (one batch): 35560.24609375\n",
      "Train CE loss (one batch): 0.0\n",
      "Test MSE: 0.0662\n",
      "Poisson likelihood: 0.0\n",
      "CE loss: 0.0\n"
     ]
    },
    {
     "name": "stdout",
     "output_type": "stream",
     "text": [
      "Computing loss... 0\n"
     ]
    },
    {
     "name": "stderr",
     "output_type": "stream",
     "text": [
      "Experiment 51614\n",
      "Epoch 0071 [Test seq (cond on sampled tp)] | Loss 33887.382812 | Likelihood -33887.382812 | KL fp 0.0000 | FP STD 0.0000|\n",
      "KL coef: 0.45831492403314644\n",
      "Train loss (one batch): 32011.43359375\n",
      "Train CE loss (one batch): 0.0\n",
      "Test MSE: 0.0678\n",
      "Poisson likelihood: 0.0\n",
      "CE loss: 0.0\n"
     ]
    },
    {
     "name": "stdout",
     "output_type": "stream",
     "text": [
      "Computing loss... 0\n"
     ]
    },
    {
     "name": "stderr",
     "output_type": "stream",
     "text": [
      "Experiment 51614\n",
      "Epoch 0072 [Test seq (cond on sampled tp)] | Loss 33811.410156 | Likelihood -33811.410156 | KL fp 0.0000 | FP STD 0.0000|\n",
      "KL coef: 0.463731774792815\n",
      "Train loss (one batch): 32671.18359375\n",
      "Train CE loss (one batch): 0.0\n",
      "Test MSE: 0.0676\n",
      "Poisson likelihood: 0.0\n",
      "CE loss: 0.0\n"
     ]
    },
    {
     "name": "stdout",
     "output_type": "stream",
     "text": [
      "Computing loss... 0\n"
     ]
    },
    {
     "name": "stderr",
     "output_type": "stream",
     "text": [
      "Experiment 51614\n",
      "Epoch 0073 [Test seq (cond on sampled tp)] | Loss 33454.957031 | Likelihood -33454.957031 | KL fp 0.0000 | FP STD 0.0000|\n",
      "KL coef: 0.46909445704488684\n",
      "Train loss (one batch): 32583.923828125\n",
      "Train CE loss (one batch): 0.0\n",
      "Test MSE: 0.0669\n",
      "Poisson likelihood: 0.0\n",
      "CE loss: 0.0\n"
     ]
    },
    {
     "name": "stdout",
     "output_type": "stream",
     "text": [
      "Computing loss... 0\n"
     ]
    },
    {
     "name": "stderr",
     "output_type": "stream",
     "text": [
      "Experiment 51614\n",
      "Epoch 0074 [Test seq (cond on sampled tp)] | Loss 33900.250000 | Likelihood -33900.250000 | KL fp 0.0000 | FP STD 0.0000|\n",
      "KL coef: 0.474403512474438\n",
      "Train loss (one batch): 37617.25\n",
      "Train CE loss (one batch): 0.0\n",
      "Test MSE: 0.0678\n",
      "Poisson likelihood: 0.0\n",
      "CE loss: 0.0\n"
     ]
    },
    {
     "name": "stdout",
     "output_type": "stream",
     "text": [
      "Computing loss... 0\n"
     ]
    },
    {
     "name": "stderr",
     "output_type": "stream",
     "text": [
      "Experiment 51614\n",
      "Epoch 0075 [Test seq (cond on sampled tp)] | Loss 33073.578125 | Likelihood -33073.578125 | KL fp 0.0000 | FP STD 0.0000|\n",
      "KL coef: 0.4796594773496936\n",
      "Train loss (one batch): 35614.79296875\n",
      "Train CE loss (one batch): 0.0\n",
      "Test MSE: 0.0662\n",
      "Poisson likelihood: 0.0\n",
      "CE loss: 0.0\n"
     ]
    },
    {
     "name": "stdout",
     "output_type": "stream",
     "text": [
      "Computing loss... 0\n"
     ]
    },
    {
     "name": "stderr",
     "output_type": "stream",
     "text": [
      "Experiment 51614\n",
      "Epoch 0076 [Test seq (cond on sampled tp)] | Loss 32953.636719 | Likelihood -32953.636719 | KL fp 0.0000 | FP STD 0.0000|\n",
      "KL coef: 0.4848628825761967\n",
      "Train loss (one batch): 33652.98046875\n",
      "Train CE loss (one batch): 0.0\n",
      "Test MSE: 0.0659\n",
      "Poisson likelihood: 0.0\n",
      "CE loss: 0.0\n"
     ]
    },
    {
     "name": "stdout",
     "output_type": "stream",
     "text": [
      "Computing loss... 0\n"
     ]
    },
    {
     "name": "stderr",
     "output_type": "stream",
     "text": [
      "Experiment 51614\n",
      "Epoch 0077 [Test seq (cond on sampled tp)] | Loss 33378.406250 | Likelihood -33378.406250 | KL fp 0.0000 | FP STD 0.0000|\n",
      "KL coef: 0.4900142537504347\n",
      "Train loss (one batch): 31627.513671875\n",
      "Train CE loss (one batch): 0.0\n",
      "Test MSE: 0.0668\n",
      "Poisson likelihood: 0.0\n",
      "CE loss: 0.0\n"
     ]
    },
    {
     "name": "stdout",
     "output_type": "stream",
     "text": [
      "Computing loss... 0\n"
     ]
    },
    {
     "name": "stderr",
     "output_type": "stream",
     "text": [
      "Experiment 51614\n",
      "Epoch 0078 [Test seq (cond on sampled tp)] | Loss 32244.476562 | Likelihood -32244.476562 | KL fp 0.0000 | FP STD 0.0000|\n",
      "KL coef: 0.49511411121293036\n",
      "Train loss (one batch): 31524.458984375\n",
      "Train CE loss (one batch): 0.0\n",
      "Test MSE: 0.0645\n",
      "Poisson likelihood: 0.0\n",
      "CE loss: 0.0\n"
     ]
    },
    {
     "name": "stdout",
     "output_type": "stream",
     "text": [
      "Computing loss... 0\n"
     ]
    },
    {
     "name": "stderr",
     "output_type": "stream",
     "text": [
      "Experiment 51614\n",
      "Epoch 0079 [Test seq (cond on sampled tp)] | Loss 33413.500000 | Likelihood -33413.500000 | KL fp 0.0000 | FP STD 0.0000|\n",
      "KL coef: 0.500162970100801\n",
      "Train loss (one batch): 32916.25\n",
      "Train CE loss (one batch): 0.0\n",
      "Test MSE: 0.0668\n",
      "Poisson likelihood: 0.0\n",
      "CE loss: 0.0\n"
     ]
    },
    {
     "name": "stdout",
     "output_type": "stream",
     "text": [
      "Computing loss... 0\n"
     ]
    },
    {
     "name": "stderr",
     "output_type": "stream",
     "text": [
      "Experiment 51614\n",
      "Epoch 0080 [Test seq (cond on sampled tp)] | Loss 33011.039062 | Likelihood -33011.039062 | KL fp 0.0000 | FP STD 0.0000|\n",
      "KL coef: 0.505161340399793\n",
      "Train loss (one batch): 31491.19921875\n",
      "Train CE loss (one batch): 0.0\n",
      "Test MSE: 0.0660\n",
      "Poisson likelihood: 0.0\n",
      "CE loss: 0.0\n"
     ]
    },
    {
     "name": "stdout",
     "output_type": "stream",
     "text": [
      "Computing loss... 0\n"
     ]
    },
    {
     "name": "stderr",
     "output_type": "stream",
     "text": [
      "Experiment 51614\n",
      "Epoch 0081 [Test seq (cond on sampled tp)] | Loss 32435.625000 | Likelihood -32435.625000 | KL fp 0.0000 | FP STD 0.0000|\n",
      "KL coef: 0.510109726995795\n",
      "Train loss (one batch): 30293.4375\n",
      "Train CE loss (one batch): 0.0\n",
      "Test MSE: 0.0649\n",
      "Poisson likelihood: 0.0\n",
      "CE loss: 0.0\n"
     ]
    },
    {
     "name": "stdout",
     "output_type": "stream",
     "text": [
      "Computing loss... 0\n"
     ]
    },
    {
     "name": "stderr",
     "output_type": "stream",
     "text": [
      "Experiment 51614\n",
      "Epoch 0082 [Test seq (cond on sampled tp)] | Loss 33296.121094 | Likelihood -33296.121094 | KL fp 0.0000 | FP STD 0.0000|\n",
      "KL coef: 0.5150086297258372\n",
      "Train loss (one batch): 33284.5546875\n",
      "Train CE loss (one batch): 0.0\n",
      "Test MSE: 0.0666\n",
      "Poisson likelihood: 0.0\n",
      "CE loss: 0.0\n"
     ]
    },
    {
     "name": "stdout",
     "output_type": "stream",
     "text": [
      "Computing loss... 0\n"
     ]
    },
    {
     "name": "stderr",
     "output_type": "stream",
     "text": [
      "Experiment 51614\n",
      "Epoch 0083 [Test seq (cond on sampled tp)] | Loss 32983.031250 | Likelihood -32983.031250 | KL fp 0.0000 | FP STD 0.0000|\n",
      "KL coef: 0.5198585434285787\n",
      "Train loss (one batch): 35663.41015625\n",
      "Train CE loss (one batch): 0.0\n",
      "Test MSE: 0.0660\n",
      "Poisson likelihood: 0.0\n",
      "CE loss: 0.0\n"
     ]
    },
    {
     "name": "stdout",
     "output_type": "stream",
     "text": [
      "Computing loss... 0\n"
     ]
    },
    {
     "name": "stderr",
     "output_type": "stream",
     "text": [
      "Experiment 51614\n",
      "Epoch 0084 [Test seq (cond on sampled tp)] | Loss 32905.957031 | Likelihood -32905.957031 | KL fp 0.0000 | FP STD 0.0000|\n",
      "KL coef: 0.524659957994293\n",
      "Train loss (one batch): 32385.65234375\n",
      "Train CE loss (one batch): 0.0\n",
      "Test MSE: 0.0658\n",
      "Poisson likelihood: 0.0\n",
      "CE loss: 0.0\n"
     ]
    },
    {
     "name": "stdout",
     "output_type": "stream",
     "text": [
      "Computing loss... 0\n"
     ]
    },
    {
     "name": "stderr",
     "output_type": "stream",
     "text": [
      "Experiment 51614\n",
      "Epoch 0085 [Test seq (cond on sampled tp)] | Loss 32806.820312 | Likelihood -32806.820312 | KL fp 0.0000 | FP STD 0.0000|\n",
      "KL coef: 0.5294133584143501\n",
      "Train loss (one batch): 26712.4453125\n",
      "Train CE loss (one batch): 0.0\n",
      "Test MSE: 0.0656\n",
      "Poisson likelihood: 0.0\n",
      "CE loss: 0.0\n"
     ]
    },
    {
     "name": "stdout",
     "output_type": "stream",
     "text": [
      "Computing loss... 0\n"
     ]
    },
    {
     "name": "stderr",
     "output_type": "stream",
     "text": [
      "Experiment 51614\n",
      "Epoch 0086 [Test seq (cond on sampled tp)] | Loss 32325.294922 | Likelihood -32325.294922 | KL fp 0.0000 | FP STD 0.0000|\n",
      "KL coef: 0.5341192248302067\n",
      "Train loss (one batch): 31785.240234375\n",
      "Train CE loss (one batch): 0.0\n",
      "Test MSE: 0.0647\n",
      "Poisson likelihood: 0.0\n",
      "CE loss: 0.0\n"
     ]
    },
    {
     "name": "stdout",
     "output_type": "stream",
     "text": [
      "Computing loss... 0\n"
     ]
    },
    {
     "name": "stderr",
     "output_type": "stream",
     "text": [
      "Experiment 51614\n",
      "Epoch 0087 [Test seq (cond on sampled tp)] | Loss 32503.753906 | Likelihood -32503.753906 | KL fp 0.0000 | FP STD 0.0000|\n",
      "KL coef: 0.5387780325819045\n",
      "Train loss (one batch): 33408.93359375\n",
      "Train CE loss (one batch): 0.0\n",
      "Test MSE: 0.0650\n",
      "Poisson likelihood: 0.0\n",
      "CE loss: 0.0\n"
     ]
    },
    {
     "name": "stdout",
     "output_type": "stream",
     "text": [
      "Computing loss... 0\n"
     ]
    },
    {
     "name": "stderr",
     "output_type": "stream",
     "text": [
      "Experiment 51614\n",
      "Epoch 0088 [Test seq (cond on sampled tp)] | Loss 32486.914062 | Likelihood -32486.914062 | KL fp 0.0000 | FP STD 0.0000|\n",
      "KL coef: 0.5433902522560855\n",
      "Train loss (one batch): 35249.4375\n",
      "Train CE loss (one batch): 0.0\n",
      "Test MSE: 0.0650\n",
      "Poisson likelihood: 0.0\n",
      "CE loss: 0.0\n"
     ]
    },
    {
     "name": "stdout",
     "output_type": "stream",
     "text": [
      "Computing loss... 0\n"
     ]
    },
    {
     "name": "stderr",
     "output_type": "stream",
     "text": [
      "Experiment 51614\n",
      "Epoch 0089 [Test seq (cond on sampled tp)] | Loss 32836.941406 | Likelihood -32836.941406 | KL fp 0.0000 | FP STD 0.0000|\n",
      "KL coef: 0.5479563497335247\n",
      "Train loss (one batch): 32144.0234375\n",
      "Train CE loss (one batch): 0.0\n",
      "Test MSE: 0.0657\n",
      "Poisson likelihood: 0.0\n",
      "CE loss: 0.0\n"
     ]
    },
    {
     "name": "stdout",
     "output_type": "stream",
     "text": [
      "Computing loss... 0\n"
     ]
    },
    {
     "name": "stderr",
     "output_type": "stream",
     "text": [
      "Experiment 51614\n",
      "Epoch 0090 [Test seq (cond on sampled tp)] | Loss 32849.164062 | Likelihood -32849.164062 | KL fp 0.0000 | FP STD 0.0000|\n",
      "KL coef: 0.5524767862361895\n",
      "Train loss (one batch): 29840.875\n",
      "Train CE loss (one batch): 0.0\n",
      "Test MSE: 0.0657\n",
      "Poisson likelihood: 0.0\n",
      "CE loss: 0.0\n"
     ]
    },
    {
     "name": "stdout",
     "output_type": "stream",
     "text": [
      "Computing loss... 0\n"
     ]
    },
    {
     "name": "stderr",
     "output_type": "stream",
     "text": [
      "Experiment 51614\n",
      "Epoch 0091 [Test seq (cond on sampled tp)] | Loss 32663.330078 | Likelihood -32663.330078 | KL fp 0.0000 | FP STD 0.0000|\n",
      "KL coef: 0.5569520183738275\n",
      "Train loss (one batch): 29604.3203125\n",
      "Train CE loss (one batch): 0.0\n",
      "Test MSE: 0.0653\n",
      "Poisson likelihood: 0.0\n",
      "CE loss: 0.0\n"
     ]
    },
    {
     "name": "stdout",
     "output_type": "stream",
     "text": [
      "Computing loss... 0\n"
     ]
    },
    {
     "name": "stderr",
     "output_type": "stream",
     "text": [
      "Experiment 51614\n",
      "Epoch 0092 [Test seq (cond on sampled tp)] | Loss 32973.878906 | Likelihood -32973.878906 | KL fp 0.0000 | FP STD 0.0000|\n",
      "KL coef: 0.5613824981900892\n",
      "Train loss (one batch): 32306.78515625\n",
      "Train CE loss (one batch): 0.0\n",
      "Test MSE: 0.0660\n",
      "Poisson likelihood: 0.0\n",
      "CE loss: 0.0\n"
     ]
    },
    {
     "name": "stdout",
     "output_type": "stream",
     "text": [
      "Computing loss... 0\n"
     ]
    },
    {
     "name": "stderr",
     "output_type": "stream",
     "text": [
      "Experiment 51614\n",
      "Epoch 0093 [Test seq (cond on sampled tp)] | Loss 32595.087891 | Likelihood -32595.087891 | KL fp 0.0000 | FP STD 0.0000|\n",
      "KL coef: 0.5657686732081884\n",
      "Train loss (one batch): 33601.71484375\n",
      "Train CE loss (one batch): 0.0\n",
      "Test MSE: 0.0652\n",
      "Poisson likelihood: 0.0\n",
      "CE loss: 0.0\n"
     ]
    },
    {
     "name": "stdout",
     "output_type": "stream",
     "text": [
      "Computing loss... 0\n"
     ]
    },
    {
     "name": "stderr",
     "output_type": "stream",
     "text": [
      "Experiment 51614\n",
      "Epoch 0094 [Test seq (cond on sampled tp)] | Loss 32498.460938 | Likelihood -32498.460938 | KL fp 0.0000 | FP STD 0.0000|\n",
      "KL coef: 0.5701109864761065\n",
      "Train loss (one batch): 31021.029296875\n",
      "Train CE loss (one batch): 0.0\n",
      "Test MSE: 0.0650\n",
      "Poisson likelihood: 0.0\n",
      "CE loss: 0.0\n"
     ]
    },
    {
     "name": "stdout",
     "output_type": "stream",
     "text": [
      "Computing loss... 0\n"
     ]
    },
    {
     "name": "stderr",
     "output_type": "stream",
     "text": [
      "Experiment 51614\n",
      "Epoch 0095 [Test seq (cond on sampled tp)] | Loss 32329.455078 | Likelihood -32329.455078 | KL fp 0.0000 | FP STD 0.0000|\n",
      "KL coef: 0.5744098766113455\n",
      "Train loss (one batch): 31832.68359375\n",
      "Train CE loss (one batch): 0.0\n",
      "Test MSE: 0.0647\n",
      "Poisson likelihood: 0.0\n",
      "CE loss: 0.0\n"
     ]
    },
    {
     "name": "stdout",
     "output_type": "stream",
     "text": [
      "Computing loss... 0\n"
     ]
    },
    {
     "name": "stderr",
     "output_type": "stream",
     "text": [
      "Experiment 51614\n",
      "Epoch 0096 [Test seq (cond on sampled tp)] | Loss 32217.285156 | Likelihood -32217.285156 | KL fp 0.0000 | FP STD 0.0000|\n",
      "KL coef: 0.578665777845232\n",
      "Train loss (one batch): 30313.90625\n",
      "Train CE loss (one batch): 0.0\n",
      "Test MSE: 0.0644\n",
      "Poisson likelihood: 0.0\n",
      "CE loss: 0.0\n"
     ]
    },
    {
     "name": "stdout",
     "output_type": "stream",
     "text": [
      "Computing loss... 0\n"
     ]
    },
    {
     "name": "stderr",
     "output_type": "stream",
     "text": [
      "Experiment 51614\n",
      "Epoch 0097 [Test seq (cond on sampled tp)] | Loss 31598.837891 | Likelihood -31598.837891 | KL fp 0.0000 | FP STD 0.0000|\n",
      "KL coef: 0.5828791200667797\n",
      "Train loss (one batch): 30920.33203125\n",
      "Train CE loss (one batch): 0.0\n",
      "Test MSE: 0.0632\n",
      "Poisson likelihood: 0.0\n",
      "CE loss: 0.0\n"
     ]
    },
    {
     "name": "stdout",
     "output_type": "stream",
     "text": [
      "Computing loss... 0\n"
     ]
    },
    {
     "name": "stderr",
     "output_type": "stream",
     "text": [
      "Experiment 51614\n",
      "Epoch 0098 [Test seq (cond on sampled tp)] | Loss 32535.734375 | Likelihood -32535.734375 | KL fp 0.0000 | FP STD 0.0000|\n",
      "KL coef: 0.5870503288661119\n",
      "Train loss (one batch): 31092.46875\n",
      "Train CE loss (one batch): 0.0\n",
      "Test MSE: 0.0651\n",
      "Poisson likelihood: 0.0\n",
      "CE loss: 0.0\n"
     ]
    },
    {
     "name": "stdout",
     "output_type": "stream",
     "text": [
      "Computing loss... 0\n"
     ]
    },
    {
     "name": "stderr",
     "output_type": "stream",
     "text": [
      "Experiment 51614\n",
      "Epoch 0099 [Test seq (cond on sampled tp)] | Loss 31863.800781 | Likelihood -31863.800781 | KL fp 0.0000 | FP STD 0.0000|\n",
      "KL coef: 0.5911798255774507\n",
      "Train loss (one batch): 33590.34765625\n",
      "Train CE loss (one batch): 0.0\n",
      "Test MSE: 0.0637\n",
      "Poisson likelihood: 0.0\n",
      "CE loss: 0.0\n"
     ]
    },
    {
     "name": "stdout",
     "output_type": "stream",
     "text": [
      "Computing loss... 0\n"
     ]
    },
    {
     "name": "stderr",
     "output_type": "stream",
     "text": [
      "Experiment 51614\n",
      "Epoch 0100 [Test seq (cond on sampled tp)] | Loss 31816.326172 | Likelihood -31816.326172 | KL fp 0.0000 | FP STD 0.0000|\n",
      "KL coef: 0.5952680273216762\n",
      "Train loss (one batch): 30167.443359375\n",
      "Train CE loss (one batch): 0.0\n",
      "Test MSE: 0.0636\n",
      "Poisson likelihood: 0.0\n",
      "CE loss: 0.0\n"
     ]
    },
    {
     "name": "stdout",
     "output_type": "stream",
     "text": [
      "Training complete. Model saved.\n"
     ]
    }
   ],
   "source": [
    "for itr in range(1, num_batches * (args.niters + 1)):\n",
    "\t\toptimizer.zero_grad()\n",
    "\t\tutils.update_learning_rate(optimizer, decay_rate = 0.999, lowest = args.lr / 10)\n",
    "\n",
    "\t\twait_until_kl_inc = 10\n",
    "\t\tif itr // num_batches < wait_until_kl_inc:\n",
    "\t\t\tkl_coef = 0.\n",
    "\t\telse:\n",
    "\t\t\tkl_coef = (1-0.99** (itr // num_batches - wait_until_kl_inc))\n",
    "\n",
    "\t\tbatch_dict = utils.get_next_batch(data_obj[\"train_dataloader\"])\n",
    "\n",
    "\t\ttrain_res = model.compute_all_losses(batch_dict, n_traj_samples = 3, kl_coef = kl_coef) #n_tp_to_sample=200\n",
    "\t\ttrain_res[\"loss\"].backward()\n",
    "\t\toptimizer.step()\n",
    "\n",
    "\t\tn_iters_to_viz = 1\n",
    "\t\tif itr % (n_iters_to_viz * num_batches) == 0:\n",
    "\t\t\twith torch.no_grad():\n",
    "\n",
    "\t\t\t\ttest_res = compute_loss_all_batches(model, \n",
    "\t\t\t\t\tdata_obj[\"test_dataloader\"], args,\n",
    "\t\t\t\t\tn_batches = data_obj[\"n_test_batches\"],\n",
    "\t\t\t\t\texperimentID = experimentID,\n",
    "\t\t\t\t\tdevice = device,\n",
    "\t\t\t\t\tn_traj_samples = 3, kl_coef = kl_coef)\n",
    "\n",
    "\t\t\t\tmessage = 'Epoch {:04d} [Test seq (cond on sampled tp)] | Loss {:.6f} | Likelihood {:.6f} | KL fp {:.4f} | FP STD {:.4f}|'.format(\n",
    "\t\t\t\t\titr//num_batches, \n",
    "\t\t\t\t\ttest_res[\"loss\"].detach(), test_res[\"likelihood\"].detach(), \n",
    "\t\t\t\t\ttest_res[\"kl_first_p\"], test_res[\"std_first_p\"])\n",
    "\t\t \t\n",
    "\t\t\t\tlogger.info(\"Experiment \" + str(experimentID))\n",
    "\t\t\t\tlogger.info(message)\n",
    "\t\t\t\tlogger.info(\"KL coef: {}\".format(kl_coef))\n",
    "\t\t\t\tlogger.info(\"Train loss (one batch): {}\".format(train_res[\"loss\"].detach()))\n",
    "\t\t\t\tlogger.info(\"Train CE loss (one batch): {}\".format(train_res[\"ce_loss\"].detach()))\n",
    "\t\t\t\t\n",
    "\t\t\t\tif \"auc\" in test_res:\n",
    "\t\t\t\t\tlogger.info(\"Classification AUC (TEST): {:.4f}\".format(test_res[\"auc\"]))\n",
    "\n",
    "\t\t\t\tif \"mse\" in test_res:\n",
    "\t\t\t\t\tlogger.info(\"Test MSE: {:.4f}\".format(test_res[\"mse\"]))\n",
    "\n",
    "\t\t\t\tif \"accuracy\" in train_res:\n",
    "\t\t\t\t\tlogger.info(\"Classification accuracy (TRAIN): {:.4f}\".format(train_res[\"accuracy\"]))\n",
    "\n",
    "\t\t\t\tif \"accuracy\" in test_res:\n",
    "\t\t\t\t\tlogger.info(\"Classification accuracy (TEST): {:.4f}\".format(test_res[\"accuracy\"]))\n",
    "\n",
    "\t\t\t\tif \"pois_likelihood\" in test_res:\n",
    "\t\t\t\t\tlogger.info(\"Poisson likelihood: {}\".format(test_res[\"pois_likelihood\"]))\n",
    "\n",
    "\t\t\t\tif \"ce_loss\" in test_res:\n",
    "\t\t\t\t\tlogger.info(\"CE loss: {}\".format(test_res[\"ce_loss\"]))\n",
    "\n",
    "\t\t\ttorch.save({\n",
    "\t\t\t\t'args': args,\n",
    "\t\t\t\t'state_dict': model.state_dict(),\n",
    "\t\t\t}, ckpt_path)\n",
    "torch.save({\n",
    "    'args': args,\n",
    "    'state_dict': model.state_dict(),\n",
    "}, ckpt_path)\n",
    "\n",
    "print(\"Training complete. Model saved.\")\n"
   ]
  },
  {
   "cell_type": "code",
   "execution_count": 16,
   "metadata": {},
   "outputs": [],
   "source": [
    "ckpt_path=r\"C:\\Users\\msi\\Desktop\\ECE-228\\Project\\latent_ode_ece_228\\experiments\\experiment_ODE_RNN_0.3.ckpt\""
   ]
  },
  {
   "cell_type": "code",
   "execution_count": 17,
   "metadata": {},
   "outputs": [],
   "source": [
    "utils.get_ckpt_model(ckpt_path, model, device)"
   ]
  },
  {
   "cell_type": "code",
   "execution_count": 18,
   "metadata": {},
   "outputs": [],
   "source": [
    "test_dict = utils.get_next_batch(data_obj[\"test_dataloader\"])"
   ]
  },
  {
   "cell_type": "code",
   "execution_count": 19,
   "metadata": {},
   "outputs": [
    {
     "name": "stderr",
     "output_type": "stream",
     "text": [
      "c:\\Users\\msi\\anaconda3\\envs\\py310\\lib\\site-packages\\torchdiffeq\\_impl\\misc.py:296: UserWarning: t is not on the same device as y0. Coercing to y0.device.\n",
      "  warnings.warn(\"t is not on the same device as y0. Coercing to y0.device.\")\n"
     ]
    }
   ],
   "source": [
    "data =  test_dict[\"data_to_predict\"]\n",
    "time_steps = test_dict[\"tp_to_predict\"]\n",
    "mask = test_dict[\"mask_predicted_data\"]\n",
    "\t\t\n",
    "observed_data =  test_dict[\"observed_data\"]\n",
    "observed_time_steps = test_dict[\"observed_tp\"]\n",
    "observed_mask = test_dict[\"observed_mask\"]\n",
    "\n",
    "device = utils.get_device(time_steps)\n",
    "\n",
    "time_steps_to_predict = time_steps\n",
    "\n",
    "\n",
    "if isinstance(model, LatentODE):\n",
    "\t# sample at the original time points\n",
    "\ttime_steps_to_predict = utils.linspace_vector(time_steps[0], time_steps[-1], 100).to(device)\n",
    "\n",
    "reconstructions, info = model.get_reconstruction(time_steps_to_predict, \n",
    "\tobserved_data, observed_time_steps, mask = observed_mask, n_traj_samples = 10)"
   ]
  },
  {
   "cell_type": "code",
   "execution_count": 20,
   "metadata": {},
   "outputs": [
    {
     "data": {
      "text/plain": [
       "torch.Size([2000, 100, 17])"
      ]
     },
     "execution_count": 20,
     "metadata": {},
     "output_type": "execute_result"
    }
   ],
   "source": [
    "observed_data.shape"
   ]
  },
  {
   "cell_type": "code",
   "execution_count": 21,
   "metadata": {},
   "outputs": [
    {
     "data": {
      "text/plain": [
       "torch.Size([1, 2000, 100, 17])"
      ]
     },
     "execution_count": 21,
     "metadata": {},
     "output_type": "execute_result"
    }
   ],
   "source": [
    "reconstructions.shape\n"
   ]
  },
  {
   "cell_type": "code",
   "execution_count": 22,
   "metadata": {},
   "outputs": [
    {
     "data": {
      "text/plain": [
       "torch.Size([2000, 100, 17])"
      ]
     },
     "execution_count": 22,
     "metadata": {},
     "output_type": "execute_result"
    }
   ],
   "source": [
    "reconstructions.mean(dim=0).detach().shape"
   ]
  },
  {
   "cell_type": "code",
   "execution_count": 23,
   "metadata": {},
   "outputs": [],
   "source": [
    "# import cv2\n",
    "# import glob\n",
    "# def frames_to_video(frames_dir, output_video_path, fps=30):\n",
    "#     frames = sorted(glob.glob(os.path.join(frames_dir, \"*.jpg\")))\n",
    "\n",
    "#     frame = cv2.imread(frames[0])\n",
    "#     height, width, layers = frame.shape\n",
    "\n",
    "#     fourcc = cv2.VideoWriter_fourcc(*'XVID')\n",
    "#     video = cv2.VideoWriter(output_video_path, fourcc, fps, (width, height))\n",
    "\n",
    "#     for frame_file in frames:\n",
    "#         frame = cv2.imread(frame_file)\n",
    "#         video.write(frame)\n",
    "\n",
    "#     video.release()\n",
    "\n",
    "#     print(f\"Video saved as {output_video_path}\")"
   ]
  },
  {
   "cell_type": "code",
   "execution_count": 24,
   "metadata": {},
   "outputs": [],
   "source": [
    "# traj_index=5\n",
    "# percentage=str(args.sample_tp)\n",
    "# model=model.__class__.__name__"
   ]
  },
  {
   "cell_type": "code",
   "execution_count": 25,
   "metadata": {},
   "outputs": [
    {
     "name": "stderr",
     "output_type": "stream",
     "text": [
      "MUJOCO_GL is not set, so an OpenGL backend will be chosen automatically.\n",
      "Successfully imported OpenGL backend: glfw\n",
      "MuJoCo library version is: 3.1.5\n"
     ]
    },
    {
     "name": "stdout",
     "output_type": "stream",
     "text": [
      "Video saved as gt_render_5_0.2_ODE_RNN/ground_truth.mp4\n"
     ]
    }
   ],
   "source": [
    "# output_dir= f\"gt_render_{traj_index}_{percentage}_{model}\"\n",
    "# hopper = HopperPhysics(root='data', download=False, generate=False)\n",
    "# hopper.visualize(observed_data[traj_index], plot_name=f'traj_{traj_index}', dirname=output_dir)\n",
    "# output_vid_gt=f\"{output_dir}/ground_truth.mp4\"\n",
    "# frames_to_video(output_dir,output_vid_gt)"
   ]
  },
  {
   "cell_type": "code",
   "execution_count": 26,
   "metadata": {},
   "outputs": [
    {
     "name": "stdout",
     "output_type": "stream",
     "text": [
      "Video saved as pred_render_5_0.2_ODE_RNN/predicted.mp4\n"
     ]
    }
   ],
   "source": [
    "# output_dir= f\"pred_render_{traj_index}_{percentage}_{model}\"\n",
    "# hopper.visualize(reconstructions.mean(dim=0)[traj_index].detach(), plot_name=f'traj_{traj_index}', dirname=output_dir)\n",
    "# output_vid_gt=f\"{output_dir}/predicted.mp4\"\n",
    "#  frames_to_video(output_dir,output_vid_gt)"
   ]
  }
 ],
 "metadata": {
  "kernelspec": {
   "display_name": "py310",
   "language": "python",
   "name": "python3"
  },
  "language_info": {
   "codemirror_mode": {
    "name": "ipython",
    "version": 3
   },
   "file_extension": ".py",
   "mimetype": "text/x-python",
   "name": "python",
   "nbconvert_exporter": "python",
   "pygments_lexer": "ipython3",
   "version": "3.10.14"
  }
 },
 "nbformat": 4,
 "nbformat_minor": 2
}
