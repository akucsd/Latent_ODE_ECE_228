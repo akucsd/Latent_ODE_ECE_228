{
 "cells": [
  {
   "cell_type": "code",
   "execution_count": 12,
   "metadata": {},
   "outputs": [],
   "source": [
    "import torch"
   ]
  },
  {
   "cell_type": "code",
   "execution_count": 17,
   "metadata": {},
   "outputs": [
    {
     "name": "stdout",
     "output_type": "stream",
     "text": [
      "<class 'numpy.ndarray'>\n",
      "[[ 1.24253135e+00  7.33554331e-02 -9.22713499e-02 ... -9.67184622e+00\n",
      "   8.44237487e-02  1.00000000e+01]\n",
      " [ 1.23734720e+00 -3.47227603e-05 -1.64244247e-01 ... -1.00000000e+01\n",
      "  -2.24029007e-01  1.00000000e+01]\n",
      " [ 1.22821327e+00 -5.99233017e-02 -2.12113277e-01 ... -2.73243950e+00\n",
      "  -4.60462723e+00  1.00000000e+01]\n",
      " ...\n",
      " [ 1.16613095e+00  4.92712358e-01 -2.51073323e-01 ... -6.08791291e-01\n",
      "   1.88651085e-01 -5.12033658e+00]\n",
      " [ 1.16770502e+00  5.20279291e-01 -2.09359102e-01 ... -5.92168526e-01\n",
      "   1.61293757e-01 -6.65626808e+00]\n",
      " [ 1.17022380e+00  5.45342541e-01 -1.69437423e-01 ... -5.32588379e-01\n",
      "   1.34859732e-01 -8.31097212e+00]]\n"
     ]
    }
   ],
   "source": [
    "root = r\"C:\\Users\\msi\\Desktop\\ECE-228\\Project\\latent_ode_ece_228\\walker\\training.pt\"\n",
    "\n",
    "dataset =torch.load(root)\n",
    "\n",
    "print(type(dataset))\n",
    "print(dataset[9999])"
   ]
  }
 ],
 "metadata": {
  "kernelspec": {
   "display_name": "py310",
   "language": "python",
   "name": "python3"
  },
  "language_info": {
   "codemirror_mode": {
    "name": "ipython",
    "version": 3
   },
   "file_extension": ".py",
   "mimetype": "text/x-python",
   "name": "python",
   "nbconvert_exporter": "python",
   "pygments_lexer": "ipython3",
   "version": "3.10.14"
  }
 },
 "nbformat": 4,
 "nbformat_minor": 2
}
